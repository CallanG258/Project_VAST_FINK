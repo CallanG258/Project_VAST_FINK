{
 "cells": [
  {
   "cell_type": "markdown",
   "id": "f4d52a51-7a95-4677-8521-718c4fca356e",
   "metadata": {},
   "source": [
    "## FINK Lightcurve Plotting"
   ]
  },
  {
   "cell_type": "markdown",
   "id": "ebc0140d-0587-4fe0-963b-a5dbf86b8cba",
   "metadata": {},
   "source": [
    "The objective of this notebook is to test out plotting optical ligthcurves for the crossmatched sources identified by FINK. Here, I can edit things in isolation of a larger notebook that contains other bits of code unrelated to optical light curve plotting.\n",
    "\n",
    "NOTE: the plot_photometry() function defined in this notebook produces a 'None' object if vasttools is imported before the plot is made for some reason."
   ]
  },
  {
   "cell_type": "code",
   "execution_count": 1,
   "id": "2a95144a-49cf-4ae0-b04c-8a311af76154",
   "metadata": {},
   "outputs": [],
   "source": [
    "    #import os\n",
    "    #import requests\n",
    "    #import pandas as pd\n",
    "    #from io import StringIO\n",
    "    #import numpy as np\n",
    "    #import matplotlib.pyplot as plt\n",
    "#from vasttools.pipeline import Pipeline\n",
    "#from vasttools.query import Query\n",
    "    #from bokeh.io import output_notebook\n",
    "    #from bokeh.plotting import show\n",
    "    #from astropy.coordinates import Angle, SkyCoord\n",
    "    #from astropy import units as u\n",
    "    #output_notebook()"
   ]
  },
  {
   "cell_type": "code",
   "execution_count": 2,
   "id": "6c19b82d-5267-41fb-abc4-d46a27673d73",
   "metadata": {},
   "outputs": [],
   "source": [
    "import os\n",
    "import requests\n",
    "import pandas as pd\n",
    "import numpy as np\n",
    "import matplotlib.pyplot as plt\n",
    "from io import StringIO"
   ]
  },
  {
   "cell_type": "code",
   "execution_count": 3,
   "id": "d3ffa328-57f3-4205-bf95-33caa0dbb2d1",
   "metadata": {},
   "outputs": [
    {
     "data": {
      "text/plain": [
       "'/home/jovyan/work/Project_VAST_FINK'"
      ]
     },
     "execution_count": 3,
     "metadata": {},
     "output_type": "execute_result"
    }
   ],
   "source": [
    "os.chdir('Project_VAST_FINK')\n",
    "os.getcwd()"
   ]
  },
  {
   "cell_type": "code",
   "execution_count": 4,
   "id": "4ccac5f3-93ac-4b8d-a4d3-27775199020d",
   "metadata": {},
   "outputs": [],
   "source": [
    "cmf = pd.read_pickle('Fink_2020_sources_matched_to_VAST_all_sources.pickle')"
   ]
  },
  {
   "cell_type": "code",
   "execution_count": 5,
   "id": "8fbe71fa-97f8-4912-ac8c-34284d1043da",
   "metadata": {},
   "outputs": [],
   "source": [
    "AGN_Family=[\n",
    "'AGN',\n",
    "'AGN_Candidate',\n",
    "'QSO',\n",
    "'QSO_Candidate',\n",
    "'Seyfert',\n",
    "'Seyfert_1',\n",
    "'Seyfert_2',\n",
    "'Blazar',\n",
    "'BLLac',\n",
    "'Blazar_Candidate',\n",
    "'RadioG',\n",
    "'LINER'\n",
    "]\n",
    "\n",
    "Unknown_Family=[\n",
    "'Unknown'\n",
    "]\n",
    "\n",
    "Galaxy_Family=[\n",
    "'Galaxy',\n",
    "'EmG',\n",
    "'HII_G',\n",
    "'GroupG',\n",
    "'GinGroup',\n",
    "'GinCl',\n",
    "'GinPair',\n",
    "'BClG',\n",
    "'PartofG'\n",
    "]\n",
    "\n",
    "Stars_Family=[\n",
    "'Star',\n",
    "'RRLyr',\n",
    "'Candidate_RRLyr',\n",
    "'EB*',\n",
    "'Candidate_EB*',\n",
    "'WD*',\n",
    "'LMXB',\n",
    "'CataclyV*',\n",
    "'low-mass*'\n",
    "]\n",
    "\n",
    "Supernovae_Family=[\n",
    "'SN',\n",
    "'SN candidate'\n",
    "]\n",
    "\n",
    "Radio_Family=[\n",
    "'Radio',\n",
    "'Radio(cm)'\n",
    "]\n",
    "\n",
    "Multiwavelength_Family=[\n",
    "'Blue',\n",
    "'UV',\n",
    "'X'\n",
    "]\n",
    "\n",
    "Solar_System_Family=[\n",
    "'Solar System',\n",
    "'Solar System MPC',\n",
    "'Solar System candidate',\n",
    "]"
   ]
  },
  {
   "cell_type": "code",
   "execution_count": 6,
   "id": "9b6bd11b-86cf-44ae-87cb-3282c3ccea2e",
   "metadata": {},
   "outputs": [],
   "source": [
    "Source_Families=[] #define an empty array\n",
    "for i, row in cmf.iterrows(): #'i' represents the first index in cmf.iterrows, 'row' is the second\n",
    "    x=row['class'] #this pulls out the class column from eachrow\n",
    "    for j in AGN_Family: #for all the classes listed in the AGN family\n",
    "        if x==j: #if it matches the class of the row\n",
    "            Source_Families.append('AGN') #add 'AGN' to the empty array\n",
    "    else: #otherwise, check the other families to see if it matches\n",
    "        for j in Unknown_Family:\n",
    "            if x==j:\n",
    "                Source_Families.append('Unknown')\n",
    "        else:\n",
    "            for j in Galaxy_Family:\n",
    "                if x==j:\n",
    "                    Source_Families.append('Galaxy')\n",
    "            else:\n",
    "                for j in Stars_Family:\n",
    "                    if x==j:\n",
    "                        Source_Families.append('Star')\n",
    "                else:\n",
    "                    for j in Supernovae_Family:\n",
    "                        if x==j:\n",
    "                            Source_Families.append('Supernova')\n",
    "                    else:\n",
    "                        for j in Radio_Family:\n",
    "                            if x==j:\n",
    "                                Source_Families.append('Radio')\n",
    "                        else:\n",
    "                            for j in Multiwavelength_Family:\n",
    "                                if x==j:\n",
    "                                    Source_Families.append('Multiwavelength')\n",
    "                            else:\n",
    "                                for j in Solar_System_Family:\n",
    "                                    if x==j:\n",
    "                                        Source_Families.append('Solar System')\n",
    "                                    \n",
    "cmf['family']=Source_Families"
   ]
  },
  {
   "cell_type": "code",
   "execution_count": 7,
   "id": "6fc41ef7-2e1a-4c77-91bd-1e7eaa779005",
   "metadata": {},
   "outputs": [],
   "source": [
    "#cmf.groupby('family').size().sort_values(ascending=False)"
   ]
  },
  {
   "cell_type": "code",
   "execution_count": 8,
   "id": "f271f349-c1df-4c95-8584-85cfa2806666",
   "metadata": {},
   "outputs": [
    {
     "data": {
      "text/html": [
       "<div>\n",
       "<style scoped>\n",
       "    .dataframe tbody tr th:only-of-type {\n",
       "        vertical-align: middle;\n",
       "    }\n",
       "\n",
       "    .dataframe tbody tr th {\n",
       "        vertical-align: top;\n",
       "    }\n",
       "\n",
       "    .dataframe thead th {\n",
       "        text-align: right;\n",
       "    }\n",
       "</style>\n",
       "<table border=\"1\" class=\"dataframe\">\n",
       "  <thead>\n",
       "    <tr style=\"text-align: right;\">\n",
       "      <th></th>\n",
       "      <th>objectId</th>\n",
       "      <th>matched_id</th>\n",
       "      <th>class</th>\n",
       "      <th>cdsxmatch</th>\n",
       "      <th>ra</th>\n",
       "      <th>dec</th>\n",
       "      <th>family</th>\n",
       "    </tr>\n",
       "  </thead>\n",
       "  <tbody>\n",
       "    <tr>\n",
       "      <th>1</th>\n",
       "      <td>ZTF18abtjmuc</td>\n",
       "      <td>3800801</td>\n",
       "      <td>Seyfert_1</td>\n",
       "      <td>Seyfert_1</td>\n",
       "      <td>312.923125</td>\n",
       "      <td>0.859951</td>\n",
       "      <td>AGN</td>\n",
       "    </tr>\n",
       "    <tr>\n",
       "      <th>2</th>\n",
       "      <td>ZTF18abwwswg</td>\n",
       "      <td>3183786</td>\n",
       "      <td>QSO</td>\n",
       "      <td>QSO</td>\n",
       "      <td>356.166843</td>\n",
       "      <td>-0.542217</td>\n",
       "      <td>AGN</td>\n",
       "    </tr>\n",
       "    <tr>\n",
       "      <th>6</th>\n",
       "      <td>ZTF18acvkdtz</td>\n",
       "      <td>3440328</td>\n",
       "      <td>QSO</td>\n",
       "      <td>QSO</td>\n",
       "      <td>218.815233</td>\n",
       "      <td>2.539290</td>\n",
       "      <td>AGN</td>\n",
       "    </tr>\n",
       "    <tr>\n",
       "      <th>8</th>\n",
       "      <td>ZTF18aczersz</td>\n",
       "      <td>3438778</td>\n",
       "      <td>QSO</td>\n",
       "      <td>QSO</td>\n",
       "      <td>202.003044</td>\n",
       "      <td>2.455322</td>\n",
       "      <td>AGN</td>\n",
       "    </tr>\n",
       "    <tr>\n",
       "      <th>12</th>\n",
       "      <td>ZTF19aainjyb</td>\n",
       "      <td>3465921</td>\n",
       "      <td>BLLac</td>\n",
       "      <td>BLLac</td>\n",
       "      <td>40.234092</td>\n",
       "      <td>-5.078465</td>\n",
       "      <td>AGN</td>\n",
       "    </tr>\n",
       "    <tr>\n",
       "      <th>...</th>\n",
       "      <td>...</td>\n",
       "      <td>...</td>\n",
       "      <td>...</td>\n",
       "      <td>...</td>\n",
       "      <td>...</td>\n",
       "      <td>...</td>\n",
       "      <td>...</td>\n",
       "    </tr>\n",
       "    <tr>\n",
       "      <th>1759</th>\n",
       "      <td>ZTF20acaraky</td>\n",
       "      <td>3796834</td>\n",
       "      <td>QSO</td>\n",
       "      <td>QSO</td>\n",
       "      <td>33.374515</td>\n",
       "      <td>-5.360879</td>\n",
       "      <td>AGN</td>\n",
       "    </tr>\n",
       "    <tr>\n",
       "      <th>1761</th>\n",
       "      <td>ZTF20acdcick</td>\n",
       "      <td>3321302</td>\n",
       "      <td>QSO</td>\n",
       "      <td>QSO</td>\n",
       "      <td>350.769231</td>\n",
       "      <td>-1.846684</td>\n",
       "      <td>AGN</td>\n",
       "    </tr>\n",
       "    <tr>\n",
       "      <th>1763</th>\n",
       "      <td>ZTF20acekiug</td>\n",
       "      <td>3727622</td>\n",
       "      <td>QSO</td>\n",
       "      <td>QSO</td>\n",
       "      <td>26.982498</td>\n",
       "      <td>-4.306445</td>\n",
       "      <td>AGN</td>\n",
       "    </tr>\n",
       "    <tr>\n",
       "      <th>1769</th>\n",
       "      <td>ZTF20acpcmmy</td>\n",
       "      <td>3595707</td>\n",
       "      <td>LINER</td>\n",
       "      <td>LINER</td>\n",
       "      <td>339.171540</td>\n",
       "      <td>0.042716</td>\n",
       "      <td>AGN</td>\n",
       "    </tr>\n",
       "    <tr>\n",
       "      <th>1770</th>\n",
       "      <td>ZTF20acpdwqq</td>\n",
       "      <td>4005890</td>\n",
       "      <td>AGN</td>\n",
       "      <td>AGN</td>\n",
       "      <td>59.176970</td>\n",
       "      <td>-8.399412</td>\n",
       "      <td>AGN</td>\n",
       "    </tr>\n",
       "  </tbody>\n",
       "</table>\n",
       "<p>827 rows × 7 columns</p>\n",
       "</div>"
      ],
      "text/plain": [
       "          objectId matched_id      class  cdsxmatch          ra       dec  \\\n",
       "1     ZTF18abtjmuc    3800801  Seyfert_1  Seyfert_1  312.923125  0.859951   \n",
       "2     ZTF18abwwswg    3183786        QSO        QSO  356.166843 -0.542217   \n",
       "6     ZTF18acvkdtz    3440328        QSO        QSO  218.815233  2.539290   \n",
       "8     ZTF18aczersz    3438778        QSO        QSO  202.003044  2.455322   \n",
       "12    ZTF19aainjyb    3465921      BLLac      BLLac   40.234092 -5.078465   \n",
       "...            ...        ...        ...        ...         ...       ...   \n",
       "1759  ZTF20acaraky    3796834        QSO        QSO   33.374515 -5.360879   \n",
       "1761  ZTF20acdcick    3321302        QSO        QSO  350.769231 -1.846684   \n",
       "1763  ZTF20acekiug    3727622        QSO        QSO   26.982498 -4.306445   \n",
       "1769  ZTF20acpcmmy    3595707      LINER      LINER  339.171540  0.042716   \n",
       "1770  ZTF20acpdwqq    4005890        AGN        AGN   59.176970 -8.399412   \n",
       "\n",
       "     family  \n",
       "1       AGN  \n",
       "2       AGN  \n",
       "6       AGN  \n",
       "8       AGN  \n",
       "12      AGN  \n",
       "...     ...  \n",
       "1759    AGN  \n",
       "1761    AGN  \n",
       "1763    AGN  \n",
       "1769    AGN  \n",
       "1770    AGN  \n",
       "\n",
       "[827 rows x 7 columns]"
      ]
     },
     "execution_count": 8,
     "metadata": {},
     "output_type": "execute_result"
    }
   ],
   "source": [
    "#were going to test some FINK querying with the smallest family: 'Stars'\n",
    "my_sources=cmf.query('family == \"AGN\"')\n",
    "my_sources"
   ]
  },
  {
   "cell_type": "markdown",
   "id": "461c351c-411b-4ef0-9696-1f91fc4911d2",
   "metadata": {},
   "source": [
    "So what I want to do here is query all the FINK data for the catalogue sources, from a specific family or not, then select one of those sources to have their light curve plotted."
   ]
  },
  {
   "cell_type": "code",
   "execution_count": 18,
   "id": "855d8a85-ea1f-4433-8aa0-3b361255fa67",
   "metadata": {},
   "outputs": [],
   "source": [
    "#retreiving object data for several objects at once using the objectId list (with upperlim):\n",
    "Idlist=my_sources['objectId'].to_list()\n",
    "\n",
    "#defining column array for cutouts\n",
    "cutouts=[\n",
    "'b:cutoutScience_stampData',\n",
    "'b:cutoutTemplate_stampData',\n",
    "'b:cutoutDifference_stampData'\n",
    "]\n",
    "\n",
    "#this is the request made to the fink portal to pull out the info for each source\n",
    "r = requests.post(\n",
    "  'https://fink-portal.org/api/v1/objects',\n",
    "  json={\n",
    "    'objectId': 'ZTF18acetvcr',\n",
    "    'output-format': 'json',\n",
    "    'withcutouts': 'True',\n",
    "    'cols': ','.join(cutouts),\n",
    "    'withupperlim': 'True' #important for lightcurve plotting\n",
    "  }\n",
    ")"
   ]
  },
  {
   "cell_type": "code",
   "execution_count": 19,
   "id": "05bdc8d9-5633-4903-aadf-33f8301edfeb",
   "metadata": {},
   "outputs": [],
   "source": [
    "#reads in json file data as DataFrame. fsd stands for 'FINK source data'\n",
    "fsd=pd.read_json(StringIO(r.content.decode()))"
   ]
  },
  {
   "cell_type": "markdown",
   "id": "877afaa8-4238-4a68-a8c8-93c8acb7457e",
   "metadata": {},
   "source": [
    "Seems like a lot of empty cells? is that intentional or a bug? This is only present when the \"upperlim\" condition is added into the request"
   ]
  },
  {
   "cell_type": "code",
   "execution_count": 20,
   "id": "e6f46194-76db-49cc-99d4-ffbc8a8a7429",
   "metadata": {},
   "outputs": [],
   "source": [
    "#defining the photometry plotting function here to save having to rerun it everytime:\n",
    "\n",
    "def plot_photometry(pdf):\n",
    "    fig = plt.figure(figsize=(15, 6))\n",
    "\n",
    "    colordic = {1: 'C0', 2: 'C1'}\n",
    "\n",
    "    for filt in np.unique(pdf['i:fid']):\n",
    "        maskFilt = pdf['i:fid'] == filt\n",
    "\n",
    "        # The column `d:tag` is used to check data type\n",
    "        maskValid = pdf['d:tag'] == 'valid'\n",
    "        plt.errorbar(\n",
    "            pdf[maskValid & maskFilt]['i:jd'].apply(lambda x: x - 2400000.5),\n",
    "            pdf[maskValid & maskFilt]['i:magpsf'],\n",
    "            pdf[maskValid & maskFilt]['i:sigmapsf'],\n",
    "            ls = '', marker='o', color=colordic[filt]\n",
    "        )\n",
    "\n",
    "        maskUpper = pdf['d:tag'] == 'upperlim'\n",
    "        plt.plot(\n",
    "            pdf[maskUpper & maskFilt]['i:jd'].apply(lambda x: x - 2400000.5),\n",
    "            pdf[maskUpper & maskFilt]['i:diffmaglim'],\n",
    "            ls='', marker='^', color=colordic[filt], markerfacecolor='none'\n",
    "        )\n",
    "\n",
    "        maskBadquality = pdf['d:tag'] == 'badquality'\n",
    "        plt.errorbar(\n",
    "            pdf[maskBadquality & maskFilt]['i:jd'].apply(lambda x: x - 2400000.5),\n",
    "            pdf[maskBadquality & maskFilt]['i:magpsf'],\n",
    "            pdf[maskBadquality & maskFilt]['i:sigmapsf'],\n",
    "            ls='', marker='v', color=colordic[filt]\n",
    "        )\n",
    "\n",
    "    plt.gca().invert_yaxis()\n",
    "    plt.xlabel('Modified Julian Date')\n",
    "    plt.ylabel('Magnitude')\n",
    "    plt.show()"
   ]
  },
  {
   "cell_type": "markdown",
   "id": "f6ad0578-d90f-4659-b678-f3c484c0c744",
   "metadata": {},
   "source": [
    "Now, we parse out the specific source we want to plot, which is going to involve selecting the multiple rows\n",
    "attributed to a specific source within fsd, preserving it as a DataFrame, then feeding it into the 'plot_photometry' function."
   ]
  },
  {
   "cell_type": "code",
   "execution_count": 21,
   "id": "93cce6ad-7371-46d8-b660-115ce2e0db28",
   "metadata": {},
   "outputs": [],
   "source": [
    "#This is fairly simple, we just specify a ZTF ID from our fsd list:\n",
    "ID='ZTF18acetvcr'\n",
    "\n",
    "#then define a new variable 'fsd_source, which is just all the rows in fsd such that the key 'i:objectId' is our ID of interest:\n",
    "fsd_source=fsd[fsd['i:objectId'] == ID]"
   ]
  },
  {
   "cell_type": "code",
   "execution_count": 22,
   "id": "1aa6bd99-7deb-4825-9506-2a966e20ecf9",
   "metadata": {},
   "outputs": [
    {
     "data": {
      "image/png": "[encoded data removed]",
      "text/plain": [
       "<Figure size 1080x432 with 1 Axes>"
      ]
     },
     "metadata": {
      "needs_background": "light"
     },
     "output_type": "display_data"
    }
   ],
   "source": [
    "plot_photometry(fsd_source)"
   ]
  },
  {
   "cell_type": "code",
   "execution_count": 15,
   "id": "1b8911e9-4142-4146-97ac-439c69da08c7",
   "metadata": {},
   "outputs": [],
   "source": [
    "from vasttools.pipeline import Pipeline\n",
    "from vasttools.query import Query"
   ]
  },
  {
   "cell_type": "markdown",
   "id": "3e3fb060-c611-41a6-95d1-2df833b6f11e",
   "metadata": {},
   "source": [
    "# FINK Cutouts"
   ]
  },
  {
   "cell_type": "markdown",
   "id": "b88e6736-daec-419f-b030-ad57089b0741",
   "metadata": {},
   "source": [
    "In this secton, I'm going to retrieve the PNG cutouts for the source whose lighturve I've just plotted:"
   ]
  },
  {
   "cell_type": "code",
   "execution_count": 14,
   "id": "61310557-48ec-4197-a222-9d545228db90",
   "metadata": {},
   "outputs": [
    {
     "data": {
      "image/png": "[encoded data removed]",
      "text/plain": [
       "<Figure size 1080x432 with 3 Axes>"
      ]
     },
     "metadata": {
      "needs_background": "light"
     },
     "output_type": "display_data"
    }
   ],
   "source": [
    "fig, axes = plt.subplots(1, 3, figsize=(15, 6))\n",
    "\n",
    "for col in cutouts:\n",
    "    data = fsd_source[col].values[0]\n",
    "    axes[cutouts.index(col)].imshow(np.arcsinh(data))"
   ]
  }
 ],
 "metadata": {
  "kernelspec": {
   "display_name": "Python 3 (ipykernel)",
   "language": "python",
   "name": "python3"
  },
  "language_info": {
   "codemirror_mode": {
    "name": "ipython",
    "version": 3
   },
   "file_extension": ".py",
   "mimetype": "text/x-python",
   "name": "python",
   "nbconvert_exporter": "python",
   "pygments_lexer": "ipython3",
   "version": "3.9.5"
  }
 },
 "nbformat": 4,
 "nbformat_minor": 5
}
