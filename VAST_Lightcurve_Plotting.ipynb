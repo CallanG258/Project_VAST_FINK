{
 "cells": [
  {
   "cell_type": "markdown",
   "id": "096979da-fdee-4eb7-b8c2-b67f378e8e4a",
   "metadata": {},
   "source": [
    "# VAST Lightcurve Plotting"
   ]
  },
  {
   "cell_type": "markdown",
   "id": "09762349-fa2e-44e9-bb0e-ce2025625fdc",
   "metadata": {},
   "source": [
    "This notebook is used to produce the lightcurve plots for VAST sources as a standalone. Here, I can make changes in isolation from a larger notebook. The code and relevant imports are also contained in the Projecttools.py file."
   ]
  },
  {
   "cell_type": "code",
   "execution_count": null,
   "id": "6dcd2e82-f104-46a3-b8d5-18c6fe5e16f3",
   "metadata": {},
   "outputs": [],
   "source": [
    "#here are the necessary imports\n",
    "import os\n",
    "import sys\n",
    "import gc\n",
    "import requests\n",
    "import pandas as pd\n",
    "import numpy as np\n",
    "import matplotlib.pyplot as plt\n",
    "import matplotlib.gridspec as gridspec\n",
    "from io import StringIO\n",
    "from vasttools.pipeline import Pipeline\n",
    "from vasttools.query import Query\n",
    "import Projecttools as pro #brand new module for frequently used code!\n",
    "\n",
    "%matplotlib inline"
   ]
  },
  {
   "cell_type": "code",
   "execution_count": null,
   "id": "d4278f58-de4b-4cdd-a009-8837fa233bd6",
   "metadata": {},
   "outputs": [],
   "source": [
    "#should already be in the right directory for this one!\n",
    "os.getcwd()"
   ]
  },
  {
   "cell_type": "code",
   "execution_count": null,
   "id": "15608580-3c73-475e-b7b2-ac22df96239d",
   "metadata": {},
   "outputs": [],
   "source": [
    "#reading in the crossmatched sources pickle file\n",
    "cmf = pd.read_pickle('Fink_2020_sources_matched_to_VAST_all_sources.pickle')\n",
    "pro.family_sort(cmf)\n",
    "\n",
    "#printing family sizes for refference\n",
    "print(cmf.groupby('family').size().sort_values(ascending=False))"
   ]
  },
  {
   "cell_type": "code",
   "execution_count": null,
   "id": "b93af9b6-11af-4413-9758-eb1a7c8fb3af",
   "metadata": {},
   "outputs": [],
   "source": [
    "#Here, we specify the family list we want to draw from\n",
    "family_list=cmf.query('family == \"AGN\"')"
   ]
  },
  {
   "cell_type": "code",
   "execution_count": null,
   "id": "3dd27cc7-e525-4ec0-99a3-0701c2f3beb7",
   "metadata": {},
   "outputs": [],
   "source": [
    "#This will automatically find the base directory for VAST Runs\n",
    "pipe=Pipeline()\n",
    "#this way, we can also load specific runs from the VAST pipeline:\n",
    "my_run=pipe.load_run('tiles_corrected')"
   ]
  },
  {
   "cell_type": "code",
   "execution_count": null,
   "id": "73bd1104-6b2b-4306-b2f3-c5a5b1b3bbf4",
   "metadata": {},
   "outputs": [],
   "source": [
    "#since matched id list is a list of strings, astype() converts them into intergers first\n",
    "matched_ids=family_list['matched_id'].astype('int64').to_list()"
   ]
  },
  {
   "cell_type": "code",
   "execution_count": null,
   "id": "f3261fd1-2e01-4f93-b7a5-8a853f96dbb7",
   "metadata": {},
   "outputs": [],
   "source": [
    "#locating sources in the 'tiles_corrected' run that have the same id\n",
    "my_sources=my_run.sources.loc[matched_ids]"
   ]
  },
  {
   "cell_type": "code",
   "execution_count": null,
   "id": "e3e63986-1531-4af6-b633-191da98c3216",
   "metadata": {},
   "outputs": [],
   "source": [
    "#Here we can print the family list to copy paste the relevent matched_id values for VAST\n",
    "family_list"
   ]
  },
  {
   "cell_type": "code",
   "execution_count": null,
   "id": "2b75c5f6-c80b-41ba-a5f7-2a5de7c1f3d7",
   "metadata": {},
   "outputs": [],
   "source": [
    "#getting info from specific source\n",
    "source=my_run.get_source(3238791)"
   ]
  },
  {
   "cell_type": "code",
   "execution_count": null,
   "id": "3fcbd572-11a3-4683-9846-7bc0add5c123",
   "metadata": {},
   "outputs": [],
   "source": [
    "#plotting the light curve of that specific source\n",
    "source.plot_lightcurve(figsize=(15,6))"
   ]
  },
  {
   "cell_type": "code",
   "execution_count": null,
   "id": "e64e6356-1bd7-485d-8fba-ee56ce0ab140",
   "metadata": {},
   "outputs": [],
   "source": [
    "#This displays a cutout of a source for a specific Epoch\n",
    "source.show_png_cutout('7')"
   ]
  },
  {
   "cell_type": "code",
   "execution_count": null,
   "id": "bd381100-03bc-44b9-99cd-d2961bdae5f5",
   "metadata": {},
   "outputs": [],
   "source": [
    "#This will just show all cutouts of the source from each Epoch\n",
    "source.show_all_png_cutouts(columns=3, figsize=(10,10))"
   ]
  }
 ],
 "metadata": {
  "kernelspec": {
   "display_name": "Python 3 (ipykernel)",
   "language": "python",
   "name": "python3"
  },
  "language_info": {
   "codemirror_mode": {
    "name": "ipython",
    "version": 3
   },
   "file_extension": ".py",
   "mimetype": "text/x-python",
   "name": "python",
   "nbconvert_exporter": "python",
   "pygments_lexer": "ipython3",
   "version": "3.9.5"
  }
 },
 "nbformat": 4,
 "nbformat_minor": 5
}
