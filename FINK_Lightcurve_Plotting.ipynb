{
 "cells": [
  {
   "cell_type": "markdown",
   "id": "f4d52a51-7a95-4677-8521-718c4fca356e",
   "metadata": {},
   "source": [
    "## FINK Lightcurve Plotting"
   ]
  },
  {
   "cell_type": "markdown",
   "id": "ebc0140d-0587-4fe0-963b-a5dbf86b8cba",
   "metadata": {},
   "source": [
    "The objective of this notebook is to demonstrate plotting optical ligthcurves for the crossmatched sources identified by FINK. Here, I can edit things in isolation of a larger notebook that contains other bits of code unrelated to optical light curve plotting. The code and relevant imports are also contained in the Projecttools.py file."
   ]
  },
  {
   "cell_type": "code",
   "execution_count": null,
   "id": "64a3106a-993f-4acc-827d-e668a14b2167",
   "metadata": {},
   "outputs": [],
   "source": [
    "#here are the necessary imports\n",
    "import os\n",
    "import sys\n",
    "import gc\n",
    "import requests\n",
    "import pandas as pd\n",
    "import numpy as np\n",
    "import matplotlib.pyplot as plt\n",
    "import matplotlib.gridspec as gridspec\n",
    "from io import StringIO\n",
    "from vasttools.pipeline import Pipeline\n",
    "from vasttools.query import Query\n",
    "import Projecttools as pro #brand new module for frequently used code!\n",
    "\n",
    "%matplotlib inline"
   ]
  },
  {
   "cell_type": "code",
   "execution_count": null,
   "id": "4ccac5f3-93ac-4b8d-a4d3-27775199020d",
   "metadata": {},
   "outputs": [],
   "source": [
    "#pulling out crossmatch catalogue and sorting it into families\n",
    "cms = pd.read_pickle('Fink_2020_sources_matched_to_VAST_all_sources.pickle')\n",
    "\n",
    "pro.family_sort(cms)\n",
    "cms.groupby('family').size().sort_values(ascending=False)"
   ]
  },
  {
   "cell_type": "markdown",
   "id": "4821cc70-f4dc-48d7-9b9f-50da6100154e",
   "metadata": {},
   "source": [
    "So what I want to do here is load in the FINK data for the catalogue sources, then select one of those sources to have their light curve plotted. You can make a request for source info in the FINK_Query Notebook and load it into here:"
   ]
  },
  {
   "cell_type": "code",
   "execution_count": null,
   "id": "631ac12c-f894-4c4d-91fe-63b82f54572f",
   "metadata": {},
   "outputs": [],
   "source": [
    "fsd = pd.read_csv('/home/jovyan/work/Project_VAST_FINK/FINK_Source_Data/FSD_1.csv')"
   ]
  },
  {
   "cell_type": "code",
   "execution_count": null,
   "id": "3ab536b8-aecb-4ba7-9027-9e0c430299c7",
   "metadata": {},
   "outputs": [],
   "source": [
    "#we can then select the rows in cms that have the same id as the loaded fsd file:\n",
    "cms_group = cms[cms['objectId'].isin(fsd['i:objectId'])]"
   ]
  },
  {
   "cell_type": "code",
   "execution_count": null,
   "id": "f271f349-c1df-4c95-8584-85cfa2806666",
   "metadata": {},
   "outputs": [],
   "source": [
    "#then we can take out a further subset of those loaded sources based on family\n",
    "my_sources=cms_group.query('family == \"AGN\"')\n",
    "my_sources"
   ]
  },
  {
   "cell_type": "code",
   "execution_count": null,
   "id": "e6f46194-76db-49cc-99d4-ffbc8a8a7429",
   "metadata": {},
   "outputs": [],
   "source": [
    "#defining the photometry plotting function here to save having to rerun it everytime\n",
    "#This function is also available in Projecttools.py:\n",
    "\n",
    "def plot_photometry(pdf):\n",
    "    fig = plt.figure(figsize=(15, 6))\n",
    "\n",
    "    colordic = {1: 'C0', 2: 'C1'}\n",
    "\n",
    "    for filt in np.unique(pdf['i:fid']):\n",
    "        maskFilt = pdf['i:fid'] == filt\n",
    "\n",
    "        # The column `d:tag` is used to check data type\n",
    "        maskValid = pdf['d:tag'] == 'valid'\n",
    "        plt.errorbar(\n",
    "            pdf[maskValid & maskFilt]['i:jd'].apply(lambda x: x - 2400000.5),\n",
    "            pdf[maskValid & maskFilt]['i:magpsf'],\n",
    "            pdf[maskValid & maskFilt]['i:sigmapsf'],\n",
    "            ls = '', marker='o', color=colordic[filt]\n",
    "        )\n",
    "\n",
    "        maskUpper = pdf['d:tag'] == 'upperlim'\n",
    "        plt.plot(\n",
    "            pdf[maskUpper & maskFilt]['i:jd'].apply(lambda x: x - 2400000.5),\n",
    "            pdf[maskUpper & maskFilt]['i:diffmaglim'],\n",
    "            ls='', marker='^', color=colordic[filt], markerfacecolor='none'\n",
    "        )\n",
    "\n",
    "        maskBadquality = pdf['d:tag'] == 'badquality'\n",
    "        plt.errorbar(\n",
    "            pdf[maskBadquality & maskFilt]['i:jd'].apply(lambda x: x - 2400000.5),\n",
    "            pdf[maskBadquality & maskFilt]['i:magpsf'],\n",
    "            pdf[maskBadquality & maskFilt]['i:sigmapsf'],\n",
    "            ls='', marker='v', color=colordic[filt]\n",
    "        )\n",
    "\n",
    "    plt.gca().invert_yaxis()\n",
    "    plt.xlabel('Modified Julian Date')\n",
    "    plt.ylabel('Magnitude')\n",
    "    plt.show()"
   ]
  },
  {
   "cell_type": "markdown",
   "id": "f6ad0578-d90f-4659-b678-f3c484c0c744",
   "metadata": {},
   "source": [
    "Now, we parse out the specific source we want to plot, which is going to involve selecting the multiple rows\n",
    "attributed to a specific source within fsd, preserving it as a DataFrame, then feeding it into the 'plot_photometry' function."
   ]
  },
  {
   "cell_type": "code",
   "execution_count": null,
   "id": "93cce6ad-7371-46d8-b660-115ce2e0db28",
   "metadata": {},
   "outputs": [],
   "source": [
    "#This is fairly simple, we just specify a FINK ID from our cms_group list:\n",
    "ID='ZTF18acetvcr'\n",
    "\n",
    "#then define a new variable 'fsd_source, which is just all the rows in fsd such that the key 'i:objectId' is our ID of interest:\n",
    "fsd_source=fsd[fsd['i:objectId'] == ID]"
   ]
  },
  {
   "cell_type": "code",
   "execution_count": null,
   "id": "1aa6bd99-7deb-4825-9506-2a966e20ecf9",
   "metadata": {},
   "outputs": [],
   "source": [
    "plot_photometry(fsd_source)"
   ]
  },
  {
   "cell_type": "markdown",
   "id": "3e3fb060-c611-41a6-95d1-2df833b6f11e",
   "metadata": {},
   "source": [
    "# FINK Cutouts"
   ]
  },
  {
   "cell_type": "markdown",
   "id": "b88e6736-daec-419f-b030-ad57089b0741",
   "metadata": {},
   "source": [
    "In this secton, We retrieve the PNG cutouts for the source whose lighturve I've just plotted:\n",
    "\n",
    "NOTE: At time of writing, the FSD.csv files that contain cutout information is saved as a string, and as such cant be read by the below functions. You'll need to figure out how to how to turn it back into an array of float64 numbers, or alternatively query and save the appropriate columns as a separate .pkl file to be loaded in."
   ]
  },
  {
   "cell_type": "code",
   "execution_count": null,
   "id": "61310557-48ec-4197-a222-9d545228db90",
   "metadata": {},
   "outputs": [],
   "source": [
    "fig, axes = plt.subplots(1, 3, figsize=(15, 6))\n",
    "\n",
    "for col in cutouts:\n",
    "    data = fsd_source[col].values[0]\n",
    "    axes[cutouts.index(col)].imshow(np.arcsinh(data))"
   ]
  }
 ],
 "metadata": {
  "kernelspec": {
   "display_name": "Python 3 (ipykernel)",
   "language": "python",
   "name": "python3"
  },
  "language_info": {
   "codemirror_mode": {
    "name": "ipython",
    "version": 3
   },
   "file_extension": ".py",
   "mimetype": "text/x-python",
   "name": "python",
   "nbconvert_exporter": "python",
   "pygments_lexer": "ipython3",
   "version": "3.9.5"
  }
 },
 "nbformat": 4,
 "nbformat_minor": 5
}
