{
 "cells": [
  {
   "cell_type": "markdown",
   "id": "556dcc84-7c0a-41a0-9850-6ba5020859cc",
   "metadata": {},
   "source": [
    "# Time Correlation Filter Function"
   ]
  },
  {
   "cell_type": "markdown",
   "id": "d682074a-e292-41fd-8d7a-ed22fca67072",
   "metadata": {},
   "source": [
    "The Purpose of this Notebook will be to to plan and test a time correlation function that will filter sources depending on how well its opitcal and radio data lines up timewise.\n",
    "\n",
    "The goal so far is to collect the optical and radio data for all the eta-v filtered sources (206 of them), and put them into two dataframes: fsd for FINK data and vsd for VAST data.\n",
    "\n",
    "I've managed to construct vsd fine, but I'm having issues constructing fsd. when I run the portal request for the full list of sources, even with batching, the kernel appears to die and the notebook is reset. This happens even when the request is contained in a function I've called 'query_fink_db', which you can find in Projecttools.py. This Kernel restart error dosent happen if the ID list is sufficiently small (I tested 12 IDS with batching and it worked fine.)"
   ]
  },
  {
   "cell_type": "code",
   "execution_count": 1,
   "id": "5d8db54e-87e5-4e32-9c84-3bec7e637f86",
   "metadata": {},
   "outputs": [],
   "source": [
    "#here are the necessary imports\n",
    "import os\n",
    "import requests\n",
    "import pandas as pd\n",
    "import numpy as np\n",
    "import matplotlib.pyplot as plt\n",
    "import matplotlib.gridspec as gridspec\n",
    "from io import StringIO\n",
    "from vasttools.pipeline import Pipeline\n",
    "from vasttools.query import Query\n",
    "import Projecttools as pro #brand new module for frequently used code!\n",
    "\n",
    "%matplotlib inline"
   ]
  },
  {
   "cell_type": "code",
   "execution_count": 2,
   "id": "8c40ac35-c9a0-4c53-aabd-686d1c03b548",
   "metadata": {},
   "outputs": [
    {
     "data": {
      "text/plain": [
       "family\n",
       "AGN                827\n",
       "Unknown            516\n",
       "Galaxy             167\n",
       "Solar System        81\n",
       "Radio               70\n",
       "Supernova           51\n",
       "Multiwavelength     39\n",
       "Star                21\n",
       "dtype: int64"
      ]
     },
     "execution_count": 2,
     "metadata": {},
     "output_type": "execute_result"
    }
   ],
   "source": [
    "cms = pd.read_pickle('Fink_2020_sources_matched_to_VAST_all_sources.pickle')\n",
    "pro.family_sort(cms)\n",
    "cms.groupby('family').size().sort_values(ascending=False)"
   ]
  },
  {
   "cell_type": "code",
   "execution_count": 3,
   "id": "d59a49e2-e45f-4558-9ae3-bd3b98e0494f",
   "metadata": {},
   "outputs": [
    {
     "name": "stderr",
     "output_type": "stream",
     "text": [
      "/opt/conda/lib/python3.9/site-packages/vasttools/pipeline.py:2609: UserWarning: Measurements have been loaded with vaex.\n",
      "  warnings.warn(\"Measurements have been loaded with vaex.\")\n"
     ]
    }
   ],
   "source": [
    "#This will automatically find the base directory that needed to be specified\n",
    "pipe=Pipeline()\n",
    "#this way, we can also load specific runs from the VAST pipeline:\n",
    "my_run=pipe.load_run('tiles_corrected')"
   ]
  },
  {
   "cell_type": "code",
   "execution_count": 4,
   "id": "25c69269-3a06-4317-90cd-b148cf31789f",
   "metadata": {},
   "outputs": [],
   "source": [
    "#Im just putting the eta and v threshholds because the eta-v analysis takes an actual eternity to complete and I already\n",
    "#have the values here:\n",
    "eta_thresh=2.315552652171963\n",
    "v_thresh=0.2878888414273631"
   ]
  },
  {
   "cell_type": "code",
   "execution_count": 5,
   "id": "73524f20-82dc-436d-9a4e-e0c3bb7d0b90",
   "metadata": {},
   "outputs": [
    {
     "name": "stdout",
     "output_type": "stream",
     "text": [
      "There are 213 candidate sources:\n"
     ]
    },
    {
     "data": {
      "text/plain": [
       "family\n",
       "AGN                93\n",
       "Unknown            53\n",
       "Solar System       30\n",
       "Galaxy             15\n",
       "Radio               9\n",
       "Star                5\n",
       "Multiwavelength     4\n",
       "Supernova           4\n",
       "dtype: int64"
      ]
     },
     "execution_count": 5,
     "metadata": {},
     "output_type": "execute_result"
    }
   ],
   "source": [
    "cms_candidates = pro.eta_v_candidate_filter(cms,my_run,eta_thresh,v_thresh)\n",
    "cms_candidates.groupby('family').size().sort_values(ascending=False)"
   ]
  },
  {
   "cell_type": "markdown",
   "id": "8ec984dd-7a19-4e66-8c2e-8119d20dc165",
   "metadata": {},
   "source": [
    "I will be testing out this function on the ETA-V filtered sources. In order for this to work, I need to have both the radio and optical data available for each source. Since the FINK broker has a limit as to how many sources can be queried at a time, I will have to either take a random sample of sources from the filtered catalogue or apply the function to a sampling of each family seperately.\n",
    "\n",
    "Alternatively, I can do some \"Batching:\" breaking up the ID list into batches, running the portal query, and stitching the results of each batch together into a DataFrame."
   ]
  },
  {
   "cell_type": "code",
   "execution_count": 6,
   "id": "e6546e27-58a2-41c6-98f5-e7276f2c3e44",
   "metadata": {},
   "outputs": [],
   "source": [
    "#These IDs are selected from the curated list of interesting sources (lightcurves can be seen via powerpoint.)\n",
    "Idlist=cms_candidates['objectId']"
   ]
  },
  {
   "cell_type": "code",
   "execution_count": null,
   "id": "73cf7c2e-20a2-41fc-b7e3-031691dce8f0",
   "metadata": {},
   "outputs": [],
   "source": [
    "#defining column array for cutouts\n",
    "cutouts=[\n",
    "'b:cutoutScience_stampData',\n",
    "'b:cutoutTemplate_stampData',\n",
    "'b:cutoutDifference_stampData'\n",
    "]\n",
    "\n",
    "num_elem=len(Idlist)#length of id list\n",
    "num_chunks=num_elem//10+1 #number of chunks, based on how you want to divide them up. in this case, 10 IDS per chunk\n",
    "list_chunks=np.array_split(np.arange(num_elem), num_chunks) #np.arange(num_elem) makes an ordered array, from 0 to (num_elem - 1).\n",
    "                                                            #np.array_split splits said ordered array according to the number of chunks specified by num_chunks\n",
    "                                                            #each chunk is an element in the array 'list_chunks'\n",
    "\n",
    "list_df=[] #empty array to hold fink sources.\n",
    "\n",
    "for chunk_idx in list_chunks: #for each chunk in list_chunks\n",
    "    start,end=chunk_idx[0],chunk_idx[-1]+1 #define the starting and ending indexes for the given chunk\n",
    "\n",
    "#this is the request made to the fink portal to pull out the info for each source\n",
    "    r = requests.post(\n",
    "      'https://fink-portal.org/api/v1/objects',\n",
    "      json={\n",
    "        'objectId': ','.join(Idlist[start:end]), #This is where the 'chunk_idx[-1] +1' comes into play. the 'end' variable when slicing the list is inclusive of the index.\n",
    "        'output-format': 'json',\n",
    "        'withcutouts': 'True',\n",
    "        'cols': ','.join(cutouts),\n",
    "        'withupperlim': 'True' #important for lightcurve plotting\n",
    "      }\n",
    "    )\n",
    "    df_tmp=pd.read_json(StringIO(r.content.decode()))#define a temporary dataframe that holds the queried sources from the chunk\n",
    "    #df_tmp=pro.query_fink_db(Idlist[start:end])\n",
    "    list_df.append(df_tmp)\n",
    "\n",
    "fsd=pd.concat(list_df)"
   ]
  },
  {
   "cell_type": "code",
   "execution_count": null,
   "id": "909904bc-c97b-48fc-a2e7-47604314aed7",
   "metadata": {},
   "outputs": [],
   "source": [
    "fsd"
   ]
  },
  {
   "cell_type": "code",
   "execution_count": null,
   "id": "e76ad254-d746-4bf2-817b-53e2c52c7118",
   "metadata": {},
   "outputs": [],
   "source": [
    "#cms_candidates_selection = cms_candidates.query('objectId == @Special_IDS_1')\n",
    "\n",
    "#This reformats the index's in the candidate selection, so specific row ranges can be pulled out.\n",
    "#cms_candidates_selection = cms_candidates_selection.reset_index()\n",
    "#len(cms_candidates_selection)"
   ]
  },
  {
   "cell_type": "code",
   "execution_count": null,
   "id": "598647d4-142d-4d37-b801-75bc4049cfd4",
   "metadata": {},
   "outputs": [],
   "source": [
    "#This selects rows in our selection in interger index steps from a starting and stopping point\n",
    "#test.loc[start:stop:steps]\n",
    "\n",
    "#This selects up to 30 rows at a time\n",
    "#candidate_sample = cms_candidates_selection.loc[0:11:1]\n",
    "#len(candidate_sample)"
   ]
  },
  {
   "cell_type": "code",
   "execution_count": null,
   "id": "1c8c5fc3-bd46-47c1-b46e-16caf5bd8dad",
   "metadata": {},
   "outputs": [],
   "source": [
    "#defining column array for cutouts\n",
    "#cutouts=[\n",
    "#'b:cutoutScience_stampData',\n",
    "#'b:cutoutTemplate_stampData',\n",
    "#'b:cutoutDifference_stampData'\n",
    "#]\n",
    "\n",
    "#this is the request made to the fink portal to pull out the info for each source\n",
    "#r = requests.post(\n",
    "#'https://fink-portal.org/api/v1/objects',\n",
    "# json={\n",
    "#    'objectId': ','.join(Idlist), \n",
    "#    'output-format': 'json',\n",
    "#    'withcutouts': 'True',\n",
    "#    'cols': ','.join(cutouts),\n",
    "#    'withupperlim': 'True' #important for lightcurve plotting\n",
    "#  }\n",
    "#)"
   ]
  },
  {
   "cell_type": "code",
   "execution_count": null,
   "id": "bf49c0d9-2e7a-4b7a-81a3-6476247531b8",
   "metadata": {},
   "outputs": [],
   "source": [
    "#reads in json file data as DataFrame. fsd stands for 'FINK source data'\n",
    "#fsd=pd.read_json(StringIO(r.content.decode()))"
   ]
  },
  {
   "cell_type": "code",
   "execution_count": null,
   "id": "68d1e00e-b0fd-456a-91b6-9c3d2472798c",
   "metadata": {},
   "outputs": [],
   "source": [
    "#fsd object should contain the optical time data for the selected objects\n",
    "#fsd"
   ]
  },
  {
   "cell_type": "code",
   "execution_count": null,
   "id": "23ccbe08-5905-4e78-9eda-efa27484fbc4",
   "metadata": {},
   "outputs": [],
   "source": [
    "#vsd stands for 'vast source data'\n",
    "#vsd=[]\n",
    "#for x in Special_IDS_1:\n",
    "    #y=cms_candidates_selection[cms_candidates_selection['objectId'] == x]['matched_id'].astype(int).values[0]\n",
    "    #z=my_run.get_source(y).measurements\n",
    "    #vsd.append(z)"
   ]
  },
  {
   "cell_type": "markdown",
   "id": "3da22b65-6165-4285-9808-e65114f89991",
   "metadata": {},
   "source": [
    "As you can see below, the radio data is there."
   ]
  },
  {
   "cell_type": "code",
   "execution_count": 8,
   "id": "c940c983-79a2-4c6f-8899-abfded4c10c3",
   "metadata": {},
   "outputs": [],
   "source": [
    "vsi=[]\n",
    "for i in Idlist:\n",
    "    y=cms_candidates[cms_candidates['objectId'] == i]['matched_id'].astype(int).values[0]\n",
    "    vsi.append(y)\n",
    "meas=my_run.measurements\n",
    "vsd=meas[meas.source.isin(vsi)]"
   ]
  },
  {
   "cell_type": "code",
   "execution_count": 16,
   "id": "706c65cf-9ffa-49e3-82dc-5fdd2631e974",
   "metadata": {},
   "outputs": [
    {
     "data": {
      "text/html": [
       "<table>\n",
       "<thead>\n",
       "<tr><th>#                                </th><th>source  </th><th>island_id                        </th><th>component_id                         </th><th>local_rms          </th><th>ra                </th><th>ra_err                </th><th>dec                </th><th>dec_err               </th><th>flux_peak         </th><th>flux_peak_err      </th><th>flux_int          </th><th>flux_int_err       </th><th>bmaj              </th><th>err_bmaj             </th><th>bmin              </th><th>err_bmin             </th><th>pa                </th><th>err_pa            </th><th>psf_bmaj          </th><th>psf_bmin          </th><th>psf_pa             </th><th>flag_c4  </th><th>chi_squared_fit   </th><th>spectral_index     </th><th>spectral_index_from_TT  </th><th>has_siblings  </th><th>image_id  </th><th>time                            </th><th>name                                               </th><th>snr                </th><th>compactness       </th><th>ew_sys_err            </th><th>ns_sys_err            </th><th>error_radius          </th><th>uncertainty_ew        </th><th>uncertainty_ns        </th><th>weight_ew  </th><th>weight_ns  </th><th>forced  </th><th>flux_int_isl_ratio  </th><th>flux_peak_isl_ratio  </th><th>id      </th></tr>\n",
       "</thead>\n",
       "<tbody>\n",
       "<tr><td><i style='opacity: 0.6'>0</i>    </td><td>3363670 </td><td>CS_0918-06A_island_3703          </td><td>CS_0918-06A_component_3703a          </td><td>0.28600001335144043</td><td>138.08865356445312</td><td>0.00057204783661291   </td><td>-3.4263510704040527</td><td>0.0004306031623855233 </td><td>1.5360000133514404</td><td>0.3036591708660126 </td><td>2.1059999465942383</td><td>0.6530292630195618 </td><td>25.65999984741211 </td><td>0.0013834730489179492</td><td>17.229999542236328</td><td>0.0009637327748350799</td><td>108.5199966430664 </td><td>0.3482147455215454</td><td>12.729999542236328</td><td>9.180000305175781 </td><td>-84.70999908447266 </td><td>False    </td><td>0.3540000021457672</td><td>-0.2199999988079071</td><td>True                    </td><td>False         </td><td>1133      </td><td>2019-04-29 02:58:18.044000+00:00</td><td>SB8592_CS_0918-06A_component_3703a                 </td><td>5.37062931060791   </td><td>1.37109375        </td><td>0.00027777778450399637</td><td>0.00027777778450399637</td><td>0.0007151851314119995 </td><td>0.0007672354695387185 </td><td>0.0007672354695387185 </td><td>1698801.5  </td><td>1698801.5  </td><td>False   </td><td>1.0                 </td><td>1.0                  </td><td>16300152</td></tr>\n",
       "<tr><td><i style='opacity: 0.6'>1</i>    </td><td>3363670 </td><td>SB10908_island_4202              </td><td>SB10908_component_4202a              </td><td>0.2939999997615814 </td><td>138.08843994140625</td><td>0.0003439071006141603 </td><td>-3.4262819290161133</td><td>0.00030216891900636256</td><td>1.5809999704360962</td><td>0.3116055727005005 </td><td>2.1389999389648438</td><td>0.6638715267181396 </td><td>14.890000343322754</td><td>0.0008290532277897   </td><td>12.800000190734863</td><td>0.0006890709628351033</td><td>112.63999938964844</td><td>0.9026240706443787</td><td>8.670000076293945 </td><td>5.190000057220459 </td><td>-50.880001068115234</td><td>False    </td><td>0.8859999775886536</td><td>-3.430000066757202 </td><td>True                    </td><td>False         </td><td>1449      </td><td>2019-12-19 18:59:28.454000+00:00</td><td>SB10908_SB10908_component_4202a                    </td><td>5.377551078796387  </td><td>1.3529411554336548</td><td>0.00027777778450399637</td><td>0.00027777778450399637</td><td>0.00045733587467111647</td><td>0.0005350855644792318 </td><td>0.0005350855644792318 </td><td>3492637.25 </td><td>3492637.25 </td><td>False   </td><td>1.0                 </td><td>1.0                  </td><td>17974207</td></tr>\n",
       "<tr><td><i style='opacity: 0.6'>2</i>    </td><td>3363670 </td><td>15670_island_4273                </td><td>15670_component_4273a                </td><td>0.30000001192092896</td><td>138.08871459960938</td><td>0.000240542518440634  </td><td>-3.4262449741363525</td><td>0.00023910308664198965</td><td>1.5700000524520874</td><td>0.293329119682312  </td><td>1.4450000524520874</td><td>0.4811488091945648 </td><td>11.289999961853027</td><td>0.0005757876206189394</td><td>10.479999542236328</td><td>0.00055347615852952  </td><td>130.6300048828125 </td><td>1.8041261434555054</td><td>2.690000057220459 </td><td>0.0               </td><td>-24.700000762939453</td><td>False    </td><td>0.0430000014603138</td><td>-99.0              </td><td>True                    </td><td>False         </td><td>2020      </td><td>2020-08-29 02:10:38.245000+00:00</td><td>SB15670_15670_component_4273a                      </td><td>5.233333110809326  </td><td>0.9203821420669556</td><td>0.00027777778450399637</td><td>0.00027777778450399637</td><td>0.0003388577897567302 </td><td>0.0004381610488053411 </td><td>0.0004381610488053411 </td><td>5208737.5  </td><td>5208737.5  </td><td>False   </td><td>1.0                 </td><td>1.0                  </td><td>21152927</td></tr>\n",
       "<tr><td><i style='opacity: 0.6'>3</i>    </td><td>3363670 </td><td>SB10336_VAST_0918-06A_island_5046</td><td>SB10336_VAST_0918-06A_component_5046a</td><td>0.3784455955028534 </td><td>138.08860778808594</td><td>2.7777778086601757e-06</td><td>-3.4262747764587402</td><td>2.7777778086601757e-06</td><td>1.5307477712631226</td><td>0.3784455955028534 </td><td>1.5307477712631226</td><td>0.3784455955028534 </td><td>25.76236915588379 </td><td>0.0                  </td><td>11.812357902526855</td><td>0.0                  </td><td>66.01671600341797 </td><td>0.0               </td><td>25.76236915588379 </td><td>11.812357902526855</td><td>66.01671600341797  </td><td>False    </td><td>976.1027221679688 </td><td>0.0                </td><td>False                   </td><td>False         </td><td>1422      </td><td>2019-10-29 18:40:19.293000+00:00</td><td>&#x27;image_SB10336_VAST_0918-06A_component_5046a_f_r...</td><td>4.04482889175415   </td><td>1.0               </td><td>0.00027777778450399637</td><td>0.00027777778450399637</td><td>0.0                   </td><td>0.00027779166703112423</td><td>0.00027779166703112423</td><td>12958704.0 </td><td>12958704.0 </td><td>True    </td><td>1.0                 </td><td>1.0                  </td><td>21673913</td></tr>\n",
       "<tr><td><i style='opacity: 0.6'>4</i>    </td><td>3363670 </td><td>SB11215_island_6860              </td><td>SB11215_component_6860a              </td><td>0.5135476589202881 </td><td>138.08860778808594</td><td>2.7777778086601757e-06</td><td>-3.4262747764587402</td><td>2.7777778086601757e-06</td><td>-1.667264699935913</td><td>0.5135476589202881 </td><td>-1.667264699935913</td><td>0.5135476589202881 </td><td>18.84198570251465 </td><td>0.0                  </td><td>11.163959503173828</td><td>0.0                  </td><td>-75.08185577392578</td><td>0.0               </td><td>18.84198570251465 </td><td>11.163959503173828</td><td>-75.08185577392578 </td><td>False    </td><td>543.3484497070312 </td><td>0.0                </td><td>False                   </td><td>False         </td><td>1558      </td><td>2020-01-11 17:29:11.326000+00:00</td><td>image_SB11215_component_6860a_f_run000007          </td><td>-3.2465627193450928</td><td>1.0               </td><td>0.00027777778450399637</td><td>0.00027777778450399637</td><td>0.0                   </td><td>0.00027779166703112423</td><td>0.00027779166703112423</td><td>12958704.0 </td><td>12958704.0 </td><td>True    </td><td>1.0                 </td><td>1.0                  </td><td>21688501</td></tr>\n",
       "<tr><td>...                              </td><td>...     </td><td>...                              </td><td>...                                  </td><td>...                </td><td>...               </td><td>...                   </td><td>...                </td><td>...                   </td><td>...               </td><td>...                </td><td>...               </td><td>...                </td><td>...               </td><td>...                  </td><td>...               </td><td>...                  </td><td>...               </td><td>...               </td><td>...               </td><td>...               </td><td>...                </td><td>...      </td><td>...               </td><td>...                </td><td>...                     </td><td>...           </td><td>...       </td><td>...                             </td><td>...                                                </td><td>...                </td><td>...               </td><td>...                   </td><td>...                   </td><td>...                   </td><td>...                   </td><td>...                   </td><td>...        </td><td>...        </td><td>...     </td><td>...                 </td><td>...                  </td><td>...     </td></tr>\n",
       "<tr><td><i style='opacity: 0.6'>2,062</i></td><td>3336055 </td><td>SB10335_VAST_2233-06A_island_5241</td><td>SB10335_VAST_2233-06A_component_5241a</td><td>0.3086101710796356 </td><td>341.02288818359375</td><td>2.7777778086601757e-06</td><td>-3.5692598819732666</td><td>2.7777778086601757e-06</td><td>7.582205295562744 </td><td>0.3086101710796356 </td><td>7.582205295562744 </td><td>0.3086101710796356 </td><td>13.679560661315918</td><td>0.0                  </td><td>11.1986665725708  </td><td>0.0                  </td><td>77.69937133789062 </td><td>0.0               </td><td>13.679560661315918</td><td>11.1986665725708  </td><td>77.69937133789062  </td><td>False    </td><td>13547.5           </td><td>0.0                </td><td>False                   </td><td>False         </td><td>1407      </td><td>2019-10-29 13:13:11.424000+00:00</td><td>&#x27;image_SB10335_VAST_2233-06A_component_5241a_f_r...</td><td>24.568876266479492 </td><td>1.0               </td><td>0.00027777778450399637</td><td>0.00027777778450399637</td><td>0.0                   </td><td>0.00027779166703112423</td><td>0.00027779166703112423</td><td>12958704.0 </td><td>12958704.0 </td><td>True    </td><td>1.0                 </td><td>1.0                  </td><td>23843205</td></tr>\n",
       "<tr><td><i style='opacity: 0.6'>2,063</i></td><td>3336055 </td><td>SB10342_VAST_2233-06A_island_5293</td><td>SB10342_VAST_2233-06A_component_5293a</td><td>0.3193345367908478 </td><td>341.02288818359375</td><td>2.7777778086601757e-06</td><td>-3.5692598819732666</td><td>2.7777778086601757e-06</td><td>6.803194999694824 </td><td>0.3193345367908478 </td><td>6.803194999694824 </td><td>0.3193345367908478 </td><td>12.886091232299805</td><td>0.0                  </td><td>11.392946243286133</td><td>0.0                  </td><td>75.08724212646484 </td><td>0.0               </td><td>12.886091232299805</td><td>11.392946243286133</td><td>75.08724212646484  </td><td>False    </td><td>13488.1513671875  </td><td>0.0                </td><td>False                   </td><td>False         </td><td>1352      </td><td>2019-10-30 11:26:35.889000+00:00</td><td>&#x27;image_SB10342_VAST_2233-06A_component_5293a_f_r...</td><td>21.304288864135742 </td><td>1.0               </td><td>0.00027777778450399637</td><td>0.00027777778450399637</td><td>0.0                   </td><td>0.00027779166703112423</td><td>0.00027779166703112423</td><td>12958704.0 </td><td>12958704.0 </td><td>True    </td><td>1.0                 </td><td>1.0                  </td><td>23846686</td></tr>\n",
       "<tr><td><i style='opacity: 0.6'>2,064</i></td><td>3336055 </td><td>SB11263_island_4806              </td><td>SB11263_component_4806a              </td><td>0.37734684348106384</td><td>341.02288818359375</td><td>2.7777778086601757e-06</td><td>-3.5692598819732666</td><td>2.7777778086601757e-06</td><td>9.691783905029297 </td><td>0.37734684348106384</td><td>9.691783905029297 </td><td>0.37734684348106384</td><td>17.769920349121094</td><td>0.0                  </td><td>10.826459884643555</td><td>0.0                  </td><td>-70.91395568847656</td><td>0.0               </td><td>17.769920349121094</td><td>10.826459884643555</td><td>-70.91395568847656 </td><td>False    </td><td>13251.03125       </td><td>0.0                </td><td>False                   </td><td>False         </td><td>1575      </td><td>2020-01-12 06:52:32.296000+00:00</td><td>image_SB11263_component_4806a_f_run000007          </td><td>25.684019088745117 </td><td>1.0               </td><td>0.00027777778450399637</td><td>0.00027777778450399637</td><td>0.0                   </td><td>0.00027779166703112423</td><td>0.00027779166703112423</td><td>12958704.0 </td><td>12958704.0 </td><td>True    </td><td>1.0                 </td><td>1.0                  </td><td>23850162</td></tr>\n",
       "<tr><td><i style='opacity: 0.6'>2,065</i></td><td>3336055 </td><td>SB11439_island_5435              </td><td>SB11439_component_5435a              </td><td>0.30710145831108093</td><td>341.02288818359375</td><td>2.7777778086601757e-06</td><td>-3.5692598819732666</td><td>2.7777778086601757e-06</td><td>6.414572715759277 </td><td>0.30710145831108093</td><td>6.414572715759277 </td><td>0.30710145831108093</td><td>13.276362419128418</td><td>0.0                  </td><td>11.689356803894043</td><td>0.0                  </td><td>37.547035217285156</td><td>0.0               </td><td>13.276362419128418</td><td>11.689356803894043</td><td>37.547035217285156 </td><td>False    </td><td>15387.01953125    </td><td>0.0                </td><td>False                   </td><td>False         </td><td>1673      </td><td>2020-01-18 07:30:45.532000+00:00</td><td>image_SB11439_component_5435a_f_run000007          </td><td>20.887470245361328 </td><td>1.0               </td><td>0.00027777778450399637</td><td>0.00027777778450399637</td><td>0.0                   </td><td>0.00027779166703112423</td><td>0.00027779166703112423</td><td>12958704.0 </td><td>12958704.0 </td><td>True    </td><td>1.0                 </td><td>1.0                  </td><td>23853767</td></tr>\n",
       "<tr><td><i style='opacity: 0.6'>2,066</i></td><td>3336055 </td><td>RACS_2233-06A_island_4788        </td><td>RACS_2233-06A_component_4788a        </td><td>0.3612903654575348 </td><td>341.02288818359375</td><td>2.7777778086601757e-06</td><td>-3.5692598819732666</td><td>2.7777778086601757e-06</td><td>11.176331520080566</td><td>0.3612903654575348 </td><td>11.176331520080566</td><td>0.3612903654575348 </td><td>19.399999618530273</td><td>0.0                  </td><td>13.399999618530273</td><td>0.0                  </td><td>-46.36000061035156</td><td>0.0               </td><td>19.399999618530273</td><td>13.399999618530273</td><td>-46.36000061035156 </td><td>False    </td><td>23133.98046875    </td><td>0.0                </td><td>False                   </td><td>False         </td><td>1128      </td><td>2019-04-28 23:24:02.498000+00:00</td><td>image_RACS_2233-06A_component_4788a_f_run000007    </td><td>30.934486389160156 </td><td>1.0               </td><td>0.00027777778450399637</td><td>0.00027777778450399637</td><td>0.0                   </td><td>0.00027779166703112423</td><td>0.00027779166703112423</td><td>12958704.0 </td><td>12958704.0 </td><td>True    </td><td>1.0                 </td><td>1.0                  </td><td>24159046</td></tr>\n",
       "</tbody>\n",
       "</table>"
      ],
      "text/plain": [
       "#      source    island_id                          component_id                           local_rms            ra                  ra_err                  dec                  dec_err                 flux_peak           flux_peak_err        flux_int            flux_int_err         bmaj                err_bmaj               bmin                err_bmin               pa                  err_pa              psf_bmaj            psf_bmin            psf_pa               flag_c4    chi_squared_fit     spectral_index       spectral_index_from_TT    has_siblings    image_id    time                              name                                                 snr                  compactness         ew_sys_err              ns_sys_err              error_radius            uncertainty_ew          uncertainty_ns          weight_ew    weight_ns    forced    flux_int_isl_ratio    flux_peak_isl_ratio    id\n",
       "0      3363670   CS_0918-06A_island_3703            CS_0918-06A_component_3703a            0.28600001335144043  138.08865356445312  0.00057204783661291     -3.4263510704040527  0.0004306031623855233   1.5360000133514404  0.3036591708660126   2.1059999465942383  0.6530292630195618   25.65999984741211   0.0013834730489179492  17.229999542236328  0.0009637327748350799  108.5199966430664   0.3482147455215454  12.729999542236328  9.180000305175781   -84.70999908447266   False      0.3540000021457672  -0.2199999988079071  True                      False           1133        2019-04-29 02:58:18.044000+00:00  SB8592_CS_0918-06A_component_3703a                   5.37062931060791     1.37109375          0.00027777778450399637  0.00027777778450399637  0.0007151851314119995   0.0007672354695387185   0.0007672354695387185   1698801.5    1698801.5    False     1.0                   1.0                    16300152\n",
       "1      3363670   SB10908_island_4202                SB10908_component_4202a                0.2939999997615814   138.08843994140625  0.0003439071006141603   -3.4262819290161133  0.00030216891900636256  1.5809999704360962  0.3116055727005005   2.1389999389648438  0.6638715267181396   14.890000343322754  0.0008290532277897     12.800000190734863  0.0006890709628351033  112.63999938964844  0.9026240706443787  8.670000076293945   5.190000057220459   -50.880001068115234  False      0.8859999775886536  -3.430000066757202   True                      False           1449        2019-12-19 18:59:28.454000+00:00  SB10908_SB10908_component_4202a                      5.377551078796387    1.3529411554336548  0.00027777778450399637  0.00027777778450399637  0.00045733587467111647  0.0005350855644792318   0.0005350855644792318   3492637.25   3492637.25   False     1.0                   1.0                    17974207\n",
       "2      3363670   15670_island_4273                  15670_component_4273a                  0.30000001192092896  138.08871459960938  0.000240542518440634    -3.4262449741363525  0.00023910308664198965  1.5700000524520874  0.293329119682312    1.4450000524520874  0.4811488091945648   11.289999961853027  0.0005757876206189394  10.479999542236328  0.00055347615852952    130.6300048828125   1.8041261434555054  2.690000057220459   0.0                 -24.700000762939453  False      0.0430000014603138  -99.0                True                      False           2020        2020-08-29 02:10:38.245000+00:00  SB15670_15670_component_4273a                        5.233333110809326    0.9203821420669556  0.00027777778450399637  0.00027777778450399637  0.0003388577897567302   0.0004381610488053411   0.0004381610488053411   5208737.5    5208737.5    False     1.0                   1.0                    21152927\n",
       "3      3363670   SB10336_VAST_0918-06A_island_5046  SB10336_VAST_0918-06A_component_5046a  0.3784455955028534   138.08860778808594  2.7777778086601757e-06  -3.4262747764587402  2.7777778086601757e-06  1.5307477712631226  0.3784455955028534   1.5307477712631226  0.3784455955028534   25.76236915588379   0.0                    11.812357902526855  0.0                    66.01671600341797   0.0                 25.76236915588379   11.812357902526855  66.01671600341797    False      976.1027221679688   0.0                  False                     False           1422        2019-10-29 18:40:19.293000+00:00  'image_SB10336_VAST_0918-06A_component_5046a_f_r...  4.04482889175415     1.0                 0.00027777778450399637  0.00027777778450399637  0.0                     0.00027779166703112423  0.00027779166703112423  12958704.0   12958704.0   True      1.0                   1.0                    21673913\n",
       "4      3363670   SB11215_island_6860                SB11215_component_6860a                0.5135476589202881   138.08860778808594  2.7777778086601757e-06  -3.4262747764587402  2.7777778086601757e-06  -1.667264699935913  0.5135476589202881   -1.667264699935913  0.5135476589202881   18.84198570251465   0.0                    11.163959503173828  0.0                    -75.08185577392578  0.0                 18.84198570251465   11.163959503173828  -75.08185577392578   False      543.3484497070312   0.0                  False                     False           1558        2020-01-11 17:29:11.326000+00:00  image_SB11215_component_6860a_f_run000007            -3.2465627193450928  1.0                 0.00027777778450399637  0.00027777778450399637  0.0                     0.00027779166703112423  0.00027779166703112423  12958704.0   12958704.0   True      1.0                   1.0                    21688501\n",
       "...    ...       ...                                ...                                    ...                  ...                 ...                     ...                  ...                     ...                 ...                  ...                 ...                  ...                 ...                    ...                 ...                    ...                 ...                 ...                 ...                 ...                  ...        ...                 ...                  ...                       ...             ...         ...                               ...                                                  ...                  ...                 ...                     ...                     ...                     ...                     ...                     ...          ...          ...       ...                   ...                    ...\n",
       "2,062  3336055   SB10335_VAST_2233-06A_island_5241  SB10335_VAST_2233-06A_component_5241a  0.3086101710796356   341.02288818359375  2.7777778086601757e-06  -3.5692598819732666  2.7777778086601757e-06  7.582205295562744   0.3086101710796356   7.582205295562744   0.3086101710796356   13.679560661315918  0.0                    11.1986665725708    0.0                    77.69937133789062   0.0                 13.679560661315918  11.1986665725708    77.69937133789062    False      13547.5             0.0                  False                     False           1407        2019-10-29 13:13:11.424000+00:00  'image_SB10335_VAST_2233-06A_component_5241a_f_r...  24.568876266479492   1.0                 0.00027777778450399637  0.00027777778450399637  0.0                     0.00027779166703112423  0.00027779166703112423  12958704.0   12958704.0   True      1.0                   1.0                    23843205\n",
       "2,063  3336055   SB10342_VAST_2233-06A_island_5293  SB10342_VAST_2233-06A_component_5293a  0.3193345367908478   341.02288818359375  2.7777778086601757e-06  -3.5692598819732666  2.7777778086601757e-06  6.803194999694824   0.3193345367908478   6.803194999694824   0.3193345367908478   12.886091232299805  0.0                    11.392946243286133  0.0                    75.08724212646484   0.0                 12.886091232299805  11.392946243286133  75.08724212646484    False      13488.1513671875    0.0                  False                     False           1352        2019-10-30 11:26:35.889000+00:00  'image_SB10342_VAST_2233-06A_component_5293a_f_r...  21.304288864135742   1.0                 0.00027777778450399637  0.00027777778450399637  0.0                     0.00027779166703112423  0.00027779166703112423  12958704.0   12958704.0   True      1.0                   1.0                    23846686\n",
       "2,064  3336055   SB11263_island_4806                SB11263_component_4806a                0.37734684348106384  341.02288818359375  2.7777778086601757e-06  -3.5692598819732666  2.7777778086601757e-06  9.691783905029297   0.37734684348106384  9.691783905029297   0.37734684348106384  17.769920349121094  0.0                    10.826459884643555  0.0                    -70.91395568847656  0.0                 17.769920349121094  10.826459884643555  -70.91395568847656   False      13251.03125         0.0                  False                     False           1575        2020-01-12 06:52:32.296000+00:00  image_SB11263_component_4806a_f_run000007            25.684019088745117   1.0                 0.00027777778450399637  0.00027777778450399637  0.0                     0.00027779166703112423  0.00027779166703112423  12958704.0   12958704.0   True      1.0                   1.0                    23850162\n",
       "2,065  3336055   SB11439_island_5435                SB11439_component_5435a                0.30710145831108093  341.02288818359375  2.7777778086601757e-06  -3.5692598819732666  2.7777778086601757e-06  6.414572715759277   0.30710145831108093  6.414572715759277   0.30710145831108093  13.276362419128418  0.0                    11.689356803894043  0.0                    37.547035217285156  0.0                 13.276362419128418  11.689356803894043  37.547035217285156   False      15387.01953125      0.0                  False                     False           1673        2020-01-18 07:30:45.532000+00:00  image_SB11439_component_5435a_f_run000007            20.887470245361328   1.0                 0.00027777778450399637  0.00027777778450399637  0.0                     0.00027779166703112423  0.00027779166703112423  12958704.0   12958704.0   True      1.0                   1.0                    23853767\n",
       "2,066  3336055   RACS_2233-06A_island_4788          RACS_2233-06A_component_4788a          0.3612903654575348   341.02288818359375  2.7777778086601757e-06  -3.5692598819732666  2.7777778086601757e-06  11.176331520080566  0.3612903654575348   11.176331520080566  0.3612903654575348   19.399999618530273  0.0                    13.399999618530273  0.0                    -46.36000061035156  0.0                 19.399999618530273  13.399999618530273  -46.36000061035156   False      23133.98046875      0.0                  False                     False           1128        2019-04-28 23:24:02.498000+00:00  image_RACS_2233-06A_component_4788a_f_run000007      30.934486389160156   1.0                 0.00027777778450399637  0.00027777778450399637  0.0                     0.00027779166703112423  0.00027779166703112423  12958704.0   12958704.0   True      1.0                   1.0                    24159046"
      ]
     },
     "execution_count": 16,
     "metadata": {},
     "output_type": "execute_result"
    }
   ],
   "source": [
    "#that should have a length of 206, because, we're neglecting duplicate lines\n",
    "vsd"
   ]
  }
 ],
 "metadata": {
  "kernelspec": {
   "display_name": "Python 3 (ipykernel)",
   "language": "python",
   "name": "python3"
  },
  "language_info": {
   "codemirror_mode": {
    "name": "ipython",
    "version": 3
   },
   "file_extension": ".py",
   "mimetype": "text/x-python",
   "name": "python",
   "nbconvert_exporter": "python",
   "pygments_lexer": "ipython3",
   "version": "3.9.5"
  }
 },
 "nbformat": 4,
 "nbformat_minor": 5
}
