{
 "cells": [
  {
   "cell_type": "markdown",
   "id": "556dcc84-7c0a-41a0-9850-6ba5020859cc",
   "metadata": {},
   "source": [
    "# Time Correlation Filter Function"
   ]
  },
  {
   "cell_type": "markdown",
   "id": "d682074a-e292-41fd-8d7a-ed22fca67072",
   "metadata": {},
   "source": [
    "The Purpose of this Notebook will be to to plan and test a time correlation function that will filter sources depending on how well its opitcal and radio data lines up timewise.\n",
    "\n",
    "The goal was to collect the optical and radio data for all the eta-v filtered sources (206 of them), and put them into two dataframes: fsd for FINK data and vsd for VAST data. We later extended this to look for all sources in the catalogue that have good overlap in time."
   ]
  },
  {
   "cell_type": "code",
   "execution_count": null,
   "id": "5d8db54e-87e5-4e32-9c84-3bec7e637f86",
   "metadata": {},
   "outputs": [],
   "source": [
    "#here are the necessary imports\n",
    "import os\n",
    "import sys\n",
    "import gc\n",
    "import requests\n",
    "import pandas as pd\n",
    "import numpy as np\n",
    "import matplotlib.pyplot as plt\n",
    "import matplotlib.gridspec as gridspec\n",
    "from io import StringIO\n",
    "from vasttools.pipeline import Pipeline\n",
    "from vasttools.query import Query\n",
    "import Projecttools as pro #brand new module for frequently used code!\n",
    "\n",
    "%matplotlib inline"
   ]
  },
  {
   "cell_type": "code",
   "execution_count": null,
   "id": "8c40ac35-c9a0-4c53-aabd-686d1c03b548",
   "metadata": {},
   "outputs": [],
   "source": [
    "cms = pd.read_pickle('Fink_2020_sources_matched_to_VAST_all_sources.pickle')\n",
    "pro.family_sort(cms)\n",
    "cms.groupby('family').size().sort_values(ascending=False)"
   ]
  },
  {
   "cell_type": "code",
   "execution_count": null,
   "id": "d59a49e2-e45f-4558-9ae3-bd3b98e0494f",
   "metadata": {},
   "outputs": [],
   "source": [
    "#This will automatically find the base directory that needed to be specified\n",
    "pipe=Pipeline()\n",
    "#this way, we can also load specific runs from the VAST pipeline:\n",
    "my_run=pipe.load_run('tiles_corrected')"
   ]
  },
  {
   "cell_type": "code",
   "execution_count": null,
   "id": "25c69269-3a06-4317-90cd-b148cf31789f",
   "metadata": {},
   "outputs": [],
   "source": [
    "#Im just putting the eta and v threshholds because the eta-v analysis takes an actual eternity to complete and I already\n",
    "#have the values here:\n",
    "eta_thresh=2.315552652171963\n",
    "v_thresh=0.2878888414273631"
   ]
  },
  {
   "cell_type": "code",
   "execution_count": null,
   "id": "73524f20-82dc-436d-9a4e-e0c3bb7d0b90",
   "metadata": {},
   "outputs": [],
   "source": [
    "cms_candidates = pro.eta_v_candidate_filter(cms,my_run,eta_thresh,v_thresh)\n",
    "cms_candidates.groupby('family').size().sort_values(ascending=False)"
   ]
  },
  {
   "cell_type": "markdown",
   "id": "8ec984dd-7a19-4e66-8c2e-8119d20dc165",
   "metadata": {},
   "source": [
    "I will be testing out this function on the ETA-V filtered sources, but also on the full catalogue to check for any sources, regardless of variability, that have good overlap in radio. \n",
    "\n",
    "In order for this to work, I need to have both the radio and optical data available for each source. Since the FINK broker has a limit as to how many sources can be queried at a time, I've done some \"Batching:\" breaking up the ID list into batches, running the portal query, and stitching the results of each batch together into a DataFrame.\n",
    "\n",
    "I've also collected Batches into Groups that can be read in, although its possible the kernel will die trying to load it on.\n",
    "\n",
    "If you've already got fsd saved as a csv file, load it here. Note that you will only be required to load in the ID and Julian Date for each observation in fsd, so to save on memory, you can specify pandas to only read in those columns:"
   ]
  },
  {
   "cell_type": "code",
   "execution_count": null,
   "id": "bf8af0dc-5c31-4f28-ac08-199ebac2d6bb",
   "metadata": {},
   "outputs": [],
   "source": [
    "fsd=pd.read_csv('FINK_Source_Data/FSD_1.csv', usecols = ['i:objectId','i:jd'])"
   ]
  },
  {
   "cell_type": "code",
   "execution_count": null,
   "id": "32cb8bd3-0e75-4919-ba0d-a7a0960581c5",
   "metadata": {},
   "outputs": [],
   "source": [
    "fsd"
   ]
  },
  {
   "cell_type": "code",
   "execution_count": null,
   "id": "9370fffc-222a-448f-adba-29bf32f0615f",
   "metadata": {},
   "outputs": [],
   "source": [
    "# this will convert the 'i:jd' column into MjD and rename the column to 'i:mjd'\n",
    "fsd['i:jd']=fsd['i:jd']-2400000.5\n",
    "fsd.rename(columns={\"i:jd\": \"i:mjd\"}, inplace=True)"
   ]
  },
  {
   "cell_type": "code",
   "execution_count": null,
   "id": "e01e87ca-f628-450e-b0a8-052490ec18de",
   "metadata": {},
   "outputs": [],
   "source": [
    "cms_group = cms[cms['objectId'].isin(fsd['i:objectId'])]"
   ]
  },
  {
   "cell_type": "code",
   "execution_count": null,
   "id": "2364174e-ee80-4a69-8cba-1951ccf77ec4",
   "metadata": {},
   "outputs": [],
   "source": [
    "# This is then the list of IDs from the group\n",
    "Idlist=cms_group['objectId']"
   ]
  },
  {
   "cell_type": "markdown",
   "id": "3da22b65-6165-4285-9808-e65114f89991",
   "metadata": {},
   "source": [
    "vsd is then loaded here:"
   ]
  },
  {
   "cell_type": "code",
   "execution_count": null,
   "id": "c940c983-79a2-4c6f-8899-abfded4c10c3",
   "metadata": {},
   "outputs": [],
   "source": [
    "#at the end, I turn the vaex Dataframelocal object into a pandas dataframe directly (our list of sources is not that large)\n",
    "vsi=[]\n",
    "for i in Idlist:\n",
    "    y=cms_group[cms_group['objectId'] == i]['matched_id'].astype(int).values[0]\n",
    "    vsi.append(y)\n",
    "meas=my_run.measurements\n",
    "vsd=meas[meas.source.isin(vsi)].to_pandas_df()\n",
    "\n",
    "#This will convert the 'time' column in vsd into MJD. The difference between JD and MJD is 2400000.5\n",
    "vsd['time']=vsd['time'].apply(pd.Timestamp.to_julian_date)-2400000.5\n",
    "vsd.rename(columns={\"time\": \"time_mjd\"},inplace=True)"
   ]
  },
  {
   "cell_type": "markdown",
   "id": "573cf4cb-4696-46cf-95d2-fa1154b6312c",
   "metadata": {},
   "source": [
    "Now that we have cms, fsd and vsd, we can begin to construct our time overlap function:"
   ]
  },
  {
   "cell_type": "code",
   "execution_count": null,
   "id": "077c0125-1a3b-4a83-a546-ba588f3b0c7f",
   "metadata": {},
   "outputs": [],
   "source": [
    "#preamble defining an overlap list that will store Booleian values\n",
    "Overlap = []\n",
    "O = 3\n",
    "R = 3\n",
    "dt = 0\n",
    "\n",
    "if O <= 1 or R <= 1:\n",
    "    raise Exception('Please choose a minimum optical & radio observation overlap count greater than 1')\n",
    "if dt < 0:\n",
    "    raise Exception ('Please choose a dt >= 0')\n",
    "\n",
    "#this takes the FINK and VAST IDs from the crossmatch catalogue and puts them into a dataframe, resetting the index.\n",
    "cml = pd.DataFrame({\"FINK ID\": cms['objectId'], \"VAST ID\": cms['matched_id']}).reset_index()\n",
    "\n",
    "#this drops the 'index' column leftover from cms\n",
    "cml.drop('index', inplace=True, axis=1)\n",
    "cml['VAST ID']=cml['VAST ID'].astype(int)\n",
    "\n",
    "ftd = pd.DataFrame({\"i:objectId\": fsd['i:objectId'], \"i:mjd\":fsd['i:mjd']})\n",
    "vtd = pd.DataFrame({\"source\": vsd['source'], \"time_mjd\": vsd['time_mjd']})\n",
    "\n",
    "#i represents the index of the row selelcted in cml. FINK_ID and VAST_ID are then the FINK and VAST IDs of that row respectively\n",
    "for i in cml.index.to_list():\n",
    "    FINK_ID,VAST_ID = cml.iloc[[i]]['FINK ID'][i], cml.iloc[[i]]['VAST ID'][i]\n",
    "    \n",
    "    #these are all the rows in fsd that have the same FINK ID as the selected row in cml\n",
    "    ftd_temp = ftd[ftd['i:objectId'] == FINK_ID]\n",
    "    ftd_temp = ftd_temp.sort_values('i:mjd').reset_index()\n",
    "    ftd_temp.drop('index', inplace=True, axis=1)\n",
    "    \n",
    "    #these are all the rows in vsd that have the same VAST ID as the selected row in cml\n",
    "    vtd_temp = vtd[vtd['source'] == VAST_ID]\n",
    "    vtd_temp = vtd_temp.sort_values('time_mjd').reset_index()\n",
    "    vtd_temp.drop('index', inplace=True, axis=1)\n",
    "    \n",
    "    # j represents the jth index in ftd_temp. start is the start date at the jth row, end is the row O-1 steps ahead.\n",
    "    for j in ftd_temp.index.to_list():\n",
    "        \n",
    "        #if we've reached the end of the list and the loop hasnt broken, it means we havent found any good overlap.\n",
    "        if j+O-1 > ftd_temp.index.to_list()[-1]:\n",
    "            Overlap.append(False)\n",
    "            break\n",
    "        \n",
    "        start, end = ftd_temp.iloc[[j]]['i:mjd'][j], ftd_temp.iloc[[j+O-1]]['i:mjd'][j+O-1]\n",
    "        \n",
    "        #this checks which points in vtd_temp are within the range between start and end, +- dt incase an observation is slightly out of this range\n",
    "        overlap_temp = vtd_temp['time_mjd'].between(start-dt,end+dt)\n",
    "        \n",
    "        #If the number of points wthin that range is >= R, we have good overlap!\n",
    "        if len(overlap_temp[overlap_temp==True]) >= R:\n",
    "            Overlap.append(True)\n",
    "            break\n",
    "\n",
    "#we then add this constructed overlap column to cml:\n",
    "cml['Overlap']=Overlap\n",
    "print('Of the',Overlap.count(False)+Overlap.count(True),'Sources that have been analyzed,'\n",
    "      ,Overlap.count(True),'of them have good overlap:')\n",
    "\n",
    "cml"
   ]
  },
  {
   "cell_type": "markdown",
   "id": "c74bf739-3f5f-4035-a9c0-77d97f9764df",
   "metadata": {},
   "source": [
    "Here, we have the above function compactified:"
   ]
  },
  {
   "cell_type": "code",
   "execution_count": null,
   "id": "ab7e7653-1532-4d58-a8ae-7a7243645bff",
   "metadata": {},
   "outputs": [],
   "source": [
    "cml = pro.lightcurve_overlap_filter(cms_group,fsd,vsd,O=3,R=3)\n",
    "cml"
   ]
  }
 ],
 "metadata": {
  "kernelspec": {
   "display_name": "Python 3 (ipykernel)",
   "language": "python",
   "name": "python3"
  },
  "language_info": {
   "codemirror_mode": {
    "name": "ipython",
    "version": 3
   },
   "file_extension": ".py",
   "mimetype": "text/x-python",
   "name": "python",
   "nbconvert_exporter": "python",
   "pygments_lexer": "ipython3",
   "version": "3.9.5"
  }
 },
 "nbformat": 4,
 "nbformat_minor": 5
}
