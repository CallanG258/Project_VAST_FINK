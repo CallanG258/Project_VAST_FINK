{
 "cells": [
  {
   "cell_type": "markdown",
   "id": "556dcc84-7c0a-41a0-9850-6ba5020859cc",
   "metadata": {},
   "source": [
    "# Time Correlation Filter Function"
   ]
  },
  {
   "cell_type": "markdown",
   "id": "d682074a-e292-41fd-8d7a-ed22fca67072",
   "metadata": {},
   "source": [
    "The Purpose of this Notebook will be to to plan and test a time correlation function that will filter sources depending on how well its opitcal and radio data lines up timewise.\n",
    "\n",
    "The goal so far is to collect the optical and radio data for all the eta-v filtered sources (206 of them), and put them into two dataframes: fsd for FINK data and vsd for VAST data.\n",
    "\n",
    "I've managed to construct vsd fine, but I'm having issues constructing fsd. when I run the portal request for the full list of sources, even with batching, the kernel appears to die and the notebook is reset. This happens even when the request is contained in a function I've called 'query_fink_db', which you can find in Projecttools.py. This Kernel restart error dosent happen if the ID list is sufficiently small (I tested 12 IDS with batching and it worked fine.)"
   ]
  },
  {
   "cell_type": "code",
   "execution_count": 2,
   "id": "5d8db54e-87e5-4e32-9c84-3bec7e637f86",
   "metadata": {},
   "outputs": [],
   "source": [
    "#here are the necessary imports\n",
    "import os\n",
    "import sys\n",
    "import requests\n",
    "import pandas as pd\n",
    "import numpy as np\n",
    "import matplotlib.pyplot as plt\n",
    "import matplotlib.gridspec as gridspec\n",
    "from io import StringIO\n",
    "from vasttools.pipeline import Pipeline\n",
    "from vasttools.query import Query\n",
    "import Projecttools as pro #brand new module for frequently used code!\n",
    "\n",
    "%matplotlib inline"
   ]
  },
  {
   "cell_type": "code",
   "execution_count": 3,
   "id": "8c40ac35-c9a0-4c53-aabd-686d1c03b548",
   "metadata": {},
   "outputs": [
    {
     "data": {
      "text/plain": [
       "family\n",
       "AGN                827\n",
       "Unknown            516\n",
       "Galaxy             167\n",
       "Solar System        81\n",
       "Radio               70\n",
       "Supernova           51\n",
       "Multiwavelength     39\n",
       "Star                21\n",
       "dtype: int64"
      ]
     },
     "execution_count": 3,
     "metadata": {},
     "output_type": "execute_result"
    }
   ],
   "source": [
    "cms = pd.read_pickle('Fink_2020_sources_matched_to_VAST_all_sources.pickle')\n",
    "pro.family_sort(cms)\n",
    "cms.groupby('family').size().sort_values(ascending=False)"
   ]
  },
  {
   "cell_type": "code",
   "execution_count": 4,
   "id": "d59a49e2-e45f-4558-9ae3-bd3b98e0494f",
   "metadata": {},
   "outputs": [
    {
     "name": "stderr",
     "output_type": "stream",
     "text": [
      "/opt/conda/lib/python3.9/site-packages/vasttools/pipeline.py:2609: UserWarning: Measurements have been loaded with vaex.\n",
      "  warnings.warn(\"Measurements have been loaded with vaex.\")\n"
     ]
    }
   ],
   "source": [
    "#This will automatically find the base directory that needed to be specified\n",
    "pipe=Pipeline()\n",
    "#this way, we can also load specific runs from the VAST pipeline:\n",
    "my_run=pipe.load_run('tiles_corrected')"
   ]
  },
  {
   "cell_type": "code",
   "execution_count": 5,
   "id": "25c69269-3a06-4317-90cd-b148cf31789f",
   "metadata": {},
   "outputs": [],
   "source": [
    "#Im just putting the eta and v threshholds because the eta-v analysis takes an actual eternity to complete and I already\n",
    "#have the values here:\n",
    "eta_thresh=2.315552652171963\n",
    "v_thresh=0.2878888414273631"
   ]
  },
  {
   "cell_type": "code",
   "execution_count": 7,
   "id": "73524f20-82dc-436d-9a4e-e0c3bb7d0b90",
   "metadata": {},
   "outputs": [
    {
     "name": "stdout",
     "output_type": "stream",
     "text": [
      "There are 213 candidate sources:\n"
     ]
    },
    {
     "data": {
      "text/plain": [
       "family\n",
       "AGN                93\n",
       "Unknown            53\n",
       "Solar System       30\n",
       "Galaxy             15\n",
       "Radio               9\n",
       "Star                5\n",
       "Multiwavelength     4\n",
       "Supernova           4\n",
       "dtype: int64"
      ]
     },
     "execution_count": 7,
     "metadata": {},
     "output_type": "execute_result"
    }
   ],
   "source": [
    "cms_candidates = pro.eta_v_candidate_filter(cms,my_run,eta_thresh,v_thresh)\n",
    "cms_candidates.groupby('family').size().sort_values(ascending=False)"
   ]
  },
  {
   "cell_type": "markdown",
   "id": "8ec984dd-7a19-4e66-8c2e-8119d20dc165",
   "metadata": {},
   "source": [
    "I will be testing out this function on the ETA-V filtered sources. In order for this to work, I need to have both the radio and optical data available for each source. Since the FINK broker has a limit as to how many sources can be queried at a time, I will have to either take a random sample of sources from the filtered catalogue or apply the function to a sampling of each family seperately.\n",
    "\n",
    "Alternatively, I can do some \"Batching:\" breaking up the ID list into batches, running the portal query, and stitching the results of each batch together into a DataFrame."
   ]
  },
  {
   "cell_type": "code",
   "execution_count": 8,
   "id": "e6546e27-58a2-41c6-98f5-e7276f2c3e44",
   "metadata": {},
   "outputs": [],
   "source": [
    "#These IDs are selected from the curated list of interesting sources (lightcurves can be seen via powerpoint.)\n",
    "Idlist=cms_candidates['objectId']"
   ]
  },
  {
   "cell_type": "code",
   "execution_count": 42,
   "id": "73cf7c2e-20a2-41fc-b7e3-031691dce8f0",
   "metadata": {},
   "outputs": [
    {
     "ename": "ValueError",
     "evalue": "Expected object or value",
     "output_type": "error",
     "traceback": [
      "\u001b[0;31m---------------------------------------------------------------------------\u001b[0m",
      "\u001b[0;31mValueError\u001b[0m                                Traceback (most recent call last)",
      "\u001b[0;32m/tmp/ipykernel_12138/1928297042.py\u001b[0m in \u001b[0;36m<module>\u001b[0;34m\u001b[0m\n\u001b[1;32m     32\u001b[0m     }\n\u001b[1;32m     33\u001b[0m )\n\u001b[0;32m---> 34\u001b[0;31m \u001b[0mdf_tmp\u001b[0m\u001b[0;34m=\u001b[0m\u001b[0mpd\u001b[0m\u001b[0;34m.\u001b[0m\u001b[0mread_json\u001b[0m\u001b[0;34m(\u001b[0m\u001b[0mStringIO\u001b[0m\u001b[0;34m(\u001b[0m\u001b[0mr\u001b[0m\u001b[0;34m.\u001b[0m\u001b[0mcontent\u001b[0m\u001b[0;34m.\u001b[0m\u001b[0mdecode\u001b[0m\u001b[0;34m(\u001b[0m\u001b[0;34m)\u001b[0m\u001b[0;34m)\u001b[0m\u001b[0;34m)\u001b[0m\u001b[0;31m#define a temporary dataframe that holds the queried sources from the chunk\u001b[0m\u001b[0;34m\u001b[0m\u001b[0;34m\u001b[0m\u001b[0m\n\u001b[0m\u001b[1;32m     35\u001b[0m     \u001b[0;31m#df_tmp=pro.query_fink_db(Idlist[start:end])\u001b[0m\u001b[0;34m\u001b[0m\u001b[0;34m\u001b[0m\u001b[0;34m\u001b[0m\u001b[0m\n\u001b[1;32m     36\u001b[0m \u001b[0mlist_df\u001b[0m\u001b[0;34m.\u001b[0m\u001b[0mappend\u001b[0m\u001b[0;34m(\u001b[0m\u001b[0mdf_tmp\u001b[0m\u001b[0;34m)\u001b[0m\u001b[0;34m\u001b[0m\u001b[0;34m\u001b[0m\u001b[0m\n",
      "\u001b[0;32m/opt/conda/lib/python3.9/site-packages/pandas/util/_decorators.py\u001b[0m in \u001b[0;36mwrapper\u001b[0;34m(*args, **kwargs)\u001b[0m\n\u001b[1;32m    205\u001b[0m                 \u001b[0;32melse\u001b[0m\u001b[0;34m:\u001b[0m\u001b[0;34m\u001b[0m\u001b[0;34m\u001b[0m\u001b[0m\n\u001b[1;32m    206\u001b[0m                     \u001b[0mkwargs\u001b[0m\u001b[0;34m[\u001b[0m\u001b[0mnew_arg_name\u001b[0m\u001b[0;34m]\u001b[0m \u001b[0;34m=\u001b[0m \u001b[0mnew_arg_value\u001b[0m\u001b[0;34m\u001b[0m\u001b[0;34m\u001b[0m\u001b[0m\n\u001b[0;32m--> 207\u001b[0;31m             \u001b[0;32mreturn\u001b[0m \u001b[0mfunc\u001b[0m\u001b[0;34m(\u001b[0m\u001b[0;34m*\u001b[0m\u001b[0margs\u001b[0m\u001b[0;34m,\u001b[0m \u001b[0;34m**\u001b[0m\u001b[0mkwargs\u001b[0m\u001b[0;34m)\u001b[0m\u001b[0;34m\u001b[0m\u001b[0;34m\u001b[0m\u001b[0m\n\u001b[0m\u001b[1;32m    208\u001b[0m \u001b[0;34m\u001b[0m\u001b[0m\n\u001b[1;32m    209\u001b[0m         \u001b[0;32mreturn\u001b[0m \u001b[0mcast\u001b[0m\u001b[0;34m(\u001b[0m\u001b[0mF\u001b[0m\u001b[0;34m,\u001b[0m \u001b[0mwrapper\u001b[0m\u001b[0;34m)\u001b[0m\u001b[0;34m\u001b[0m\u001b[0;34m\u001b[0m\u001b[0m\n",
      "\u001b[0;32m/opt/conda/lib/python3.9/site-packages/pandas/util/_decorators.py\u001b[0m in \u001b[0;36mwrapper\u001b[0;34m(*args, **kwargs)\u001b[0m\n\u001b[1;32m    309\u001b[0m                     \u001b[0mstacklevel\u001b[0m\u001b[0;34m=\u001b[0m\u001b[0mstacklevel\u001b[0m\u001b[0;34m,\u001b[0m\u001b[0;34m\u001b[0m\u001b[0;34m\u001b[0m\u001b[0m\n\u001b[1;32m    310\u001b[0m                 )\n\u001b[0;32m--> 311\u001b[0;31m             \u001b[0;32mreturn\u001b[0m \u001b[0mfunc\u001b[0m\u001b[0;34m(\u001b[0m\u001b[0;34m*\u001b[0m\u001b[0margs\u001b[0m\u001b[0;34m,\u001b[0m \u001b[0;34m**\u001b[0m\u001b[0mkwargs\u001b[0m\u001b[0;34m)\u001b[0m\u001b[0;34m\u001b[0m\u001b[0;34m\u001b[0m\u001b[0m\n\u001b[0m\u001b[1;32m    312\u001b[0m \u001b[0;34m\u001b[0m\u001b[0m\n\u001b[1;32m    313\u001b[0m         \u001b[0;32mreturn\u001b[0m \u001b[0mwrapper\u001b[0m\u001b[0;34m\u001b[0m\u001b[0;34m\u001b[0m\u001b[0m\n",
      "\u001b[0;32m/opt/conda/lib/python3.9/site-packages/pandas/io/json/_json.py\u001b[0m in \u001b[0;36mread_json\u001b[0;34m(path_or_buf, orient, typ, dtype, convert_axes, convert_dates, keep_default_dates, numpy, precise_float, date_unit, encoding, encoding_errors, lines, chunksize, compression, nrows, storage_options)\u001b[0m\n\u001b[1;32m    610\u001b[0m \u001b[0;34m\u001b[0m\u001b[0m\n\u001b[1;32m    611\u001b[0m     \u001b[0;32mwith\u001b[0m \u001b[0mjson_reader\u001b[0m\u001b[0;34m:\u001b[0m\u001b[0;34m\u001b[0m\u001b[0;34m\u001b[0m\u001b[0m\n\u001b[0;32m--> 612\u001b[0;31m         \u001b[0;32mreturn\u001b[0m \u001b[0mjson_reader\u001b[0m\u001b[0;34m.\u001b[0m\u001b[0mread\u001b[0m\u001b[0;34m(\u001b[0m\u001b[0;34m)\u001b[0m\u001b[0;34m\u001b[0m\u001b[0;34m\u001b[0m\u001b[0m\n\u001b[0m\u001b[1;32m    613\u001b[0m \u001b[0;34m\u001b[0m\u001b[0m\n\u001b[1;32m    614\u001b[0m \u001b[0;34m\u001b[0m\u001b[0m\n",
      "\u001b[0;32m/opt/conda/lib/python3.9/site-packages/pandas/io/json/_json.py\u001b[0m in \u001b[0;36mread\u001b[0;34m(self)\u001b[0m\n\u001b[1;32m    744\u001b[0m                 \u001b[0mobj\u001b[0m \u001b[0;34m=\u001b[0m \u001b[0mself\u001b[0m\u001b[0;34m.\u001b[0m\u001b[0m_get_object_parser\u001b[0m\u001b[0;34m(\u001b[0m\u001b[0mself\u001b[0m\u001b[0;34m.\u001b[0m\u001b[0m_combine_lines\u001b[0m\u001b[0;34m(\u001b[0m\u001b[0mdata_lines\u001b[0m\u001b[0;34m)\u001b[0m\u001b[0;34m)\u001b[0m\u001b[0;34m\u001b[0m\u001b[0;34m\u001b[0m\u001b[0m\n\u001b[1;32m    745\u001b[0m         \u001b[0;32melse\u001b[0m\u001b[0;34m:\u001b[0m\u001b[0;34m\u001b[0m\u001b[0;34m\u001b[0m\u001b[0m\n\u001b[0;32m--> 746\u001b[0;31m             \u001b[0mobj\u001b[0m \u001b[0;34m=\u001b[0m \u001b[0mself\u001b[0m\u001b[0;34m.\u001b[0m\u001b[0m_get_object_parser\u001b[0m\u001b[0;34m(\u001b[0m\u001b[0mself\u001b[0m\u001b[0;34m.\u001b[0m\u001b[0mdata\u001b[0m\u001b[0;34m)\u001b[0m\u001b[0;34m\u001b[0m\u001b[0;34m\u001b[0m\u001b[0m\n\u001b[0m\u001b[1;32m    747\u001b[0m         \u001b[0mself\u001b[0m\u001b[0;34m.\u001b[0m\u001b[0mclose\u001b[0m\u001b[0;34m(\u001b[0m\u001b[0;34m)\u001b[0m\u001b[0;34m\u001b[0m\u001b[0;34m\u001b[0m\u001b[0m\n\u001b[1;32m    748\u001b[0m         \u001b[0;32mreturn\u001b[0m \u001b[0mobj\u001b[0m\u001b[0;34m\u001b[0m\u001b[0;34m\u001b[0m\u001b[0m\n",
      "\u001b[0;32m/opt/conda/lib/python3.9/site-packages/pandas/io/json/_json.py\u001b[0m in \u001b[0;36m_get_object_parser\u001b[0;34m(self, json)\u001b[0m\n\u001b[1;32m    766\u001b[0m         \u001b[0mobj\u001b[0m \u001b[0;34m=\u001b[0m \u001b[0;32mNone\u001b[0m\u001b[0;34m\u001b[0m\u001b[0;34m\u001b[0m\u001b[0m\n\u001b[1;32m    767\u001b[0m         \u001b[0;32mif\u001b[0m \u001b[0mtyp\u001b[0m \u001b[0;34m==\u001b[0m \u001b[0;34m\"frame\"\u001b[0m\u001b[0;34m:\u001b[0m\u001b[0;34m\u001b[0m\u001b[0;34m\u001b[0m\u001b[0m\n\u001b[0;32m--> 768\u001b[0;31m             \u001b[0mobj\u001b[0m \u001b[0;34m=\u001b[0m \u001b[0mFrameParser\u001b[0m\u001b[0;34m(\u001b[0m\u001b[0mjson\u001b[0m\u001b[0;34m,\u001b[0m \u001b[0;34m**\u001b[0m\u001b[0mkwargs\u001b[0m\u001b[0;34m)\u001b[0m\u001b[0;34m.\u001b[0m\u001b[0mparse\u001b[0m\u001b[0;34m(\u001b[0m\u001b[0;34m)\u001b[0m\u001b[0;34m\u001b[0m\u001b[0;34m\u001b[0m\u001b[0m\n\u001b[0m\u001b[1;32m    769\u001b[0m \u001b[0;34m\u001b[0m\u001b[0m\n\u001b[1;32m    770\u001b[0m         \u001b[0;32mif\u001b[0m \u001b[0mtyp\u001b[0m \u001b[0;34m==\u001b[0m \u001b[0;34m\"series\"\u001b[0m \u001b[0;32mor\u001b[0m \u001b[0mobj\u001b[0m \u001b[0;32mis\u001b[0m \u001b[0;32mNone\u001b[0m\u001b[0;34m:\u001b[0m\u001b[0;34m\u001b[0m\u001b[0;34m\u001b[0m\u001b[0m\n",
      "\u001b[0;32m/opt/conda/lib/python3.9/site-packages/pandas/io/json/_json.py\u001b[0m in \u001b[0;36mparse\u001b[0;34m(self)\u001b[0m\n\u001b[1;32m    878\u001b[0m             \u001b[0mself\u001b[0m\u001b[0;34m.\u001b[0m\u001b[0m_parse_numpy\u001b[0m\u001b[0;34m(\u001b[0m\u001b[0;34m)\u001b[0m\u001b[0;34m\u001b[0m\u001b[0;34m\u001b[0m\u001b[0m\n\u001b[1;32m    879\u001b[0m         \u001b[0;32melse\u001b[0m\u001b[0;34m:\u001b[0m\u001b[0;34m\u001b[0m\u001b[0;34m\u001b[0m\u001b[0m\n\u001b[0;32m--> 880\u001b[0;31m             \u001b[0mself\u001b[0m\u001b[0;34m.\u001b[0m\u001b[0m_parse_no_numpy\u001b[0m\u001b[0;34m(\u001b[0m\u001b[0;34m)\u001b[0m\u001b[0;34m\u001b[0m\u001b[0;34m\u001b[0m\u001b[0m\n\u001b[0m\u001b[1;32m    881\u001b[0m \u001b[0;34m\u001b[0m\u001b[0m\n\u001b[1;32m    882\u001b[0m         \u001b[0;32mif\u001b[0m \u001b[0mself\u001b[0m\u001b[0;34m.\u001b[0m\u001b[0mobj\u001b[0m \u001b[0;32mis\u001b[0m \u001b[0;32mNone\u001b[0m\u001b[0;34m:\u001b[0m\u001b[0;34m\u001b[0m\u001b[0;34m\u001b[0m\u001b[0m\n",
      "\u001b[0;32m/opt/conda/lib/python3.9/site-packages/pandas/io/json/_json.py\u001b[0m in \u001b[0;36m_parse_no_numpy\u001b[0;34m(self)\u001b[0m\n\u001b[1;32m   1131\u001b[0m         \u001b[0;32mif\u001b[0m \u001b[0morient\u001b[0m \u001b[0;34m==\u001b[0m \u001b[0;34m\"columns\"\u001b[0m\u001b[0;34m:\u001b[0m\u001b[0;34m\u001b[0m\u001b[0;34m\u001b[0m\u001b[0m\n\u001b[1;32m   1132\u001b[0m             self.obj = DataFrame(\n\u001b[0;32m-> 1133\u001b[0;31m                 \u001b[0mloads\u001b[0m\u001b[0;34m(\u001b[0m\u001b[0mjson\u001b[0m\u001b[0;34m,\u001b[0m \u001b[0mprecise_float\u001b[0m\u001b[0;34m=\u001b[0m\u001b[0mself\u001b[0m\u001b[0;34m.\u001b[0m\u001b[0mprecise_float\u001b[0m\u001b[0;34m)\u001b[0m\u001b[0;34m,\u001b[0m \u001b[0mdtype\u001b[0m\u001b[0;34m=\u001b[0m\u001b[0;32mNone\u001b[0m\u001b[0;34m\u001b[0m\u001b[0;34m\u001b[0m\u001b[0m\n\u001b[0m\u001b[1;32m   1134\u001b[0m             )\n\u001b[1;32m   1135\u001b[0m         \u001b[0;32melif\u001b[0m \u001b[0morient\u001b[0m \u001b[0;34m==\u001b[0m \u001b[0;34m\"split\"\u001b[0m\u001b[0;34m:\u001b[0m\u001b[0;34m\u001b[0m\u001b[0;34m\u001b[0m\u001b[0m\n",
      "\u001b[0;31mValueError\u001b[0m: Expected object or value"
     ]
    }
   ],
   "source": [
    "#defining column array for cutouts\n",
    "\n",
    "num_elem=len(Idlist)#length of id list\n",
    "num_chunks=num_elem//10+1 #number of chunks, based on how you want to divide them up. in this case, 10 IDS per chunk\n",
    "list_chunks=np.array_split(np.arange(num_elem), num_chunks) #np.arange(num_elem) makes an ordered array, from 0 to (num_elem - 1).\n",
    "                                                            #np.array_split splits said ordered array according to the number of chunks specified by num_chunks\n",
    "                                                            #each chunk is an element in the array 'list_chunks'\n",
    "\n",
    "list_df=[] #empty array to hold fink sources.\n",
    "\n",
    "#defining column array for cutouts\n",
    "cutouts=[\n",
    "'b:cutoutScience_stampData',\n",
    "'b:cutoutTemplate_stampData',\n",
    "'b:cutoutDifference_stampData'\n",
    "]\n",
    "\n",
    "#for chunk_idx in list_chunks: #for each chunk in list_chunks\n",
    "    #start,end=chunk_idx[0],chunk_idx[-1]+1 #define the starting and ending indexes for the given chunk\n",
    "chunk_idx=list_chunks[0]\n",
    "start,end=chunk_idx[0],chunk_idx[-1]+1\n",
    "#this is the request made to the fink portal to pull out the info for each source\n",
    "r = requests.post(\n",
    "    'https://fink-portal.org/api/v1/objects',\n",
    "    json={\n",
    "    'objectId': ','.join(Idlist[start:end]), #This is where the 'chunk_idx[-1] +1' comes into play. the 'end' variable when slicing the list is inclusive of the index.\n",
    "    'output-format': 'json',\n",
    "    'withcutouts': 'False',\n",
    "    'columns': 'i:objectId,v:firstdate,v:lastdate',\n",
    "    #'cols': ','.join(cutouts),\n",
    "    'withupperlim': 'False' #important for lightcurve plotting\n",
    "    }\n",
    ")\n",
    "df_tmp=pd.read_json(StringIO(r.content.decode()))#define a temporary dataframe that holds the queried sources from the chunk\n",
    "    #df_tmp=pro.query_fink_db(Idlist[start:end])\n",
    "list_df.append(df_tmp)\n",
    "fsd=pd.concat(list_df)"
   ]
  },
  {
   "cell_type": "code",
   "execution_count": 14,
   "id": "909904bc-c97b-48fc-a2e7-47604314aed7",
   "metadata": {},
   "outputs": [
    {
     "data": {
      "text/plain": [
       "['b:cutoutDifference_stampData',\n",
       " 'b:cutoutScience_stampData',\n",
       " 'b:cutoutTemplate_stampData',\n",
       " 'd:DR3Name',\n",
       " 'd:Plx',\n",
       " 'd:cdsxmatch',\n",
       " 'd:e_Plx',\n",
       " 'd:gcvs',\n",
       " 'd:mulens',\n",
       " 'd:nalerthist',\n",
       " 'd:rf_kn_vs_nonkn',\n",
       " 'd:rf_snia_vs_nonia',\n",
       " 'd:roid',\n",
       " 'd:snn_sn_vs_all',\n",
       " 'd:snn_snia_vs_nonia',\n",
       " 'd:vsx',\n",
       " 'i:aimage',\n",
       " 'i:aimagerat',\n",
       " 'i:bimage',\n",
       " 'i:bimagerat',\n",
       " 'i:candid',\n",
       " 'i:chinr',\n",
       " 'i:chipsf',\n",
       " 'i:classtar',\n",
       " 'i:clrcoeff',\n",
       " 'i:clrcounc',\n",
       " 'i:clrmed',\n",
       " 'i:clrrms',\n",
       " 'i:dec',\n",
       " 'i:decnr',\n",
       " 'i:diffmaglim',\n",
       " 'i:distnr',\n",
       " 'i:distpsnr1',\n",
       " 'i:distpsnr2',\n",
       " 'i:distpsnr3',\n",
       " 'i:drb',\n",
       " 'i:drbversion',\n",
       " 'i:dsdiff',\n",
       " 'i:dsnrms',\n",
       " 'i:elong',\n",
       " 'i:exptime',\n",
       " 'i:fid',\n",
       " 'i:field',\n",
       " 'i:fink_broker_version',\n",
       " 'i:fink_science_version',\n",
       " 'i:fwhm',\n",
       " 'i:isdiffpos',\n",
       " 'i:jd',\n",
       " 'i:jdendhist',\n",
       " 'i:jdendref',\n",
       " 'i:jdstarthist',\n",
       " 'i:jdstartref',\n",
       " 'i:magap',\n",
       " 'i:magapbig',\n",
       " 'i:magdiff',\n",
       " 'i:magfromlim',\n",
       " 'i:maggaia',\n",
       " 'i:maggaiabright',\n",
       " 'i:magnr',\n",
       " 'i:magpsf',\n",
       " 'i:magzpsci',\n",
       " 'i:magzpscirms',\n",
       " 'i:magzpsciunc',\n",
       " 'i:mindtoedge',\n",
       " 'i:nbad',\n",
       " 'i:ncovhist',\n",
       " 'i:ndethist',\n",
       " 'i:neargaia',\n",
       " 'i:neargaiabright',\n",
       " 'i:nframesref',\n",
       " 'i:nid',\n",
       " 'i:nmatches',\n",
       " 'i:nmtchps',\n",
       " 'i:nneg',\n",
       " 'i:objectId',\n",
       " 'i:objectidps1',\n",
       " 'i:objectidps2',\n",
       " 'i:objectidps3',\n",
       " 'i:pdiffimfilename',\n",
       " 'i:pid',\n",
       " 'i:programid',\n",
       " 'i:programpi',\n",
       " 'i:publisher',\n",
       " 'i:ra',\n",
       " 'i:ranr',\n",
       " 'i:rb',\n",
       " 'i:rbversion',\n",
       " 'i:rcid',\n",
       " 'i:rfid',\n",
       " 'i:schemavsn',\n",
       " 'i:scorr',\n",
       " 'i:seeratio',\n",
       " 'i:sgmag1',\n",
       " 'i:sgmag2',\n",
       " 'i:sgmag3',\n",
       " 'i:sgscore1',\n",
       " 'i:sgscore2',\n",
       " 'i:sgscore3',\n",
       " 'i:sharpnr',\n",
       " 'i:sigmagap',\n",
       " 'i:sigmagapbig',\n",
       " 'i:sigmagnr',\n",
       " 'i:sigmapsf',\n",
       " 'i:simag1',\n",
       " 'i:simag2',\n",
       " 'i:simag3',\n",
       " 'i:sky',\n",
       " 'i:srmag1',\n",
       " 'i:srmag2',\n",
       " 'i:srmag3',\n",
       " 'i:ssdistnr',\n",
       " 'i:ssmagnr',\n",
       " 'i:ssnamenr',\n",
       " 'i:ssnrms',\n",
       " 'i:sumrat',\n",
       " 'i:szmag1',\n",
       " 'i:szmag2',\n",
       " 'i:szmag3',\n",
       " 'i:tblid',\n",
       " 'i:tooflag',\n",
       " 'i:xpos',\n",
       " 'i:ypos',\n",
       " 'i:zpclrcov',\n",
       " 'i:zpmed',\n",
       " 'd:tracklet',\n",
       " 'v:classification',\n",
       " 'v:g-r',\n",
       " 'v:rate(g-r)',\n",
       " 'v:dg',\n",
       " 'v:rate(dg)',\n",
       " 'v:dr',\n",
       " 'v:rate(dr)',\n",
       " 'v:lastdate',\n",
       " 'v:firstdate',\n",
       " 'v:lapse',\n",
       " 'v:constellation']"
      ]
     },
     "execution_count": 14,
     "metadata": {},
     "output_type": "execute_result"
    }
   ],
   "source": [
    "fsd.keys().tolist()"
   ]
  },
  {
   "cell_type": "code",
   "execution_count": null,
   "id": "e76ad254-d746-4bf2-817b-53e2c52c7118",
   "metadata": {},
   "outputs": [],
   "source": [
    "#cms_candidates_selection = cms_candidates.query('objectId == @Special_IDS_1')\n",
    "\n",
    "#This reformats the index's in the candidate selection, so specific row ranges can be pulled out.\n",
    "#cms_candidates_selection = cms_candidates_selection.reset_index()\n",
    "#len(cms_candidates_selection)"
   ]
  },
  {
   "cell_type": "code",
   "execution_count": null,
   "id": "598647d4-142d-4d37-b801-75bc4049cfd4",
   "metadata": {},
   "outputs": [],
   "source": [
    "#This selects rows in our selection in interger index steps from a starting and stopping point\n",
    "#test.loc[start:stop:steps]\n",
    "\n",
    "#This selects up to 30 rows at a time\n",
    "#candidate_sample = cms_candidates_selection.loc[0:11:1]\n",
    "#len(candidate_sample)"
   ]
  },
  {
   "cell_type": "code",
   "execution_count": null,
   "id": "1c8c5fc3-bd46-47c1-b46e-16caf5bd8dad",
   "metadata": {},
   "outputs": [],
   "source": [
    "#defining column array for cutouts\n",
    "#cutouts=[\n",
    "#'b:cutoutScience_stampData',\n",
    "#'b:cutoutTemplate_stampData',\n",
    "#'b:cutoutDifference_stampData'\n",
    "#]\n",
    "\n",
    "#this is the request made to the fink portal to pull out the info for each source\n",
    "#r = requests.post(\n",
    "#'https://fink-portal.org/api/v1/objects',\n",
    "# json={\n",
    "#    'objectId': ','.join(Idlist), \n",
    "#    'output-format': 'json',\n",
    "#    'withcutouts': 'True',\n",
    "#    'cols': ','.join(cutouts),\n",
    "#    'withupperlim': 'True' #important for lightcurve plotting\n",
    "#  }\n",
    "#)"
   ]
  },
  {
   "cell_type": "code",
   "execution_count": null,
   "id": "bf49c0d9-2e7a-4b7a-81a3-6476247531b8",
   "metadata": {},
   "outputs": [],
   "source": [
    "#reads in json file data as DataFrame. fsd stands for 'FINK source data'\n",
    "#fsd=pd.read_json(StringIO(r.content.decode()))"
   ]
  },
  {
   "cell_type": "code",
   "execution_count": null,
   "id": "68d1e00e-b0fd-456a-91b6-9c3d2472798c",
   "metadata": {},
   "outputs": [],
   "source": [
    "#fsd object should contain the optical time data for the selected objects\n",
    "#fsd"
   ]
  },
  {
   "cell_type": "code",
   "execution_count": null,
   "id": "23ccbe08-5905-4e78-9eda-efa27484fbc4",
   "metadata": {},
   "outputs": [],
   "source": [
    "#vsd stands for 'vast source data'\n",
    "#vsd=[]\n",
    "#for x in Special_IDS_1:\n",
    "    #y=cms_candidates_selection[cms_candidates_selection['objectId'] == x]['matched_id'].astype(int).values[0]\n",
    "    #z=my_run.get_source(y).measurements\n",
    "    #vsd.append(z)"
   ]
  },
  {
   "cell_type": "markdown",
   "id": "3da22b65-6165-4285-9808-e65114f89991",
   "metadata": {},
   "source": [
    "As you can see below, the radio data is there."
   ]
  },
  {
   "cell_type": "code",
   "execution_count": null,
   "id": "c940c983-79a2-4c6f-8899-abfded4c10c3",
   "metadata": {},
   "outputs": [],
   "source": [
    "vsi=[]\n",
    "for i in Idlist:\n",
    "    y=cms_candidates[cms_candidates['objectId'] == i]['matched_id'].astype(int).values[0]\n",
    "    vsi.append(y)\n",
    "meas=my_run.measurements\n",
    "vsd=meas[meas.source.isin(vsi)]"
   ]
  },
  {
   "cell_type": "code",
   "execution_count": null,
   "id": "706c65cf-9ffa-49e3-82dc-5fdd2631e974",
   "metadata": {},
   "outputs": [],
   "source": [
    "#that should have a length of 206, because, we're neglecting duplicate lines\n",
    "vsd"
   ]
  }
 ],
 "metadata": {
  "kernelspec": {
   "display_name": "Python 3 (ipykernel)",
   "language": "python",
   "name": "python3"
  },
  "language_info": {
   "codemirror_mode": {
    "name": "ipython",
    "version": 3
   },
   "file_extension": ".py",
   "mimetype": "text/x-python",
   "name": "python",
   "nbconvert_exporter": "python",
   "pygments_lexer": "ipython3",
   "version": "3.9.5"
  }
 },
 "nbformat": 4,
 "nbformat_minor": 5
}
