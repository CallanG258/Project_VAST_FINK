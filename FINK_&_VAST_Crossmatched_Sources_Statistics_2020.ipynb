{
 "cells": [
  {
   "cell_type": "markdown",
   "id": "90e5d63e-b9a4-43dc-b671-7e1dba1e732c",
   "metadata": {},
   "source": [
    "## FINK & VAST Crossmatches"
   ]
  },
  {
   "cell_type": "markdown",
   "id": "268183c8-a63f-4dbf-8454-525b2c6d9e41",
   "metadata": {},
   "source": [
    "This notebook is for reading in and grouping the crossmatched FINK and VAST sources into families, as well as some basic statistics on the variety of sources found in the crossmatch. The bulk of this code is used at the start of any analysis notebook, for example 'VAST Source Query & Analysis'.\n",
    "\n",
    "The family groupings you see in this notebook may vary from others, but the principle of how the grouping is done is here for a refference. "
   ]
  },
  {
   "cell_type": "code",
   "execution_count": null,
   "id": "b097b1aa-6b78-4224-86b6-af63415ae424",
   "metadata": {},
   "outputs": [],
   "source": [
    "import os\n",
    "import requests\n",
    "import pandas as pd\n",
    "from io import StringIO\n",
    "import numpy as np\n",
    "import matplotlib.pyplot as plt\n",
    "from vasttools.pipeline import Pipeline\n",
    "import Projecttools as pro\n",
    "\n",
    "%matplotlib inline"
   ]
  },
  {
   "cell_type": "code",
   "execution_count": null,
   "id": "1f2dceab-73a6-4f6c-bc3f-911366920458",
   "metadata": {},
   "outputs": [],
   "source": [
    "#reads in the .pickle file. the full filepath needs to be specified if its not in the same directory as this notebook\n",
    "cms = pd.read_pickle('Fink_2020_sources_matched_to_VAST_all_sources.pickle')\n",
    "cms"
   ]
  },
  {
   "cell_type": "markdown",
   "id": "6bd9dce7-ceec-4546-bb3a-1db78b5d6377",
   "metadata": {},
   "source": [
    "Next, we need to create a new column, where for each crossmatched source, we write the appropriate family classification depending on the objects identified class. This is all handled by the 'family_sort' function, and you can find more information in the Projecttools.py file:"
   ]
  },
  {
   "cell_type": "code",
   "execution_count": null,
   "id": "40115660-ba49-4124-9667-daebb8baca52",
   "metadata": {},
   "outputs": [],
   "source": [
    "pro.family_sort(cms)\n",
    "cms"
   ]
  },
  {
   "cell_type": "markdown",
   "id": "639d0981-1d2b-45b4-bf2e-43228695cf5a",
   "metadata": {},
   "source": [
    "here we see that cms has been updated with a new column, where each object has been assigned to a family that lines up with the dependant class"
   ]
  },
  {
   "cell_type": "code",
   "execution_count": null,
   "id": "0a8886de-ab59-4216-b17e-f3ab22895de4",
   "metadata": {},
   "outputs": [],
   "source": [
    "#groups each row in cmf by family, prints each groupings size, and lists that from largest to smallest\n",
    "pie=cms.groupby('family').size().sort_values(ascending=False)\n",
    "print(pie)"
   ]
  },
  {
   "cell_type": "code",
   "execution_count": null,
   "id": "805bc269-d6d3-4677-b48f-860af4f24287",
   "metadata": {},
   "outputs": [],
   "source": [
    "pie.plot.pie(figsize=(10,10))"
   ]
  },
  {
   "cell_type": "markdown",
   "id": "17bf943b-3008-4cf4-a57a-71b1c8e79852",
   "metadata": {},
   "source": [
    "We can now get a basic idea of what kind of sources we're looking at. Two notes here:\n",
    "\n",
    "1. 'Unknown' just means that ZTF wasn't able to identify the class of the source. Its not necessarily an indication of a brand new type of source, as it could be an AGN, Supernova, etc. That was just failed to be identified.\n",
    "\n",
    "2. The 'Galaxy' family and its respective classes is more a description of the variable sources environment than the source itself. You COULD have a variable galaxy, but thats not guranteed by the classification."
   ]
  },
  {
   "cell_type": "markdown",
   "id": "bbd64e42-1c62-4faa-a6ae-7bdccbe97162",
   "metadata": {},
   "source": [
    "from here, we can start to pull out subsets of our crossmatched list based on the family of the sources of interest. For example, we can pull out all sources in our crossmatch that fall under the 'AGN' family."
   ]
  },
  {
   "cell_type": "code",
   "execution_count": null,
   "id": "2c23f383-02ca-4c40-b986-6ef7f3b44b6c",
   "metadata": {},
   "outputs": [],
   "source": [
    "AGN_list=cms.query('family == \"AGN\"')\n",
    "AGN_list"
   ]
  },
  {
   "cell_type": "markdown",
   "id": "725bde8d-c894-4869-ad30-9c8a043b4122",
   "metadata": {},
   "source": [
    "To reiterrate, depending on the family your're looking at, you arent guranteed to be looking at a uniform set of the same kind of source. "
   ]
  },
  {
   "cell_type": "markdown",
   "id": "25a91a3d-6273-45c7-adff-abd720dac41e",
   "metadata": {},
   "source": [
    "## Crossmatched Sources Detection Histogram"
   ]
  },
  {
   "cell_type": "markdown",
   "id": "806bd963-43d6-4286-a32d-5816da35ddd3",
   "metadata": {},
   "source": [
    "The goal of this section will be to pull the measurements made by VAST (n:measurements) and FINK (n:detections) and make histograms for the ammount of measurements made per source. Im thinking I'll have to make 2 seperate histograms for Radio and Optical (Alternatively I could merge the measurement counts for both). The end goal will to make \"sub histograms\" that display the detection distribution for each family in Radio and Optical.\n",
    "\n",
    "At time of writing, I have only managed to plot radio measurement counts, however the code required to plot optical measurement counts should be quite simillar to this."
   ]
  },
  {
   "cell_type": "code",
   "execution_count": null,
   "id": "345bf510-fc43-44c1-a1d0-a6ad067093b9",
   "metadata": {},
   "outputs": [],
   "source": [
    "#first, pull the VAST pipeline:\n",
    "pipe=Pipeline()\n",
    "my_run=pipe.load_run('tiles_corrected')"
   ]
  },
  {
   "cell_type": "code",
   "execution_count": null,
   "id": "af5cf39d-c2cc-4921-a841-cd95bef4ac0f",
   "metadata": {},
   "outputs": [],
   "source": [
    "#we will create subsets from the cms file that correspond to each family. AGN_list has already been done:\n",
    "Unknown_list=cms.query('family == \"Unknown\"')\n",
    "Galaxy_list=cms.query('family == \"Galaxy\"')\n",
    "SS_list=cms.query('family == \"Solar System\"')\n",
    "Radio_list=cms.query('family == \"Radio\"')\n",
    "SN_list=cms.query('family == \"Supernova\"')\n",
    "MW_list=cms.query('family == \"Multiwavelength\"')\n",
    "Star_list=cms.query('family == \"Star\"')"
   ]
  },
  {
   "cell_type": "code",
   "execution_count": null,
   "id": "2d0afd81-f532-435f-a350-5fa85643c4c5",
   "metadata": {},
   "outputs": [],
   "source": [
    "#since matched id list is a list of strings, astype(int) converts them into intergers first\n",
    "matched_ids=cms['matched_id'].astype(int).to_list()\n",
    "matched_ids_AGN=AGN_list['matched_id'].astype(int).to_list()\n",
    "matched_ids_Unknown=Unknown_list['matched_id'].astype(int).to_list()\n",
    "matched_ids_Galaxy=Galaxy_list['matched_id'].astype(int).to_list()\n",
    "matched_ids_SS=SS_list['matched_id'].astype(int).to_list()\n",
    "matched_ids_Radio=Radio_list['matched_id'].astype(int).to_list()\n",
    "matched_ids_SN=SN_list['matched_id'].astype(int).to_list()\n",
    "matched_ids_MW=MW_list['matched_id'].astype(int).to_list()\n",
    "matched_ids_Star=Star_list['matched_id'].astype(int).to_list()"
   ]
  },
  {
   "cell_type": "code",
   "execution_count": null,
   "id": "11242214-1199-4b2d-9e46-8df1e4e82efc",
   "metadata": {},
   "outputs": [],
   "source": [
    "#pull out VAST sources from matched ids\n",
    "my_sources=my_run.sources.loc[matched_ids]\n",
    "my_sources_AGN=my_run.sources.loc[matched_ids_AGN]\n",
    "my_sources_Unknown=my_run.sources.loc[matched_ids_Unknown]\n",
    "my_sources_Galaxy=my_run.sources.loc[matched_ids_Galaxy]\n",
    "my_sources_SS=my_run.sources.loc[matched_ids_SS]\n",
    "my_sources_Radio=my_run.sources.loc[matched_ids_Radio]\n",
    "my_sources_SN=my_run.sources.loc[matched_ids_SN]\n",
    "my_sources_MW=my_run.sources.loc[matched_ids_MW]\n",
    "my_sources_Star=my_run.sources.loc[matched_ids_Star]"
   ]
  },
  {
   "cell_type": "code",
   "execution_count": null,
   "id": "db37f001-101c-4343-9724-bdacc2c85ca8",
   "metadata": {},
   "outputs": [],
   "source": [
    "#pull out the measurement count for each source under the matched id\n",
    "VAST_measurement_count=my_sources['n_measurements'].astype('int64').to_list()\n",
    "VAST_measurement_count_AGN=my_sources_AGN['n_measurements'].astype('int64').to_list()\n",
    "VAST_measurement_count_Unknown=my_sources_Unknown['n_measurements'].astype('int64').to_list()\n",
    "VAST_measurement_count_Galaxy=my_sources_Galaxy['n_measurements'].astype('int64').to_list()\n",
    "VAST_measurement_count_SS=my_sources_SS['n_measurements'].astype('int64').to_list()\n",
    "VAST_measurement_count_Radio=my_sources_Radio['n_measurements'].astype('int64').to_list()\n",
    "VAST_measurement_count_SN=my_sources_SN['n_measurements'].astype('int64').to_list()\n",
    "VAST_measurement_count_MW=my_sources_MW['n_measurements'].astype('int64').to_list()\n",
    "VAST_measurement_count_Star=my_sources_Star['n_measurements'].astype('int64').to_list()"
   ]
  },
  {
   "cell_type": "code",
   "execution_count": null,
   "id": "6872b684-2200-4274-b572-336376d6546c",
   "metadata": {},
   "outputs": [],
   "source": [
    "#how many unique numbers in this list are there? and what are they?\n",
    "print(len(pd.unique(VAST_measurement_count)))\n",
    "print(pd.unique(VAST_measurement_count))"
   ]
  },
  {
   "cell_type": "code",
   "execution_count": null,
   "id": "b2c6800d-826a-4ea2-9180-3116d5d984c3",
   "metadata": {},
   "outputs": [],
   "source": [
    "#plt.style.use('fivethirtyeight')\n",
    "bins=[1,2,3,4,5,6,7,8,9,10,11,12,13,14,15]\n",
    "figsize=(20,10)\n",
    "fig,([ax1,ax2,ax3,ax4],[ax5,ax6,ax7,ax8])=plt.subplots(nrows=2,ncols=4,figsize=figsize)\n",
    "\n",
    "ax1.hist(VAST_measurement_count,bins=bins,edgecolor='black',log=True,label='Total')\n",
    "ax1.hist(VAST_measurement_count_AGN,bins=bins,edgecolor='black',log=True,label='AGN',color='orange')\n",
    "ax1.legend(loc='upper left')\n",
    "ax1.set_xlabel('Measurements',fontsize='large')\n",
    "ax1.set_ylabel('No. Sources',fontsize='large')\n",
    "ax1.set_ylim(top=1000)\n",
    "\n",
    "ax2.hist(VAST_measurement_count,bins=bins,edgecolor='black',log=True,label='Total')\n",
    "ax2.hist(VAST_measurement_count_Unknown,bins=bins,edgecolor='black',log=True,label='Unknown',color='red')\n",
    "ax2.legend(loc='upper left')\n",
    "ax2.set_ylim(top=1000)\n",
    "\n",
    "ax3.hist(VAST_measurement_count,bins=bins,edgecolor='black',log=True,label='Total')\n",
    "ax3.hist(VAST_measurement_count_Galaxy,bins=bins,edgecolor='black',log=True,label='Galaxy',color='lime')\n",
    "ax3.legend(loc='upper left')\n",
    "ax3.set_ylim(top=1000)\n",
    "\n",
    "ax4.hist(VAST_measurement_count,bins=bins,edgecolor='black',log=True,label='Total')\n",
    "ax4.hist(VAST_measurement_count_SS,bins=bins,edgecolor='black',log=True,label='Solar System',color='pink')\n",
    "ax4.legend(loc='upper left')\n",
    "ax4.set_ylim(top=1000)\n",
    "\n",
    "######\n",
    "\n",
    "ax5.hist(VAST_measurement_count,bins=bins,edgecolor='black',log=True,label='Total')\n",
    "ax5.hist(VAST_measurement_count_Radio,bins=bins,edgecolor='black',log=True,label='Radio',color='yellow')\n",
    "ax5.legend(loc='upper left')\n",
    "ax5.set_ylim(top=1000)\n",
    "\n",
    "ax6.hist(VAST_measurement_count,bins=bins,edgecolor='black',log=True,label='Total')\n",
    "ax6.hist(VAST_measurement_count_SN,bins=bins,edgecolor='black',log=True,label='Supernova',color='skyblue')\n",
    "ax6.legend(loc='upper left')\n",
    "ax6.set_ylim(top=1000)\n",
    "\n",
    "ax7.hist(VAST_measurement_count,bins=bins,edgecolor='black',log=True,label='Total')\n",
    "ax7.hist(VAST_measurement_count_MW,bins=bins,edgecolor='black',log=True,label='Multiwavelength',color='fuchsia')\n",
    "ax7.legend(loc='upper left')\n",
    "ax7.set_ylim(top=1000)\n",
    "\n",
    "ax8.hist(VAST_measurement_count,bins=bins,edgecolor='black',log=True,label='Total')\n",
    "ax8.hist(VAST_measurement_count_Star,bins=bins,edgecolor='black',log=True,label='Star',color='coral')\n",
    "ax8.legend(loc='upper left')\n",
    "ax8.set_ylim(top=1000)\n",
    "\n",
    "plt.show()"
   ]
  },
  {
   "cell_type": "code",
   "execution_count": null,
   "id": "d6ec2803-953d-46ab-b8ca-15d2cfff9c32",
   "metadata": {},
   "outputs": [],
   "source": [
    "#Save it if you like it!\n",
    "fig.savefig('CMS_Histograms.png',facecolor='white')"
   ]
  }
 ],
 "metadata": {
  "kernelspec": {
   "display_name": "Python 3 (ipykernel)",
   "language": "python",
   "name": "python3"
  },
  "language_info": {
   "codemirror_mode": {
    "name": "ipython",
    "version": 3
   },
   "file_extension": ".py",
   "mimetype": "text/x-python",
   "name": "python",
   "nbconvert_exporter": "python",
   "pygments_lexer": "ipython3",
   "version": "3.9.5"
  }
 },
 "nbformat": 4,
 "nbformat_minor": 5
}
