{
 "cells": [
  {
   "cell_type": "code",
   "execution_count": 2,
   "id": "2abf5b67-49f9-4219-a3da-0b0291ba4b1f",
   "metadata": {},
   "outputs": [],
   "source": [
    "#here are the necessary imports\n",
    "import os\n",
    "import requests\n",
    "import pandas as pd\n",
    "import numpy as np\n",
    "import matplotlib.pyplot as plt\n",
    "import matplotlib.gridspec as gridspec\n",
    "from io import StringIO\n",
    "from vasttools.pipeline import Pipeline\n",
    "from vasttools.query import Query\n",
    "import Projecttools as pro #brand new module for frequently used code!\n",
    "\n",
    "%matplotlib inline"
   ]
  },
  {
   "cell_type": "code",
   "execution_count": 3,
   "id": "8c40ac35-c9a0-4c53-aabd-686d1c03b548",
   "metadata": {},
   "outputs": [
    {
     "data": {
      "text/plain": [
       "family\n",
       "AGN                827\n",
       "Unknown            516\n",
       "Galaxy             167\n",
       "Solar System        81\n",
       "Radio               70\n",
       "Supernova           51\n",
       "Multiwavelength     39\n",
       "Star                21\n",
       "dtype: int64"
      ]
     },
     "execution_count": 3,
     "metadata": {},
     "output_type": "execute_result"
    }
   ],
   "source": [
    "cms = pd.read_pickle('Fink_2020_sources_matched_to_VAST_all_sources.pickle')\n",
    "pro.family_sort(cms)\n",
    "cms.groupby('family').size().sort_values(ascending=False)"
   ]
  },
  {
   "cell_type": "code",
   "execution_count": 4,
   "id": "d59a49e2-e45f-4558-9ae3-bd3b98e0494f",
   "metadata": {},
   "outputs": [
    {
     "name": "stderr",
     "output_type": "stream",
     "text": [
      "/opt/conda/lib/python3.9/site-packages/vasttools/pipeline.py:2609: UserWarning: Measurements have been loaded with vaex.\n",
      "  warnings.warn(\"Measurements have been loaded with vaex.\")\n"
     ]
    }
   ],
   "source": [
    "#This will automatically find the base directory that needed to be specified\n",
    "pipe=Pipeline()\n",
    "#this way, we can also load specific runs from the VAST pipeline:\n",
    "my_run=pipe.load_run('tiles_corrected')"
   ]
  },
  {
   "cell_type": "code",
   "execution_count": 5,
   "id": "25c69269-3a06-4317-90cd-b148cf31789f",
   "metadata": {},
   "outputs": [],
   "source": [
    "#Im just putting the eta and v threshholds because the eta-v analysis takes an actual eternity to complete and I already\n",
    "#have the values here:\n",
    "eta_thresh=2.315552652171963\n",
    "v_thresh=0.2878888414273631"
   ]
  },
  {
   "cell_type": "code",
   "execution_count": 6,
   "id": "73524f20-82dc-436d-9a4e-e0c3bb7d0b90",
   "metadata": {},
   "outputs": [
    {
     "name": "stdout",
     "output_type": "stream",
     "text": [
      "There are 213 candidate sources:\n"
     ]
    },
    {
     "data": {
      "text/plain": [
       "family\n",
       "AGN                93\n",
       "Unknown            53\n",
       "Solar System       30\n",
       "Galaxy             15\n",
       "Radio               9\n",
       "Star                5\n",
       "Multiwavelength     4\n",
       "Supernova           4\n",
       "dtype: int64"
      ]
     },
     "execution_count": 6,
     "metadata": {},
     "output_type": "execute_result"
    }
   ],
   "source": [
    "cms_candidates = pro.eta_v_candidate_filter(cms,my_run,eta_thresh,v_thresh)\n",
    "cms_candidates.groupby('family').size().sort_values(ascending=False)"
   ]
  },
  {
   "cell_type": "code",
   "execution_count": 7,
   "id": "e6546e27-58a2-41c6-98f5-e7276f2c3e44",
   "metadata": {},
   "outputs": [],
   "source": [
    "#These IDs are selected from the curated list of interesting sources (lightcurves can be seen via powerpoint.)\n",
    "Special_IDS_1=['ZTF18abqsfre',\n",
    "           'ZTF19acxyuza',\n",
    "           'ZTF19aalpgfb',\n",
    "           'ZTF20aakbllj',\n",
    "           'ZTF19ablozzh',\n",
    "           'ZTF18acyerqq',\n",
    "           'ZTF19aaapnwa',\n",
    "           'ZTF19aauczln',\n",
    "           'ZTF19aarqoey',\n",
    "           'ZTF18acnnguv',\n",
    "           'ZTF18aczeoif',\n",
    "           'ZTF19abbnhro']"
   ]
  },
  {
   "cell_type": "code",
   "execution_count": 8,
   "id": "1c8c5fc3-bd46-47c1-b46e-16caf5bd8dad",
   "metadata": {},
   "outputs": [],
   "source": [
    "#defining column array for cutouts\n",
    "cutouts=[\n",
    "'b:cutoutScience_stampData',\n",
    "'b:cutoutTemplate_stampData',\n",
    "'b:cutoutDifference_stampData'\n",
    "]\n",
    "\n",
    "#this is the request made to the fink portal to pull out the info for each source\n",
    "r = requests.post(\n",
    "  'https://fink-portal.org/api/v1/objects',\n",
    "  json={\n",
    "    'objectId': 'ZTF18abqsfre', \n",
    "    'output-format': 'json',\n",
    "    'withcutouts': 'True',\n",
    "    'cols': ','.join(cutouts),\n",
    "    'withupperlim': 'True' #important for lightcurve plotting\n",
    "  }\n",
    ")"
   ]
  },
  {
   "cell_type": "code",
   "execution_count": 9,
   "id": "34b84c96-46cc-48a6-8675-e01bf57d23c0",
   "metadata": {},
   "outputs": [],
   "source": [
    "#reads in json file data as DataFrame. fsd stands for 'FINK source data'\n",
    "fsd=pd.read_json(StringIO(r.content.decode()))"
   ]
  },
  {
   "cell_type": "code",
   "execution_count": 28,
   "id": "abb8e467-2a6a-43c1-850e-11af4f7d0707",
   "metadata": {},
   "outputs": [
    {
     "data": {
      "image/png": "[encoded data removed]",
      "text/plain": [
       "<Figure size 1080x432 with 2 Axes>"
      ]
     },
     "metadata": {
      "needs_background": "light"
     },
     "output_type": "display_data"
    }
   ],
   "source": [
    "FINK_ID='ZTF18abqsfre'\n",
    "pro.plot_lightcurves(my_run,fsd,cms_candidates,FINK_ID,xlim=58550,vast_ylim=[1000,2750],fink_ylim=[18.3,19.3])"
   ]
  },
  {
   "cell_type": "code",
   "execution_count": null,
   "id": "b2363923-5d65-4fca-9edb-1d38907cc0ba",
   "metadata": {},
   "outputs": [],
   "source": [
    "pro.plot_cutouts(my_run,fsd,cms_candidates_selection,FINK_ID,vast_epoch='1')"
   ]
  }
 ],
 "metadata": {
  "kernelspec": {
   "display_name": "Python 3 (ipykernel)",
   "language": "python",
   "name": "python3"
  },
  "language_info": {
   "codemirror_mode": {
    "name": "ipython",
    "version": 3
   },
   "file_extension": ".py",
   "mimetype": "text/x-python",
   "name": "python",
   "nbconvert_exporter": "python",
   "pygments_lexer": "ipython3",
   "version": "3.9.5"
  }
 },
 "nbformat": 4,
 "nbformat_minor": 5
}
