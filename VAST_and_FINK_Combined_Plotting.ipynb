{
 "cells": [
  {
   "cell_type": "markdown",
   "id": "2462ebc8-71e0-4a7d-8729-7b3cf44da9e4",
   "metadata": {},
   "source": [
    "# VAST And FINK Combined Lightcurve Plotting"
   ]
  },
  {
   "cell_type": "markdown",
   "id": "6a00bcdc-f61d-43ce-8275-13e9e4393bd7",
   "metadata": {},
   "source": [
    "This notebook is for Plotting the optical and radio variant sources side by side, as well as a starting point for seeing how to combine the data from both plots into one."
   ]
  },
  {
   "cell_type": "code",
   "execution_count": 1,
   "id": "60679324-73b5-4272-8eac-fcd1881d69f3",
   "metadata": {},
   "outputs": [],
   "source": [
    "#here are the necessary imports\n",
    "import os\n",
    "import requests\n",
    "import pandas as pd\n",
    "import numpy as np\n",
    "import matplotlib.pyplot as plt\n",
    "import matplotlib.gridspec as gridspec\n",
    "from io import StringIO\n",
    "from vasttools.pipeline import Pipeline\n",
    "from vasttools.query import Query\n",
    "import Projecttools as pro #brand new module for frequently used code!\n",
    "\n",
    "%matplotlib inline"
   ]
  },
  {
   "cell_type": "code",
   "execution_count": 2,
   "id": "bba3c68e-e5e7-459c-857d-b9105aad7914",
   "metadata": {},
   "outputs": [
    {
     "data": {
      "text/plain": [
       "family\n",
       "AGN                827\n",
       "Unknown            516\n",
       "Galaxy             167\n",
       "Solar System        81\n",
       "Radio               70\n",
       "Supernova           51\n",
       "Multiwavelength     39\n",
       "Star                21\n",
       "dtype: int64"
      ]
     },
     "execution_count": 2,
     "metadata": {},
     "output_type": "execute_result"
    }
   ],
   "source": [
    "cms = pd.read_pickle('Fink_2020_sources_matched_to_VAST_all_sources.pickle')\n",
    "pro.family_sort(cms)\n",
    "cms.groupby('family').size().sort_values(ascending=False)"
   ]
  },
  {
   "cell_type": "markdown",
   "id": "84ede841-fe46-4904-9da8-fadd14285b1e",
   "metadata": {},
   "source": [
    "## Lets start with the radio preamble:"
   ]
  },
  {
   "cell_type": "code",
   "execution_count": 3,
   "id": "d82c40cc-4487-4c5b-8ac1-4fb7816d4bc2",
   "metadata": {},
   "outputs": [
    {
     "name": "stderr",
     "output_type": "stream",
     "text": [
      "/opt/conda/lib/python3.9/site-packages/vasttools/pipeline.py:2609: UserWarning: Measurements have been loaded with vaex.\n",
      "  warnings.warn(\"Measurements have been loaded with vaex.\")\n"
     ]
    }
   ],
   "source": [
    "#This will automatically find the base directory that needed to be specified\n",
    "pipe=Pipeline()\n",
    "#this way, we can also load specific runs from the VAST pipeline:\n",
    "my_run=pipe.load_run('tiles_corrected')"
   ]
  },
  {
   "cell_type": "code",
   "execution_count": 4,
   "id": "0f0b11f3-9b2f-4a5a-8bdd-5bcdae818c4f",
   "metadata": {},
   "outputs": [],
   "source": [
    "#Im just putting the eta and v threshholds because the eta-v analysis takes an actual eternity to complete and I already\n",
    "#have the values here:\n",
    "eta_thresh=2.315552652171963\n",
    "v_thresh=0.2878888414273631"
   ]
  },
  {
   "cell_type": "code",
   "execution_count": 5,
   "id": "174e6502-0b39-45a7-9840-869cb0530675",
   "metadata": {},
   "outputs": [
    {
     "name": "stdout",
     "output_type": "stream",
     "text": [
      "There are 213 candidate sources:\n"
     ]
    },
    {
     "data": {
      "text/plain": [
       "family\n",
       "AGN                93\n",
       "Unknown            53\n",
       "Solar System       30\n",
       "Galaxy             15\n",
       "Radio               9\n",
       "Star                5\n",
       "Multiwavelength     4\n",
       "Supernova           4\n",
       "dtype: int64"
      ]
     },
     "execution_count": 5,
     "metadata": {},
     "output_type": "execute_result"
    }
   ],
   "source": [
    "cms_candidates = pro.eta_v_candidate_filter(cms,my_run,eta_thresh,v_thresh)\n",
    "cms_candidates.groupby('family').size().sort_values(ascending=False)"
   ]
  },
  {
   "cell_type": "markdown",
   "id": "cdfb7523-5c81-4a49-9ea6-0949e9aed871",
   "metadata": {},
   "source": [
    "## Now, the optical preamble:"
   ]
  },
  {
   "cell_type": "markdown",
   "id": "f9229d9d-405f-4067-9e72-fa58a957f3b3",
   "metadata": {},
   "source": [
    "Here, we'll list out any special sources we want to take a closer look at:"
   ]
  },
  {
   "cell_type": "code",
   "execution_count": 6,
   "id": "fcb4db53-b081-45ca-a9da-d656f258c77e",
   "metadata": {},
   "outputs": [],
   "source": [
    "#These IDs are selected from the curated list of interesting sources (lightcurves can be seen via powerpoint.)\n",
    "Special_IDS_1=['ZTF18abqsfre',\n",
    "           'ZTF19acxyuza',\n",
    "           'ZTF19aalpgfb',\n",
    "           'ZTF20aakbllj',\n",
    "           'ZTF19ablozzh',\n",
    "           'ZTF18acyerqq',\n",
    "           'ZTF19aaapnwa',\n",
    "           'ZTF19aauczln',\n",
    "           'ZTF19aarqoey',\n",
    "           'ZTF18acnnguv',\n",
    "           'ZTF18aczeoif',\n",
    "           'ZTF19abbnhro']"
   ]
  },
  {
   "cell_type": "markdown",
   "id": "112572f3-b8f5-4d6e-ab17-202ad91865f8",
   "metadata": {},
   "source": [
    "There is a limit the number of requested sources that the FINK portal can give in one run (without things breaking). So, its best to request no more than 30 sources from the filtered catalogue (likely wont even need that much if the family of interest only contains a handful.)"
   ]
  },
  {
   "cell_type": "code",
   "execution_count": 7,
   "id": "0309acc2-1b20-40c4-a30a-3605c63b3151",
   "metadata": {},
   "outputs": [
    {
     "data": {
      "text/plain": [
       "12"
      ]
     },
     "execution_count": 7,
     "metadata": {},
     "output_type": "execute_result"
    }
   ],
   "source": [
    "cms_candidates_selection = cms_candidates.query('objectId == @Special_IDS_1')\n",
    "\n",
    "#This reformats the index's in the candidate selection, so specific row ranges can be pulled out.\n",
    "cms_candidates_selection = cms_candidates_selection.reset_index()\n",
    "len(cms_candidates_selection)"
   ]
  },
  {
   "cell_type": "markdown",
   "id": "66d1cea8-25a7-4222-bf9b-6f2b13705c66",
   "metadata": {},
   "source": [
    "In instances where the family in question is too large to request at once, here we will take a subset of the objects and request them. We're limiting the size of the subset to 30 sources max:"
   ]
  },
  {
   "cell_type": "code",
   "execution_count": 8,
   "id": "1972c7b6-aa95-4015-97da-f4543081f0a0",
   "metadata": {},
   "outputs": [
    {
     "data": {
      "text/plain": [
       "12"
      ]
     },
     "execution_count": 8,
     "metadata": {},
     "output_type": "execute_result"
    }
   ],
   "source": [
    "#This selects rows in our selection in interger index steps from a starting and stopping point\n",
    "#test.loc[start:stop:steps]\n",
    "\n",
    "#This selects up to 30 rows at a time\n",
    "candidate_sample = cms_candidates_selection.loc[0:11:1]\n",
    "len(candidate_sample)"
   ]
  },
  {
   "cell_type": "code",
   "execution_count": 9,
   "id": "49149f2f-d14d-499c-a000-97dfde4b5db4",
   "metadata": {},
   "outputs": [],
   "source": [
    "#retreiving object data for several objects at once using the objectId list (with upperlim):\n",
    "Idlist = candidate_sample['objectId'].to_list()\n",
    "\n",
    "#defining column array for cutouts\n",
    "cutouts=[\n",
    "'b:cutoutScience_stampData',\n",
    "'b:cutoutTemplate_stampData',\n",
    "'b:cutoutDifference_stampData'\n",
    "]\n",
    "\n",
    "#this is the request made to the fink portal to pull out the info for each source\n",
    "r = requests.post(\n",
    "  'https://fink-portal.org/api/v1/objects',\n",
    "  json={\n",
    "    'objectId': ','.join(Idlist), \n",
    "    'output-format': 'json',\n",
    "    'withcutouts': 'True',\n",
    "    'cols': ','.join(cutouts),\n",
    "    'withupperlim': 'True' #important for lightcurve plotting\n",
    "  }\n",
    ")"
   ]
  },
  {
   "cell_type": "code",
   "execution_count": 10,
   "id": "28cb0af8-111f-4923-83d4-6cb57e5395c2",
   "metadata": {},
   "outputs": [],
   "source": [
    "#reads in json file data as DataFrame. fsd stands for 'FINK source data'\n",
    "fsd=pd.read_json(StringIO(r.content.decode()))"
   ]
  },
  {
   "cell_type": "markdown",
   "id": "c08ad4a1-588b-4199-8329-619e0bc1abe5",
   "metadata": {},
   "source": [
    "## Candidate Selection and Plotting"
   ]
  },
  {
   "cell_type": "code",
   "execution_count": 11,
   "id": "4b364ced-85b1-48ff-8801-9ad525c8b59c",
   "metadata": {},
   "outputs": [
    {
     "data": {
      "text/html": [
       "<div>\n",
       "<style scoped>\n",
       "    .dataframe tbody tr th:only-of-type {\n",
       "        vertical-align: middle;\n",
       "    }\n",
       "\n",
       "    .dataframe tbody tr th {\n",
       "        vertical-align: top;\n",
       "    }\n",
       "\n",
       "    .dataframe thead th {\n",
       "        text-align: right;\n",
       "    }\n",
       "</style>\n",
       "<table border=\"1\" class=\"dataframe\">\n",
       "  <thead>\n",
       "    <tr style=\"text-align: right;\">\n",
       "      <th></th>\n",
       "      <th>index</th>\n",
       "      <th>objectId</th>\n",
       "      <th>matched_id</th>\n",
       "      <th>class</th>\n",
       "      <th>cdsxmatch</th>\n",
       "      <th>ra</th>\n",
       "      <th>dec</th>\n",
       "      <th>family</th>\n",
       "    </tr>\n",
       "  </thead>\n",
       "  <tbody>\n",
       "    <tr>\n",
       "      <th>0</th>\n",
       "      <td>75</td>\n",
       "      <td>ZTF19aalpgfb</td>\n",
       "      <td>3300988</td>\n",
       "      <td>Unknown</td>\n",
       "      <td>Unknown</td>\n",
       "      <td>203.785435</td>\n",
       "      <td>3.272751</td>\n",
       "      <td>Unknown</td>\n",
       "    </tr>\n",
       "    <tr>\n",
       "      <th>1</th>\n",
       "      <td>110</td>\n",
       "      <td>ZTF18acyerqq</td>\n",
       "      <td>3855289</td>\n",
       "      <td>QSO</td>\n",
       "      <td>QSO</td>\n",
       "      <td>192.964023</td>\n",
       "      <td>-2.392626</td>\n",
       "      <td>AGN</td>\n",
       "    </tr>\n",
       "    <tr>\n",
       "      <th>2</th>\n",
       "      <td>113</td>\n",
       "      <td>ZTF19aaapnwa</td>\n",
       "      <td>3304681</td>\n",
       "      <td>QSO</td>\n",
       "      <td>QSO</td>\n",
       "      <td>176.964837</td>\n",
       "      <td>-7.411458</td>\n",
       "      <td>AGN</td>\n",
       "    </tr>\n",
       "    <tr>\n",
       "      <th>3</th>\n",
       "      <td>297</td>\n",
       "      <td>ZTF20aakbllj</td>\n",
       "      <td>3985063</td>\n",
       "      <td>Unknown</td>\n",
       "      <td>Unknown</td>\n",
       "      <td>143.550637</td>\n",
       "      <td>-7.611857</td>\n",
       "      <td>Unknown</td>\n",
       "    </tr>\n",
       "    <tr>\n",
       "      <th>4</th>\n",
       "      <td>416</td>\n",
       "      <td>ZTF19aauczln</td>\n",
       "      <td>3456705</td>\n",
       "      <td>QSO</td>\n",
       "      <td>QSO</td>\n",
       "      <td>324.160772</td>\n",
       "      <td>0.698314</td>\n",
       "      <td>AGN</td>\n",
       "    </tr>\n",
       "    <tr>\n",
       "      <th>5</th>\n",
       "      <td>570</td>\n",
       "      <td>ZTF19acxyuza</td>\n",
       "      <td>3642158</td>\n",
       "      <td>Galaxy</td>\n",
       "      <td>Galaxy</td>\n",
       "      <td>166.757954</td>\n",
       "      <td>-4.138944</td>\n",
       "      <td>Galaxy</td>\n",
       "    </tr>\n",
       "    <tr>\n",
       "      <th>6</th>\n",
       "      <td>602</td>\n",
       "      <td>ZTF18abqsfre</td>\n",
       "      <td>3187458</td>\n",
       "      <td>Radio</td>\n",
       "      <td>Radio</td>\n",
       "      <td>19.576867</td>\n",
       "      <td>2.968363</td>\n",
       "      <td>Radio</td>\n",
       "    </tr>\n",
       "    <tr>\n",
       "      <th>7</th>\n",
       "      <td>618</td>\n",
       "      <td>ZTF19aarqoey</td>\n",
       "      <td>3640015</td>\n",
       "      <td>Blazar</td>\n",
       "      <td>Blazar</td>\n",
       "      <td>144.910518</td>\n",
       "      <td>-3.251097</td>\n",
       "      <td>AGN</td>\n",
       "    </tr>\n",
       "    <tr>\n",
       "      <th>8</th>\n",
       "      <td>661</td>\n",
       "      <td>ZTF18acnnguv</td>\n",
       "      <td>3238791</td>\n",
       "      <td>QSO</td>\n",
       "      <td>QSO</td>\n",
       "      <td>142.717733</td>\n",
       "      <td>0.583038</td>\n",
       "      <td>AGN</td>\n",
       "    </tr>\n",
       "    <tr>\n",
       "      <th>9</th>\n",
       "      <td>761</td>\n",
       "      <td>ZTF19ablozzh</td>\n",
       "      <td>3403963</td>\n",
       "      <td>Unknown</td>\n",
       "      <td>Fail</td>\n",
       "      <td>36.540343</td>\n",
       "      <td>1.491337</td>\n",
       "      <td>Unknown</td>\n",
       "    </tr>\n",
       "    <tr>\n",
       "      <th>10</th>\n",
       "      <td>1074</td>\n",
       "      <td>ZTF18aczeoif</td>\n",
       "      <td>3572803</td>\n",
       "      <td>QSO</td>\n",
       "      <td>QSO</td>\n",
       "      <td>163.822043</td>\n",
       "      <td>2.095864</td>\n",
       "      <td>AGN</td>\n",
       "    </tr>\n",
       "    <tr>\n",
       "      <th>11</th>\n",
       "      <td>1298</td>\n",
       "      <td>ZTF19abbnhro</td>\n",
       "      <td>4157168</td>\n",
       "      <td>QSO</td>\n",
       "      <td>QSO</td>\n",
       "      <td>355.735874</td>\n",
       "      <td>-3.373964</td>\n",
       "      <td>AGN</td>\n",
       "    </tr>\n",
       "  </tbody>\n",
       "</table>\n",
       "</div>"
      ],
      "text/plain": [
       "    index      objectId matched_id    class cdsxmatch          ra       dec  \\\n",
       "0      75  ZTF19aalpgfb    3300988  Unknown   Unknown  203.785435  3.272751   \n",
       "1     110  ZTF18acyerqq    3855289      QSO       QSO  192.964023 -2.392626   \n",
       "2     113  ZTF19aaapnwa    3304681      QSO       QSO  176.964837 -7.411458   \n",
       "3     297  ZTF20aakbllj    3985063  Unknown   Unknown  143.550637 -7.611857   \n",
       "4     416  ZTF19aauczln    3456705      QSO       QSO  324.160772  0.698314   \n",
       "5     570  ZTF19acxyuza    3642158   Galaxy    Galaxy  166.757954 -4.138944   \n",
       "6     602  ZTF18abqsfre    3187458    Radio     Radio   19.576867  2.968363   \n",
       "7     618  ZTF19aarqoey    3640015   Blazar    Blazar  144.910518 -3.251097   \n",
       "8     661  ZTF18acnnguv    3238791      QSO       QSO  142.717733  0.583038   \n",
       "9     761  ZTF19ablozzh    3403963  Unknown      Fail   36.540343  1.491337   \n",
       "10   1074  ZTF18aczeoif    3572803      QSO       QSO  163.822043  2.095864   \n",
       "11   1298  ZTF19abbnhro    4157168      QSO       QSO  355.735874 -3.373964   \n",
       "\n",
       "     family  \n",
       "0   Unknown  \n",
       "1       AGN  \n",
       "2       AGN  \n",
       "3   Unknown  \n",
       "4       AGN  \n",
       "5    Galaxy  \n",
       "6     Radio  \n",
       "7       AGN  \n",
       "8       AGN  \n",
       "9   Unknown  \n",
       "10      AGN  \n",
       "11      AGN  "
      ]
     },
     "execution_count": 11,
     "metadata": {},
     "output_type": "execute_result"
    }
   ],
   "source": [
    "candidate_sample"
   ]
  },
  {
   "cell_type": "code",
   "execution_count": 106,
   "id": "56072b35-e860-481a-bef3-5c8569fdf7cd",
   "metadata": {},
   "outputs": [
    {
     "data": {
      "image/png": "[encoded data removed]",
      "text/plain": [
       "<Figure size 1080x432 with 2 Axes>"
      ]
     },
     "metadata": {
      "needs_background": "light"
     },
     "output_type": "display_data"
    }
   ],
   "source": [
    "FINK_ID='ZTF19abbnhro'\n",
    "pro.plot_lightcurves(my_run,fsd,cms_candidates_selection,FINK_ID,xlim=[58700,58900],vast_ylim=[160,190],fink_ylim=[19,17.8])"
   ]
  },
  {
   "cell_type": "code",
   "execution_count": null,
   "id": "fe031dd5-465b-4122-8ee1-3e9e24194558",
   "metadata": {},
   "outputs": [],
   "source": [
    "pro.plot_cutouts(my_run,fsd,cms_candidates_selection,FINK_ID,vast_epoch='1')"
   ]
  },
  {
   "cell_type": "code",
   "execution_count": null,
   "id": "845b63ab-09cd-44b9-a26e-5a8c3f7eb910",
   "metadata": {},
   "outputs": [],
   "source": []
  }
 ],
 "metadata": {
  "kernelspec": {
   "display_name": "Python 3 (ipykernel)",
   "language": "python",
   "name": "python3"
  },
  "language_info": {
   "codemirror_mode": {
    "name": "ipython",
    "version": 3
   },
   "file_extension": ".py",
   "mimetype": "text/x-python",
   "name": "python",
   "nbconvert_exporter": "python",
   "pygments_lexer": "ipython3",
   "version": "3.9.5"
  }
 },
 "nbformat": 4,
 "nbformat_minor": 5
}
