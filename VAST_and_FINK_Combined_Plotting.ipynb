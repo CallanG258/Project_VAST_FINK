{
 "cells": [
  {
   "cell_type": "markdown",
   "id": "2462ebc8-71e0-4a7d-8729-7b3cf44da9e4",
   "metadata": {},
   "source": [
    "# VAST And FINK Combined Lightcurve Plotting"
   ]
  },
  {
   "cell_type": "markdown",
   "id": "6a00bcdc-f61d-43ce-8275-13e9e4393bd7",
   "metadata": {},
   "source": [
    "This notebook is for Plotting the optical and radio variant sources side by side, as well as a starting point for seeing how to combine the data from both plots into one. This will involve some unit conversions (mag --> mJy, & Julian Date --> yyyy/mm/dd)"
   ]
  },
  {
   "cell_type": "code",
   "execution_count": 1,
   "id": "60679324-73b5-4272-8eac-fcd1881d69f3",
   "metadata": {},
   "outputs": [],
   "source": [
    "#here are the necessary imports\n",
    "import os\n",
    "import requests\n",
    "import pandas as pd\n",
    "import numpy as np\n",
    "import matplotlib.pyplot as plt\n",
    "from io import StringIO"
   ]
  },
  {
   "cell_type": "markdown",
   "id": "4f441278-7ffa-436f-877b-ffed5361f168",
   "metadata": {},
   "source": [
    "Now... for some mystical and magical reason, if you import vasttools BEFORE plotting the optical lightcurve, the optical plot wont show. I dont know why, I've triple checked this. So, when you go to execute the code in this notebook, you'll have to jump around the cells until we figure out why this bug is happening"
   ]
  },
  {
   "cell_type": "code",
   "execution_count": 2,
   "id": "bba3c68e-e5e7-459c-857d-b9105aad7914",
   "metadata": {},
   "outputs": [],
   "source": [
    "cmf = pd.read_pickle('Fink_2020_sources_matched_to_VAST_all_sources.pickle')"
   ]
  },
  {
   "cell_type": "code",
   "execution_count": 3,
   "id": "281395b5-d21c-404f-ba90-fd935dedd282",
   "metadata": {},
   "outputs": [],
   "source": [
    "AGN_Family=[\n",
    "'AGN',\n",
    "'AGN_Candidate',\n",
    "'QSO',\n",
    "'QSO_Candidate',\n",
    "'Seyfert',\n",
    "'Seyfert_1',\n",
    "'Seyfert_2',\n",
    "'Blazar',\n",
    "'BLLac',\n",
    "'Blazar_Candidate',\n",
    "'RadioG',\n",
    "'LINER'\n",
    "]\n",
    "\n",
    "Unknown_Family=[\n",
    "'Unknown'\n",
    "]\n",
    "\n",
    "Galaxy_Family=[\n",
    "'Galaxy',\n",
    "'EmG',\n",
    "'HII_G',\n",
    "'GroupG',\n",
    "'GinGroup',\n",
    "'GinCl',\n",
    "'GinPair',\n",
    "'BClG',\n",
    "'PartofG'\n",
    "]\n",
    "\n",
    "Stars_Family=[\n",
    "'Star',\n",
    "'RRLyr',\n",
    "'Candidate_RRLyr',\n",
    "'EB*',\n",
    "'Candidate_EB*',\n",
    "'WD*',\n",
    "'LMXB',\n",
    "'CataclyV*',\n",
    "'low-mass*'\n",
    "]\n",
    "\n",
    "Supernovae_Family=[\n",
    "'SN',\n",
    "'SN candidate'\n",
    "]\n",
    "\n",
    "Radio_Family=[\n",
    "'Radio',\n",
    "'Radio(cm)'\n",
    "]\n",
    "\n",
    "Multiwavelength_Family=[\n",
    "'Blue',\n",
    "'UV',\n",
    "'X'\n",
    "]\n",
    "\n",
    "Solar_System_Family=[\n",
    "'Solar System',\n",
    "'Solar System MPC',\n",
    "'Solar System candidate',\n",
    "]"
   ]
  },
  {
   "cell_type": "code",
   "execution_count": 4,
   "id": "5bc0e241-0be3-4b4e-9b8d-f3d1d1d84c0b",
   "metadata": {},
   "outputs": [],
   "source": [
    "Source_Families=[] #define an empty array\n",
    "for i, row in cmf.iterrows(): #'i' represents the first index in cmf.iterrows, 'row' is the second\n",
    "    x=row['class'] #this pulls out the class column from eachrow\n",
    "    for j in AGN_Family: #for all the classes listed in the AGN family\n",
    "        if x==j: #if it matches the class of the row\n",
    "            Source_Families.append('AGN') #add 'AGN' to the empty array\n",
    "    else: #otherwise, check the other families to see if it matches\n",
    "        for j in Unknown_Family:\n",
    "            if x==j:\n",
    "                Source_Families.append('Unknown')\n",
    "        else:\n",
    "            for j in Galaxy_Family:\n",
    "                if x==j:\n",
    "                    Source_Families.append('Galaxy')\n",
    "            else:\n",
    "                for j in Stars_Family:\n",
    "                    if x==j:\n",
    "                        Source_Families.append('Star')\n",
    "                else:\n",
    "                    for j in Supernovae_Family:\n",
    "                        if x==j:\n",
    "                            Source_Families.append('Supernova')\n",
    "                    else:\n",
    "                        for j in Radio_Family:\n",
    "                            if x==j:\n",
    "                                Source_Families.append('Radio')\n",
    "                        else:\n",
    "                            for j in Multiwavelength_Family:\n",
    "                                if x==j:\n",
    "                                    Source_Families.append('Multiwavelength')\n",
    "                            else:\n",
    "                                for j in Solar_System_Family:\n",
    "                                    if x==j:\n",
    "                                        Source_Families.append('Solar System')\n",
    "                                    \n",
    "cmf['family']=Source_Families"
   ]
  },
  {
   "cell_type": "code",
   "execution_count": 31,
   "id": "60345741-7556-4bd8-990b-6b685c12fcd8",
   "metadata": {},
   "outputs": [],
   "source": [
    "#defining the photometry plotting function here to save having to rerun it everytime:\n",
    "\n",
    "def plot_photometry(pdf):\n",
    "    fig = plt.figure(figsize=(12, 5))\n",
    "\n",
    "    colordic = {1: 'C0', 2: 'C1'}\n",
    "\n",
    "    for filt in np.unique(pdf['i:fid']):\n",
    "        maskFilt = pdf['i:fid'] == filt\n",
    "\n",
    "        # The column `d:tag` is used to check data type\n",
    "        maskValid = pdf['d:tag'] == 'valid'\n",
    "        plt.errorbar(\n",
    "            pdf[maskValid & maskFilt]['i:jd'].apply(lambda x: x - 2400000.5),\n",
    "            pdf[maskValid & maskFilt]['i:magpsf'],\n",
    "            pdf[maskValid & maskFilt]['i:sigmapsf'],\n",
    "            ls = '', marker='o', color=colordic[filt]\n",
    "        )\n",
    "\n",
    "        maskUpper = pdf['d:tag'] == 'upperlim'\n",
    "        plt.plot(\n",
    "            pdf[maskUpper & maskFilt]['i:jd'].apply(lambda x: x - 2400000.5),\n",
    "            pdf[maskUpper & maskFilt]['i:diffmaglim'],\n",
    "            ls='', marker='^', color=colordic[filt], markerfacecolor='none'\n",
    "        )\n",
    "\n",
    "        maskBadquality = pdf['d:tag'] == 'badquality'\n",
    "        plt.errorbar(\n",
    "            pdf[maskBadquality & maskFilt]['i:jd'].apply(lambda x: x - 2400000.5),\n",
    "            pdf[maskBadquality & maskFilt]['i:magpsf'],\n",
    "            pdf[maskBadquality & maskFilt]['i:sigmapsf'],\n",
    "            ls='', marker='v', color=colordic[filt]\n",
    "        )\n",
    "\n",
    "    plt.gca().invert_yaxis()\n",
    "    plt.xlabel('Modified Julian Date')\n",
    "    plt.ylabel('Magnitude')\n",
    "    plt.show()"
   ]
  },
  {
   "cell_type": "markdown",
   "id": "cdfb7523-5c81-4a49-9ea6-0949e9aed871",
   "metadata": {},
   "source": [
    "## So lets start with the optical preamble:"
   ]
  },
  {
   "cell_type": "code",
   "execution_count": 6,
   "id": "49149f2f-d14d-499c-a000-97dfde4b5db4",
   "metadata": {},
   "outputs": [],
   "source": [
    "#retreiving object data for several objects at once using the objectId list (with upperlim):\n",
    "Idlist=cmf['objectId'].to_list()\n",
    "\n",
    "#defining column array for cutouts\n",
    "cutouts=[\n",
    "'b:cutoutScience_stampData',\n",
    "'b:cutoutTemplate_stampData',\n",
    "'b:cutoutDifference_stampData'\n",
    "]\n",
    "\n",
    "#this is the request made to the fink portal to pull out the info for each source\n",
    "r = requests.post(\n",
    "  'https://fink-portal.org/api/v1/objects',\n",
    "  json={\n",
    "    'objectId': 'ZTF18acetvcr',\n",
    "    'output-format': 'json',\n",
    "    'withcutouts': 'True',\n",
    "    'cols': ','.join(cutouts),\n",
    "    'withupperlim': 'True' #important for lightcurve plotting\n",
    "  }\n",
    ")"
   ]
  },
  {
   "cell_type": "code",
   "execution_count": 7,
   "id": "28cb0af8-111f-4923-83d4-6cb57e5395c2",
   "metadata": {},
   "outputs": [],
   "source": [
    "#reads in json file data as DataFrame. fsd stands for 'FINK source data'\n",
    "fsd=pd.read_json(StringIO(r.content.decode()))"
   ]
  },
  {
   "cell_type": "code",
   "execution_count": 8,
   "id": "bc141204-01d4-499e-a853-72cc27032ac1",
   "metadata": {},
   "outputs": [],
   "source": [
    "#This is fairly simple, we just specify a ZTF ID from our fsd list:\n",
    "ID='ZTF18acetvcr'\n",
    "\n",
    "#then define a new variable 'fsd_source, which is just all the rows in fsd such that the key 'i:objectId' is our ID of interest:\n",
    "fsd_source=fsd[fsd['i:objectId'] == ID]"
   ]
  },
  {
   "cell_type": "markdown",
   "id": "84ede841-fe46-4904-9da8-fadd14285b1e",
   "metadata": {},
   "source": [
    "## Now, the radio preamble:"
   ]
  },
  {
   "cell_type": "markdown",
   "id": "f3fa2e94-1838-4d9d-a09c-03893913159b",
   "metadata": {},
   "source": [
    "You will have to run this code AFTER you've plotted the optical lighcurve down below."
   ]
  },
  {
   "cell_type": "code",
   "execution_count": 11,
   "id": "d82c40cc-4487-4c5b-8ac1-4fb7816d4bc2",
   "metadata": {},
   "outputs": [
    {
     "name": "stderr",
     "output_type": "stream",
     "text": [
      "/opt/conda/lib/python3.9/site-packages/vasttools/pipeline.py:2609: UserWarning: Measurements have been loaded with vaex.\n",
      "  warnings.warn(\"Measurements have been loaded with vaex.\")\n"
     ]
    }
   ],
   "source": [
    "#This will automatically find the base directory that needed to be specified\n",
    "pipe=Pipeline()\n",
    "#this way, we can also load specific runs from the VAST pipeline:\n",
    "my_run=pipe.load_run('tiles_corrected')"
   ]
  },
  {
   "cell_type": "code",
   "execution_count": 12,
   "id": "22aa3f6e-ba57-4a9c-9e4a-ef10a3d9e7c4",
   "metadata": {},
   "outputs": [],
   "source": [
    "#this is the query string passed into the below function, which restricts the detected sources considered in the analysis. \n",
    "#Feel free to modify for different science goals.\n",
    "my_query_string = (\n",
    "    \"n_measurements >= 3 \"\n",
    "    \"& n_selavy >= 2 \" # source finder ~ ML\n",
    "    \"& n_neighbour_dist > 1./60.\"\n",
    "    \"& 0.8 < avg_compactness < 1.4 \"\n",
    "    \"& n_relations == 0\"\n",
    "    \"& max_snr >= 5.0\"\n",
    "    \"& v_peak > 0\"\n",
    ")"
   ]
  },
  {
   "cell_type": "code",
   "execution_count": 13,
   "id": "0f0b11f3-9b2f-4a5a-8bdd-5bcdae818c4f",
   "metadata": {},
   "outputs": [],
   "source": [
    "#Im just putting the eta and v threshholds because the eta-v analysis takes an actual eternity to complete and I already\n",
    "#have the values here:\n",
    "eta_thresh=2.315552652171963\n",
    "v_thresh=0.2878888414273631"
   ]
  },
  {
   "cell_type": "code",
   "execution_count": 14,
   "id": "cdc3ae1e-aee7-4975-9f6f-704b7f1c7e6a",
   "metadata": {},
   "outputs": [],
   "source": [
    "matched_ids=cmf['matched_id'].astype(int).to_list()"
   ]
  },
  {
   "cell_type": "code",
   "execution_count": 15,
   "id": "ebe3989b-5b25-4cd8-9567-43f16b528120",
   "metadata": {},
   "outputs": [
    {
     "name": "stdout",
     "output_type": "stream",
     "text": [
      "1711\n"
     ]
    }
   ],
   "source": [
    "#this creates an arrray of sources from my_run that have the same ids as the catalogue, with the necessary eta and V information\n",
    "#for the plot\n",
    "sel=my_run.sources[my_run.sources.index.isin(matched_ids)]\n",
    "print(len(sel))"
   ]
  },
  {
   "cell_type": "code",
   "execution_count": 16,
   "id": "a74cc4bf-7266-4686-b8b9-1a71995bd6c9",
   "metadata": {},
   "outputs": [],
   "source": [
    "#we already got the VAST info on our crossmatched sources through sel. we just need to filter for the highly variable\n",
    "#sources based on the eta and v threshholds we calculated before:\n",
    "candidate_sel = sel[(sel['eta_peak'] >= eta_thresh) & (sel['v_peak'] >= v_thresh)]\n",
    "\n",
    "#getting the sel_candidate ids is squirrely, since they're the row INDEX of the dataframe. \n",
    "#passing eta_v_candidates['id'] will not work. The below code pulls out those index values as a string list:\n",
    "candidate_ids=candidate_sel.index.values.astype('str').tolist()\n",
    "\n",
    "#then we just check how many objects in cmf have an id that match the candidate ids\n",
    "candidate_cmf=cmf[cmf['matched_id'].isin(candidate_ids)]"
   ]
  },
  {
   "cell_type": "markdown",
   "id": "c08ad4a1-588b-4199-8329-619e0bc1abe5",
   "metadata": {},
   "source": [
    "## Candidate Selection and Plotting"
   ]
  },
  {
   "cell_type": "code",
   "execution_count": 21,
   "id": "2881f1ce-fcea-4676-9c94-ef49b0a0fc56",
   "metadata": {},
   "outputs": [
    {
     "data": {
      "text/html": [
       "<div>\n",
       "<style scoped>\n",
       "    .dataframe tbody tr th:only-of-type {\n",
       "        vertical-align: middle;\n",
       "    }\n",
       "\n",
       "    .dataframe tbody tr th {\n",
       "        vertical-align: top;\n",
       "    }\n",
       "\n",
       "    .dataframe thead th {\n",
       "        text-align: right;\n",
       "    }\n",
       "</style>\n",
       "<table border=\"1\" class=\"dataframe\">\n",
       "  <thead>\n",
       "    <tr style=\"text-align: right;\">\n",
       "      <th></th>\n",
       "      <th>objectId</th>\n",
       "      <th>matched_id</th>\n",
       "      <th>class</th>\n",
       "      <th>cdsxmatch</th>\n",
       "      <th>ra</th>\n",
       "      <th>dec</th>\n",
       "      <th>family</th>\n",
       "    </tr>\n",
       "  </thead>\n",
       "  <tbody>\n",
       "    <tr>\n",
       "      <th>276</th>\n",
       "      <td>ZTF19aasqdci</td>\n",
       "      <td>3445010</td>\n",
       "      <td>Radio</td>\n",
       "      <td>Radio</td>\n",
       "      <td>190.376491</td>\n",
       "      <td>-7.281918</td>\n",
       "      <td>Radio</td>\n",
       "    </tr>\n",
       "    <tr>\n",
       "      <th>432</th>\n",
       "      <td>ZTF20aawijfi</td>\n",
       "      <td>3523466</td>\n",
       "      <td>Radio</td>\n",
       "      <td>Radio</td>\n",
       "      <td>300.994103</td>\n",
       "      <td>0.733969</td>\n",
       "      <td>Radio</td>\n",
       "    </tr>\n",
       "    <tr>\n",
       "      <th>549</th>\n",
       "      <td>ZTF19aadffas</td>\n",
       "      <td>3789407</td>\n",
       "      <td>Radio(cm)</td>\n",
       "      <td>Radio(cm)</td>\n",
       "      <td>160.937060</td>\n",
       "      <td>-6.482035</td>\n",
       "      <td>Radio</td>\n",
       "    </tr>\n",
       "    <tr>\n",
       "      <th>602</th>\n",
       "      <td>ZTF18abqsfre</td>\n",
       "      <td>3187458</td>\n",
       "      <td>Radio</td>\n",
       "      <td>Radio</td>\n",
       "      <td>19.576867</td>\n",
       "      <td>2.968363</td>\n",
       "      <td>Radio</td>\n",
       "    </tr>\n",
       "    <tr>\n",
       "      <th>704</th>\n",
       "      <td>ZTF20ablvrfp</td>\n",
       "      <td>3593756</td>\n",
       "      <td>Radio</td>\n",
       "      <td>Radio</td>\n",
       "      <td>316.483445</td>\n",
       "      <td>-9.200771</td>\n",
       "      <td>Radio</td>\n",
       "    </tr>\n",
       "    <tr>\n",
       "      <th>771</th>\n",
       "      <td>ZTF20aawiiij</td>\n",
       "      <td>3454483</td>\n",
       "      <td>Radio</td>\n",
       "      <td>Radio</td>\n",
       "      <td>301.121761</td>\n",
       "      <td>-2.152720</td>\n",
       "      <td>Radio</td>\n",
       "    </tr>\n",
       "    <tr>\n",
       "      <th>1083</th>\n",
       "      <td>ZTF19aaxpwdm</td>\n",
       "      <td>4065482</td>\n",
       "      <td>Radio</td>\n",
       "      <td>Radio</td>\n",
       "      <td>209.710834</td>\n",
       "      <td>-7.067122</td>\n",
       "      <td>Radio</td>\n",
       "    </tr>\n",
       "    <tr>\n",
       "      <th>1124</th>\n",
       "      <td>ZTF18acetvcr</td>\n",
       "      <td>4092797</td>\n",
       "      <td>Radio</td>\n",
       "      <td>Radio</td>\n",
       "      <td>349.989136</td>\n",
       "      <td>-5.115926</td>\n",
       "      <td>Radio</td>\n",
       "    </tr>\n",
       "    <tr>\n",
       "      <th>1238</th>\n",
       "      <td>ZTF19aarqoar</td>\n",
       "      <td>3716876</td>\n",
       "      <td>Radio(cm)</td>\n",
       "      <td>Radio(cm)</td>\n",
       "      <td>139.181793</td>\n",
       "      <td>-2.985775</td>\n",
       "      <td>Radio</td>\n",
       "    </tr>\n",
       "  </tbody>\n",
       "</table>\n",
       "</div>"
      ],
      "text/plain": [
       "          objectId matched_id      class  cdsxmatch          ra       dec  \\\n",
       "276   ZTF19aasqdci    3445010      Radio      Radio  190.376491 -7.281918   \n",
       "432   ZTF20aawijfi    3523466      Radio      Radio  300.994103  0.733969   \n",
       "549   ZTF19aadffas    3789407  Radio(cm)  Radio(cm)  160.937060 -6.482035   \n",
       "602   ZTF18abqsfre    3187458      Radio      Radio   19.576867  2.968363   \n",
       "704   ZTF20ablvrfp    3593756      Radio      Radio  316.483445 -9.200771   \n",
       "771   ZTF20aawiiij    3454483      Radio      Radio  301.121761 -2.152720   \n",
       "1083  ZTF19aaxpwdm    4065482      Radio      Radio  209.710834 -7.067122   \n",
       "1124  ZTF18acetvcr    4092797      Radio      Radio  349.989136 -5.115926   \n",
       "1238  ZTF19aarqoar    3716876  Radio(cm)  Radio(cm)  139.181793 -2.985775   \n",
       "\n",
       "     family  \n",
       "276   Radio  \n",
       "432   Radio  \n",
       "549   Radio  \n",
       "602   Radio  \n",
       "704   Radio  \n",
       "771   Radio  \n",
       "1083  Radio  \n",
       "1124  Radio  \n",
       "1238  Radio  "
      ]
     },
     "execution_count": 21,
     "metadata": {},
     "output_type": "execute_result"
    }
   ],
   "source": [
    "candidate_cmf.query('family == \"Radio\"')"
   ]
  },
  {
   "cell_type": "code",
   "execution_count": 32,
   "id": "ed31aecc-6255-443f-898a-18af47e62b72",
   "metadata": {},
   "outputs": [
    {
     "data": {
      "image/png": "[encoded data removed]",
      "text/plain": [
       "<Figure size 864x360 with 1 Axes>"
      ]
     },
     "metadata": {
      "needs_background": "light"
     },
     "output_type": "display_data"
    }
   ],
   "source": [
    "plot_photometry(fsd_source)"
   ]
  },
  {
   "cell_type": "code",
   "execution_count": 30,
   "id": "ab48910e-69c1-4ed5-af8a-1b8122a627e5",
   "metadata": {},
   "outputs": [
    {
     "data": {
      "image/png": "[encoded data removed]",
      "text/plain": [
       "<Figure size 864x360 with 1 Axes>"
      ]
     },
     "execution_count": 30,
     "metadata": {},
     "output_type": "execute_result"
    },
    {
     "data": {
      "image/png": "[encoded data removed]",
      "text/plain": [
       "<Figure size 864x360 with 1 Axes>"
      ]
     },
     "metadata": {
      "needs_background": "light"
     },
     "output_type": "display_data"
    }
   ],
   "source": [
    "#getting info from specific source\n",
    "vast_source=my_run.get_source(3989111)\n",
    "#plotting the light curve of that specific source\n",
    "vast_source.plot_lightcurve(figsize=(12,5))"
   ]
  },
  {
   "cell_type": "code",
   "execution_count": 10,
   "id": "78d6843d-98a5-4649-9077-de4bc971bdbf",
   "metadata": {},
   "outputs": [],
   "source": [
    "from vasttools.pipeline import Pipeline\n",
    "from vasttools.query import Query"
   ]
  }
 ],
 "metadata": {
  "kernelspec": {
   "display_name": "Python 3 (ipykernel)",
   "language": "python",
   "name": "python3"
  },
  "language_info": {
   "codemirror_mode": {
    "name": "ipython",
    "version": 3
   },
   "file_extension": ".py",
   "mimetype": "text/x-python",
   "name": "python",
   "nbconvert_exporter": "python",
   "pygments_lexer": "ipython3",
   "version": "3.9.5"
  }
 },
 "nbformat": 4,
 "nbformat_minor": 5
}
