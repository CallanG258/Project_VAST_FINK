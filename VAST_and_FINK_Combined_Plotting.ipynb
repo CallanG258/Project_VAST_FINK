{
 "cells": [
  {
   "cell_type": "markdown",
   "id": "2462ebc8-71e0-4a7d-8729-7b3cf44da9e4",
   "metadata": {},
   "source": [
    "# VAST And FINK Combined Lightcurve Plotting"
   ]
  },
  {
   "cell_type": "markdown",
   "id": "6a00bcdc-f61d-43ce-8275-13e9e4393bd7",
   "metadata": {},
   "source": [
    "This notebook is for Plotting the optical and radio variant sources side by side, as well as a starting point for seeing how to combine the data from both plots into one. This will involve some unit conversions (mag --> mJy, & Julian Date --> yyyy/mm/dd)"
   ]
  },
  {
   "cell_type": "code",
   "execution_count": 30,
   "id": "60679324-73b5-4272-8eac-fcd1881d69f3",
   "metadata": {},
   "outputs": [],
   "source": [
    "#here are the necessary imports\n",
    "import os\n",
    "import requests\n",
    "import pandas as pd\n",
    "import numpy as np\n",
    "import matplotlib.pyplot as plt\n",
    "from io import StringIO\n",
    "from vasttools.pipeline import Pipeline\n",
    "from vasttools.query import Query\n",
    "import Projecttools as pro #brand new module for frequently used code!\n",
    "\n",
    "%matplotlib inline"
   ]
  },
  {
   "cell_type": "markdown",
   "id": "4f441278-7ffa-436f-877b-ffed5361f168",
   "metadata": {},
   "source": [
    "Now... for some mystical and magical reason, if you import vasttools BEFORE plotting the optical lightcurve, the optical plot wont show. I dont know why, I've triple checked this. So, when you go to execute the code in this notebook, you'll have to jump around the cells until we figure out why this bug is happening"
   ]
  },
  {
   "cell_type": "code",
   "execution_count": 4,
   "id": "bba3c68e-e5e7-459c-857d-b9105aad7914",
   "metadata": {},
   "outputs": [
    {
     "data": {
      "text/plain": [
       "family\n",
       "AGN                827\n",
       "Galaxy             167\n",
       "Multiwavelength     39\n",
       "Radio               70\n",
       "Solar System        81\n",
       "Star                21\n",
       "Supernova           51\n",
       "Unknown            516\n",
       "dtype: int64"
      ]
     },
     "execution_count": 4,
     "metadata": {},
     "output_type": "execute_result"
    }
   ],
   "source": [
    "cms = pd.read_pickle('Fink_2020_sources_matched_to_VAST_all_sources.pickle')\n",
    "pro.family_sort(cms)\n",
    "cms.groupby('family').size()"
   ]
  },
  {
   "cell_type": "code",
   "execution_count": 51,
   "id": "60345741-7556-4bd8-990b-6b685c12fcd8",
   "metadata": {},
   "outputs": [],
   "source": [
    "#defining the photometry plotting function here to save having to rerun it everytime:\n",
    "\n",
    "def plot_photometry(pdf,VAST_ID):\n",
    "    \n",
    "    #Over here, Dougal!\n",
    "    vast_source=my_run.get_source(VAST_ID)\n",
    "    \n",
    "    fig = plt.figure(figsize=(12, 5))\n",
    "    ax1 = plt.subplot(211)\n",
    "     \n",
    "    vast_source.plot_lightcurve(figsize=(12,5),mjd=True)\n",
    "    \n",
    "    ax2 = plt.subplot(212, sharex = ax1)\n",
    "    \n",
    "    colordic = {1: 'C0', 2: 'C1'}\n",
    "    \n",
    "    for filt in np.unique(pdf['i:fid']):\n",
    "        maskFilt = pdf['i:fid'] == filt\n",
    "\n",
    "        # The column `d:tag` is used to check data type\n",
    "        maskValid = pdf['d:tag'] == 'valid'\n",
    "        plt.errorbar(\n",
    "            pdf[maskValid & maskFilt]['i:jd'].apply(lambda x: x - 2400000.5),\n",
    "            pdf[maskValid & maskFilt]['i:magpsf'],\n",
    "            pdf[maskValid & maskFilt]['i:sigmapsf'],\n",
    "            ls = '', marker='o', color=colordic[filt]\n",
    "        )\n",
    "\n",
    "        maskUpper = pdf['d:tag'] == 'upperlim'\n",
    "        plt.plot(\n",
    "            pdf[maskUpper & maskFilt]['i:jd'].apply(lambda x: x - 2400000.5),\n",
    "            pdf[maskUpper & maskFilt]['i:diffmaglim'],\n",
    "            ls='', marker='^', color=colordic[filt], markerfacecolor='none'\n",
    "        )\n",
    "\n",
    "        maskBadquality = pdf['d:tag'] == 'badquality'\n",
    "        plt.errorbar(\n",
    "            pdf[maskBadquality & maskFilt]['i:jd'].apply(lambda x: x - 2400000.5),\n",
    "            pdf[maskBadquality & maskFilt]['i:magpsf'],\n",
    "            pdf[maskBadquality & maskFilt]['i:sigmapsf'],\n",
    "            ls='', marker='v', color=colordic[filt]\n",
    "        )\n",
    "\n",
    "    plt.gca().invert_yaxis()\n",
    "    plt.xlabel('Modified Julian Date')\n",
    "    plt.ylabel('Magnitude')\n",
    "    plt.show()"
   ]
  },
  {
   "cell_type": "markdown",
   "id": "cdfb7523-5c81-4a49-9ea6-0949e9aed871",
   "metadata": {},
   "source": [
    "## So lets start with the optical preamble:"
   ]
  },
  {
   "cell_type": "code",
   "execution_count": 9,
   "id": "49149f2f-d14d-499c-a000-97dfde4b5db4",
   "metadata": {},
   "outputs": [],
   "source": [
    "#retreiving object data for several objects at once using the objectId list (with upperlim):\n",
    "Idlist=cms['objectId'].to_list()\n",
    "\n",
    "#defining column array for cutouts\n",
    "cutouts=[\n",
    "'b:cutoutScience_stampData',\n",
    "'b:cutoutTemplate_stampData',\n",
    "'b:cutoutDifference_stampData'\n",
    "]\n",
    "\n",
    "#this is the request made to the fink portal to pull out the info for each source\n",
    "r = requests.post(\n",
    "  'https://fink-portal.org/api/v1/objects',\n",
    "  json={\n",
    "    'objectId': 'ZTF20abodlgl',\n",
    "    'output-format': 'json',\n",
    "    'withcutouts': 'True',\n",
    "    'cols': ','.join(cutouts),\n",
    "    'withupperlim': 'True' #important for lightcurve plotting\n",
    "  }\n",
    ")"
   ]
  },
  {
   "cell_type": "code",
   "execution_count": 10,
   "id": "28cb0af8-111f-4923-83d4-6cb57e5395c2",
   "metadata": {},
   "outputs": [],
   "source": [
    "#reads in json file data as DataFrame. fsd stands for 'FINK source data'\n",
    "fsd=pd.read_json(StringIO(r.content.decode()))"
   ]
  },
  {
   "cell_type": "code",
   "execution_count": 11,
   "id": "bc141204-01d4-499e-a853-72cc27032ac1",
   "metadata": {},
   "outputs": [],
   "source": [
    "#This is fairly simple, we just specify a ZTF ID from our fsd list:\n",
    "ID='ZTF20abodlgl'\n",
    "\n",
    "#then define a new variable 'fsd_source, which is just all the rows in fsd such that the key 'i:objectId' is our ID of interest:\n",
    "fsd_source=fsd[fsd['i:objectId'] == ID]"
   ]
  },
  {
   "cell_type": "markdown",
   "id": "84ede841-fe46-4904-9da8-fadd14285b1e",
   "metadata": {},
   "source": [
    "## Now, the radio preamble:"
   ]
  },
  {
   "cell_type": "code",
   "execution_count": 13,
   "id": "d82c40cc-4487-4c5b-8ac1-4fb7816d4bc2",
   "metadata": {},
   "outputs": [
    {
     "name": "stderr",
     "output_type": "stream",
     "text": [
      "/opt/conda/lib/python3.9/site-packages/vasttools/pipeline.py:2609: UserWarning: Measurements have been loaded with vaex.\n",
      "  warnings.warn(\"Measurements have been loaded with vaex.\")\n"
     ]
    }
   ],
   "source": [
    "#This will automatically find the base directory that needed to be specified\n",
    "pipe=Pipeline()\n",
    "#this way, we can also load specific runs from the VAST pipeline:\n",
    "my_run=pipe.load_run('tiles_corrected')"
   ]
  },
  {
   "cell_type": "code",
   "execution_count": null,
   "id": "22aa3f6e-ba57-4a9c-9e4a-ef10a3d9e7c4",
   "metadata": {},
   "outputs": [],
   "source": [
    "#this is the query string passed into the below function, which restricts the detected sources considered in the analysis. \n",
    "#Feel free to modify for different science goals.\n",
    "my_query_string = (\n",
    "    \"n_measurements >= 3 \"\n",
    "    \"& n_selavy >= 2 \" # source finder ~ ML\n",
    "    \"& n_neighbour_dist > 1./60.\"\n",
    "    \"& 0.8 < avg_compactness < 1.4 \"\n",
    "    \"& n_relations == 0\"\n",
    "    \"& max_snr >= 5.0\"\n",
    "    \"& v_peak > 0\"\n",
    ")"
   ]
  },
  {
   "cell_type": "code",
   "execution_count": null,
   "id": "0f0b11f3-9b2f-4a5a-8bdd-5bcdae818c4f",
   "metadata": {},
   "outputs": [],
   "source": [
    "#Im just putting the eta and v threshholds because the eta-v analysis takes an actual eternity to complete and I already\n",
    "#have the values here:\n",
    "eta_thresh=2.315552652171963\n",
    "v_thresh=0.2878888414273631"
   ]
  },
  {
   "cell_type": "code",
   "execution_count": null,
   "id": "cdc3ae1e-aee7-4975-9f6f-704b7f1c7e6a",
   "metadata": {},
   "outputs": [],
   "source": [
    "matched_ids=cmf['matched_id'].astype(int).to_list()"
   ]
  },
  {
   "cell_type": "code",
   "execution_count": null,
   "id": "ebe3989b-5b25-4cd8-9567-43f16b528120",
   "metadata": {},
   "outputs": [],
   "source": [
    "#this creates an arrray of sources from my_run that have the same ids as the catalogue, with the necessary eta and V information\n",
    "#for the plot\n",
    "sel=my_run.sources[my_run.sources.index.isin(matched_ids)]\n",
    "print(len(sel))"
   ]
  },
  {
   "cell_type": "code",
   "execution_count": null,
   "id": "a74cc4bf-7266-4686-b8b9-1a71995bd6c9",
   "metadata": {},
   "outputs": [],
   "source": [
    "#we already got the VAST info on our crossmatched sources through sel. we just need to filter for the highly variable\n",
    "#sources based on the eta and v threshholds we calculated before:\n",
    "candidate_sel = sel[(sel['eta_peak'] >= eta_thresh) & (sel['v_peak'] >= v_thresh)]\n",
    "\n",
    "#getting the sel_candidate ids is squirrely, since they're the row INDEX of the dataframe. \n",
    "#passing eta_v_candidates['id'] will not work. The below code pulls out those index values as a string list:\n",
    "candidate_ids=candidate_sel.index.values.astype('str').tolist()\n",
    "\n",
    "#then we just check how many objects in cmf have an id that match the candidate ids\n",
    "candidate_cmf=cmf[cmf['matched_id'].isin(candidate_ids)]"
   ]
  },
  {
   "cell_type": "markdown",
   "id": "c08ad4a1-588b-4199-8329-619e0bc1abe5",
   "metadata": {},
   "source": [
    "## Candidate Selection and Plotting"
   ]
  },
  {
   "cell_type": "code",
   "execution_count": null,
   "id": "2881f1ce-fcea-4676-9c94-ef49b0a0fc56",
   "metadata": {},
   "outputs": [],
   "source": [
    "candidate_cmf.query('family == \"Radio\"')"
   ]
  },
  {
   "cell_type": "code",
   "execution_count": 52,
   "id": "ed31aecc-6255-443f-898a-18af47e62b72",
   "metadata": {},
   "outputs": [
    {
     "data": {
      "image/png": "[encoded data removed]",
      "text/plain": [
       "<Figure size 864x360 with 1 Axes>"
      ]
     },
     "metadata": {
      "needs_background": "light"
     },
     "output_type": "display_data"
    },
    {
     "data": {
      "image/png": "[encoded data removed]",
      "text/plain": [
       "<Figure size 864x360 with 1 Axes>"
      ]
     },
     "metadata": {
      "needs_background": "light"
     },
     "output_type": "display_data"
    },
    {
     "data": {
      "image/png": "[encoded data removed]",
      "text/plain": [
       "<Figure size 864x360 with 1 Axes>"
      ]
     },
     "metadata": {
      "needs_background": "light"
     },
     "output_type": "display_data"
    }
   ],
   "source": [
    "plot_photometry(fsd_source,3245685)"
   ]
  },
  {
   "cell_type": "code",
   "execution_count": 54,
   "id": "ab48910e-69c1-4ed5-af8a-1b8122a627e5",
   "metadata": {},
   "outputs": [
    {
     "data": {
      "image/png": "[encoded data removed]",
      "text/plain": [
       "<Figure size 864x360 with 1 Axes>"
      ]
     },
     "metadata": {
      "needs_background": "light"
     },
     "output_type": "display_data"
    }
   ],
   "source": [
    "#getting info from specific source\n",
    "vast_source=my_run.get_source(3245685)\n",
    "#plotting the light curve of that specific source\n",
    "fig = vast_source.plot_lightcurve()"
   ]
  },
  {
   "cell_type": "code",
   "execution_count": 63,
   "id": "19ca4ee1-04e0-4a3d-bef8-340b06d3170c",
   "metadata": {},
   "outputs": [
    {
     "data": {
      "text/html": [
       "<div>\n",
       "<style scoped>\n",
       "    .dataframe tbody tr th:only-of-type {\n",
       "        vertical-align: middle;\n",
       "    }\n",
       "\n",
       "    .dataframe tbody tr th {\n",
       "        vertical-align: top;\n",
       "    }\n",
       "\n",
       "    .dataframe thead th {\n",
       "        text-align: right;\n",
       "    }\n",
       "</style>\n",
       "<table border=\"1\" class=\"dataframe\">\n",
       "  <thead>\n",
       "    <tr style=\"text-align: right;\">\n",
       "      <th></th>\n",
       "      <th>source</th>\n",
       "      <th>island_id</th>\n",
       "      <th>component_id</th>\n",
       "      <th>local_rms</th>\n",
       "      <th>ra</th>\n",
       "      <th>ra_err</th>\n",
       "      <th>dec</th>\n",
       "      <th>dec_err</th>\n",
       "      <th>flux_peak</th>\n",
       "      <th>flux_peak_err</th>\n",
       "      <th>...</th>\n",
       "      <th>id</th>\n",
       "      <th>image</th>\n",
       "      <th>rms</th>\n",
       "      <th>selavy</th>\n",
       "      <th>frequency</th>\n",
       "      <th>field</th>\n",
       "      <th>epoch</th>\n",
       "      <th>stokes</th>\n",
       "      <th>skycoord</th>\n",
       "      <th>detection</th>\n",
       "    </tr>\n",
       "  </thead>\n",
       "  <tbody>\n",
       "    <tr>\n",
       "      <th>0</th>\n",
       "      <td>3245685</td>\n",
       "      <td>CS_0241-06A_island_3834</td>\n",
       "      <td>CS_0241-06A_component_3834a</td>\n",
       "      <td>0.287000</td>\n",
       "      <td>40.481297</td>\n",
       "      <td>0.000350</td>\n",
       "      <td>-3.780322</td>\n",
       "      <td>0.000388</td>\n",
       "      <td>1.526000</td>\n",
       "      <td>0.288730</td>\n",
       "      <td>...</td>\n",
       "      <td>16208821</td>\n",
       "      <td>/data/vast-survey/pilot_corrected_racs_cres/EP...</td>\n",
       "      <td>/data/vast-survey/pilot_corrected_racs_cres/EP...</td>\n",
       "      <td>/data/vast-pipeline/vast-pipeline/pipeline-run...</td>\n",
       "      <td>887.0</td>\n",
       "      <td>tiles_corrected</td>\n",
       "      <td>1</td>\n",
       "      <td>I</td>\n",
       "      <td>&lt;SkyCoord (ICRS): (ra, dec) in deg\\n    (40.48...</td>\n",
       "      <td>True</td>\n",
       "    </tr>\n",
       "    <tr>\n",
       "      <th>1</th>\n",
       "      <td>3245685</td>\n",
       "      <td>SB9667_VAST_0241-06A_island_3945</td>\n",
       "      <td>SB9667_VAST_0241-06A_component_3945a</td>\n",
       "      <td>0.337000</td>\n",
       "      <td>40.481731</td>\n",
       "      <td>0.000601</td>\n",
       "      <td>-3.780186</td>\n",
       "      <td>0.000448</td>\n",
       "      <td>1.617000</td>\n",
       "      <td>0.349086</td>\n",
       "      <td>...</td>\n",
       "      <td>16541973</td>\n",
       "      <td>/data/vast-survey/pilot_corrected_racs_cres/EP...</td>\n",
       "      <td>/data/vast-survey/pilot_corrected_racs_cres/EP...</td>\n",
       "      <td>/data/vast-pipeline/vast-pipeline/pipeline-run...</td>\n",
       "      <td>887.0</td>\n",
       "      <td>tiles_corrected</td>\n",
       "      <td>2</td>\n",
       "      <td>I</td>\n",
       "      <td>&lt;SkyCoord (ICRS): (ra, dec) in deg\\n    (40.48...</td>\n",
       "      <td>True</td>\n",
       "    </tr>\n",
       "    <tr>\n",
       "      <th>2</th>\n",
       "      <td>3245685</td>\n",
       "      <td>SB10323_VAST_0241-06A_island_4886</td>\n",
       "      <td>SB10323_VAST_0241-06A_component_4886a</td>\n",
       "      <td>0.298952</td>\n",
       "      <td>40.481281</td>\n",
       "      <td>0.000003</td>\n",
       "      <td>-3.780250</td>\n",
       "      <td>0.000003</td>\n",
       "      <td>2.269510</td>\n",
       "      <td>0.298952</td>\n",
       "      <td>...</td>\n",
       "      <td>23090746</td>\n",
       "      <td>/data/vast-survey/pilot_corrected_racs_cres/EP...</td>\n",
       "      <td>/data/vast-survey/pilot_corrected_racs_cres/EP...</td>\n",
       "      <td>/data/vast-pipeline/vast-pipeline/pipeline-run...</td>\n",
       "      <td>887.0</td>\n",
       "      <td>tiles_corrected</td>\n",
       "      <td>3</td>\n",
       "      <td>I</td>\n",
       "      <td>&lt;SkyCoord (ICRS): (ra, dec) in deg\\n    (40.48...</td>\n",
       "      <td>False</td>\n",
       "    </tr>\n",
       "    <tr>\n",
       "      <th>3</th>\n",
       "      <td>3245685</td>\n",
       "      <td>SB10888_island_4348</td>\n",
       "      <td>SB10888_component_4348a</td>\n",
       "      <td>0.274000</td>\n",
       "      <td>40.481026</td>\n",
       "      <td>0.000281</td>\n",
       "      <td>-3.780187</td>\n",
       "      <td>0.000284</td>\n",
       "      <td>1.471000</td>\n",
       "      <td>0.281196</td>\n",
       "      <td>...</td>\n",
       "      <td>17867603</td>\n",
       "      <td>/data/vast-survey/pilot_corrected_racs_cres/EP...</td>\n",
       "      <td>/data/vast-survey/pilot_corrected_racs_cres/EP...</td>\n",
       "      <td>/data/vast-pipeline/vast-pipeline/pipeline-run...</td>\n",
       "      <td>887.0</td>\n",
       "      <td>tiles_corrected</td>\n",
       "      <td>4</td>\n",
       "      <td>I</td>\n",
       "      <td>&lt;SkyCoord (ICRS): (ra, dec) in deg\\n    (40.48...</td>\n",
       "      <td>True</td>\n",
       "    </tr>\n",
       "    <tr>\n",
       "      <th>4</th>\n",
       "      <td>3245685</td>\n",
       "      <td>SB11107_island_5260</td>\n",
       "      <td>SB11107_component_5260a</td>\n",
       "      <td>0.277403</td>\n",
       "      <td>40.481281</td>\n",
       "      <td>0.000003</td>\n",
       "      <td>-3.780250</td>\n",
       "      <td>0.000003</td>\n",
       "      <td>-5.545616</td>\n",
       "      <td>0.277403</td>\n",
       "      <td>...</td>\n",
       "      <td>23094853</td>\n",
       "      <td>/data/vast-survey/pilot_corrected_racs_cres/EP...</td>\n",
       "      <td>/data/vast-survey/pilot_corrected_racs_cres/EP...</td>\n",
       "      <td>/data/vast-pipeline/vast-pipeline/pipeline-run...</td>\n",
       "      <td>887.0</td>\n",
       "      <td>tiles_corrected</td>\n",
       "      <td>5</td>\n",
       "      <td>I</td>\n",
       "      <td>&lt;SkyCoord (ICRS): (ra, dec) in deg\\n    (40.48...</td>\n",
       "      <td>False</td>\n",
       "    </tr>\n",
       "    <tr>\n",
       "      <th>5</th>\n",
       "      <td>3245685</td>\n",
       "      <td>SB11195_island_4943</td>\n",
       "      <td>SB11195_component_4943a</td>\n",
       "      <td>0.304936</td>\n",
       "      <td>40.481281</td>\n",
       "      <td>0.000003</td>\n",
       "      <td>-3.780250</td>\n",
       "      <td>0.000003</td>\n",
       "      <td>-0.452832</td>\n",
       "      <td>0.304936</td>\n",
       "      <td>...</td>\n",
       "      <td>23098394</td>\n",
       "      <td>/data/vast-survey/pilot_corrected_racs_cres/EP...</td>\n",
       "      <td>/data/vast-survey/pilot_corrected_racs_cres/EP...</td>\n",
       "      <td>/data/vast-pipeline/vast-pipeline/pipeline-run...</td>\n",
       "      <td>887.0</td>\n",
       "      <td>tiles_corrected</td>\n",
       "      <td>6</td>\n",
       "      <td>I</td>\n",
       "      <td>&lt;SkyCoord (ICRS): (ra, dec) in deg\\n    (40.48...</td>\n",
       "      <td>False</td>\n",
       "    </tr>\n",
       "    <tr>\n",
       "      <th>6</th>\n",
       "      <td>3245685</td>\n",
       "      <td>SB11450_island_4495</td>\n",
       "      <td>SB11450_component_4495a</td>\n",
       "      <td>0.295000</td>\n",
       "      <td>40.481926</td>\n",
       "      <td>0.000730</td>\n",
       "      <td>-3.779999</td>\n",
       "      <td>0.000290</td>\n",
       "      <td>1.389000</td>\n",
       "      <td>0.291932</td>\n",
       "      <td>...</td>\n",
       "      <td>19228518</td>\n",
       "      <td>/data/vast-survey/pilot_corrected_racs_cres/EP...</td>\n",
       "      <td>/data/vast-survey/pilot_corrected_racs_cres/EP...</td>\n",
       "      <td>/data/vast-pipeline/vast-pipeline/pipeline-run...</td>\n",
       "      <td>887.0</td>\n",
       "      <td>tiles_corrected</td>\n",
       "      <td>7</td>\n",
       "      <td>I</td>\n",
       "      <td>&lt;SkyCoord (ICRS): (ra, dec) in deg\\n    (40.48...</td>\n",
       "      <td>True</td>\n",
       "    </tr>\n",
       "    <tr>\n",
       "      <th>7</th>\n",
       "      <td>3245685</td>\n",
       "      <td>SB11522_island_4026</td>\n",
       "      <td>SB11522_component_4026a</td>\n",
       "      <td>0.300000</td>\n",
       "      <td>40.481724</td>\n",
       "      <td>0.000689</td>\n",
       "      <td>-3.780384</td>\n",
       "      <td>0.000307</td>\n",
       "      <td>1.563000</td>\n",
       "      <td>0.313523</td>\n",
       "      <td>...</td>\n",
       "      <td>19880097</td>\n",
       "      <td>/data/vast-survey/pilot_corrected_racs_cres/EP...</td>\n",
       "      <td>/data/vast-survey/pilot_corrected_racs_cres/EP...</td>\n",
       "      <td>/data/vast-pipeline/vast-pipeline/pipeline-run...</td>\n",
       "      <td>887.0</td>\n",
       "      <td>tiles_corrected</td>\n",
       "      <td>8</td>\n",
       "      <td>I</td>\n",
       "      <td>&lt;SkyCoord (ICRS): (ra, dec) in deg\\n    (40.48...</td>\n",
       "      <td>True</td>\n",
       "    </tr>\n",
       "    <tr>\n",
       "      <th>8</th>\n",
       "      <td>3245685</td>\n",
       "      <td>SB14879_VAST_0241-06A_island_3999</td>\n",
       "      <td>SB14879_VAST_0241-06A_component_3999a</td>\n",
       "      <td>0.248000</td>\n",
       "      <td>40.481010</td>\n",
       "      <td>0.000310</td>\n",
       "      <td>-3.780314</td>\n",
       "      <td>0.000189</td>\n",
       "      <td>1.704000</td>\n",
       "      <td>0.255488</td>\n",
       "      <td>...</td>\n",
       "      <td>20589151</td>\n",
       "      <td>/data/vast-survey/pilot_corrected_racs_cres/EP...</td>\n",
       "      <td>/data/vast-survey/pilot_corrected_racs_cres/EP...</td>\n",
       "      <td>/data/vast-pipeline/vast-pipeline/pipeline-run...</td>\n",
       "      <td>887.0</td>\n",
       "      <td>tiles_corrected</td>\n",
       "      <td>9</td>\n",
       "      <td>I</td>\n",
       "      <td>&lt;SkyCoord (ICRS): (ra, dec) in deg\\n    (40.48...</td>\n",
       "      <td>True</td>\n",
       "    </tr>\n",
       "    <tr>\n",
       "      <th>9</th>\n",
       "      <td>3245685</td>\n",
       "      <td>SB15644_island_4782</td>\n",
       "      <td>SB15644_component_4782a</td>\n",
       "      <td>0.316286</td>\n",
       "      <td>40.481281</td>\n",
       "      <td>0.000003</td>\n",
       "      <td>-3.780250</td>\n",
       "      <td>0.000003</td>\n",
       "      <td>4.507833</td>\n",
       "      <td>0.316286</td>\n",
       "      <td>...</td>\n",
       "      <td>23113068</td>\n",
       "      <td>/data/vast-survey/pilot_corrected_racs_cres/EP...</td>\n",
       "      <td>/data/vast-survey/pilot_corrected_racs_cres/EP...</td>\n",
       "      <td>/data/vast-pipeline/vast-pipeline/pipeline-run...</td>\n",
       "      <td>887.0</td>\n",
       "      <td>tiles_corrected</td>\n",
       "      <td>10</td>\n",
       "      <td>I</td>\n",
       "      <td>&lt;SkyCoord (ICRS): (ra, dec) in deg\\n    (40.48...</td>\n",
       "      <td>False</td>\n",
       "    </tr>\n",
       "  </tbody>\n",
       "</table>\n",
       "<p>10 rows × 51 columns</p>\n",
       "</div>"
      ],
      "text/plain": [
       "    source                          island_id  \\\n",
       "0  3245685            CS_0241-06A_island_3834   \n",
       "1  3245685   SB9667_VAST_0241-06A_island_3945   \n",
       "2  3245685  SB10323_VAST_0241-06A_island_4886   \n",
       "3  3245685                SB10888_island_4348   \n",
       "4  3245685                SB11107_island_5260   \n",
       "5  3245685                SB11195_island_4943   \n",
       "6  3245685                SB11450_island_4495   \n",
       "7  3245685                SB11522_island_4026   \n",
       "8  3245685  SB14879_VAST_0241-06A_island_3999   \n",
       "9  3245685                SB15644_island_4782   \n",
       "\n",
       "                            component_id  local_rms         ra    ra_err  \\\n",
       "0            CS_0241-06A_component_3834a   0.287000  40.481297  0.000350   \n",
       "1   SB9667_VAST_0241-06A_component_3945a   0.337000  40.481731  0.000601   \n",
       "2  SB10323_VAST_0241-06A_component_4886a   0.298952  40.481281  0.000003   \n",
       "3                SB10888_component_4348a   0.274000  40.481026  0.000281   \n",
       "4                SB11107_component_5260a   0.277403  40.481281  0.000003   \n",
       "5                SB11195_component_4943a   0.304936  40.481281  0.000003   \n",
       "6                SB11450_component_4495a   0.295000  40.481926  0.000730   \n",
       "7                SB11522_component_4026a   0.300000  40.481724  0.000689   \n",
       "8  SB14879_VAST_0241-06A_component_3999a   0.248000  40.481010  0.000310   \n",
       "9                SB15644_component_4782a   0.316286  40.481281  0.000003   \n",
       "\n",
       "        dec   dec_err  flux_peak  flux_peak_err  ...        id  \\\n",
       "0 -3.780322  0.000388   1.526000       0.288730  ...  16208821   \n",
       "1 -3.780186  0.000448   1.617000       0.349086  ...  16541973   \n",
       "2 -3.780250  0.000003   2.269510       0.298952  ...  23090746   \n",
       "3 -3.780187  0.000284   1.471000       0.281196  ...  17867603   \n",
       "4 -3.780250  0.000003  -5.545616       0.277403  ...  23094853   \n",
       "5 -3.780250  0.000003  -0.452832       0.304936  ...  23098394   \n",
       "6 -3.779999  0.000290   1.389000       0.291932  ...  19228518   \n",
       "7 -3.780384  0.000307   1.563000       0.313523  ...  19880097   \n",
       "8 -3.780314  0.000189   1.704000       0.255488  ...  20589151   \n",
       "9 -3.780250  0.000003   4.507833       0.316286  ...  23113068   \n",
       "\n",
       "                                               image  \\\n",
       "0  /data/vast-survey/pilot_corrected_racs_cres/EP...   \n",
       "1  /data/vast-survey/pilot_corrected_racs_cres/EP...   \n",
       "2  /data/vast-survey/pilot_corrected_racs_cres/EP...   \n",
       "3  /data/vast-survey/pilot_corrected_racs_cres/EP...   \n",
       "4  /data/vast-survey/pilot_corrected_racs_cres/EP...   \n",
       "5  /data/vast-survey/pilot_corrected_racs_cres/EP...   \n",
       "6  /data/vast-survey/pilot_corrected_racs_cres/EP...   \n",
       "7  /data/vast-survey/pilot_corrected_racs_cres/EP...   \n",
       "8  /data/vast-survey/pilot_corrected_racs_cres/EP...   \n",
       "9  /data/vast-survey/pilot_corrected_racs_cres/EP...   \n",
       "\n",
       "                                                 rms  \\\n",
       "0  /data/vast-survey/pilot_corrected_racs_cres/EP...   \n",
       "1  /data/vast-survey/pilot_corrected_racs_cres/EP...   \n",
       "2  /data/vast-survey/pilot_corrected_racs_cres/EP...   \n",
       "3  /data/vast-survey/pilot_corrected_racs_cres/EP...   \n",
       "4  /data/vast-survey/pilot_corrected_racs_cres/EP...   \n",
       "5  /data/vast-survey/pilot_corrected_racs_cres/EP...   \n",
       "6  /data/vast-survey/pilot_corrected_racs_cres/EP...   \n",
       "7  /data/vast-survey/pilot_corrected_racs_cres/EP...   \n",
       "8  /data/vast-survey/pilot_corrected_racs_cres/EP...   \n",
       "9  /data/vast-survey/pilot_corrected_racs_cres/EP...   \n",
       "\n",
       "                                              selavy  frequency  \\\n",
       "0  /data/vast-pipeline/vast-pipeline/pipeline-run...      887.0   \n",
       "1  /data/vast-pipeline/vast-pipeline/pipeline-run...      887.0   \n",
       "2  /data/vast-pipeline/vast-pipeline/pipeline-run...      887.0   \n",
       "3  /data/vast-pipeline/vast-pipeline/pipeline-run...      887.0   \n",
       "4  /data/vast-pipeline/vast-pipeline/pipeline-run...      887.0   \n",
       "5  /data/vast-pipeline/vast-pipeline/pipeline-run...      887.0   \n",
       "6  /data/vast-pipeline/vast-pipeline/pipeline-run...      887.0   \n",
       "7  /data/vast-pipeline/vast-pipeline/pipeline-run...      887.0   \n",
       "8  /data/vast-pipeline/vast-pipeline/pipeline-run...      887.0   \n",
       "9  /data/vast-pipeline/vast-pipeline/pipeline-run...      887.0   \n",
       "\n",
       "             field  epoch  stokes  \\\n",
       "0  tiles_corrected      1       I   \n",
       "1  tiles_corrected      2       I   \n",
       "2  tiles_corrected      3       I   \n",
       "3  tiles_corrected      4       I   \n",
       "4  tiles_corrected      5       I   \n",
       "5  tiles_corrected      6       I   \n",
       "6  tiles_corrected      7       I   \n",
       "7  tiles_corrected      8       I   \n",
       "8  tiles_corrected      9       I   \n",
       "9  tiles_corrected     10       I   \n",
       "\n",
       "                                            skycoord  detection  \n",
       "0  <SkyCoord (ICRS): (ra, dec) in deg\\n    (40.48...       True  \n",
       "1  <SkyCoord (ICRS): (ra, dec) in deg\\n    (40.48...       True  \n",
       "2  <SkyCoord (ICRS): (ra, dec) in deg\\n    (40.48...      False  \n",
       "3  <SkyCoord (ICRS): (ra, dec) in deg\\n    (40.48...       True  \n",
       "4  <SkyCoord (ICRS): (ra, dec) in deg\\n    (40.48...      False  \n",
       "5  <SkyCoord (ICRS): (ra, dec) in deg\\n    (40.48...      False  \n",
       "6  <SkyCoord (ICRS): (ra, dec) in deg\\n    (40.48...       True  \n",
       "7  <SkyCoord (ICRS): (ra, dec) in deg\\n    (40.48...       True  \n",
       "8  <SkyCoord (ICRS): (ra, dec) in deg\\n    (40.48...       True  \n",
       "9  <SkyCoord (ICRS): (ra, dec) in deg\\n    (40.48...      False  \n",
       "\n",
       "[10 rows x 51 columns]"
      ]
     },
     "execution_count": 63,
     "metadata": {},
     "output_type": "execute_result"
    }
   ],
   "source": [
    "my_run.get_source(3245685).measurements"
   ]
  },
  {
   "cell_type": "code",
   "execution_count": null,
   "id": "f9bbaa1c-42c7-4796-8007-5feb0cb0df6a",
   "metadata": {},
   "outputs": [],
   "source": [
    "fig, axes = plt.subplots(1, 3, figsize=(15, 6))\n",
    "\n",
    "for col in cutouts:\n",
    "    data = fsd_source[col].values[0]\n",
    "    axes[cutouts.index(col)].imshow(np.arcsinh(data))"
   ]
  },
  {
   "cell_type": "code",
   "execution_count": null,
   "id": "53a0b237-ee56-4629-b8b4-e0db8ce1e6f2",
   "metadata": {},
   "outputs": [],
   "source": [
    "cutout = vast_source.show_png_cutout('1')"
   ]
  },
  {
   "cell_type": "code",
   "execution_count": null,
   "id": "41265972-8974-493d-be56-25f10858b954",
   "metadata": {},
   "outputs": [],
   "source": [
    "all_cutouts = vast_source.show_all_png_cutouts(columns=3, figsize=(10,10))"
   ]
  },
  {
   "cell_type": "code",
   "execution_count": null,
   "id": "fe031dd5-465b-4122-8ee1-3e9e24194558",
   "metadata": {},
   "outputs": [],
   "source": []
  }
 ],
 "metadata": {
  "kernelspec": {
   "display_name": "Python 3 (ipykernel)",
   "language": "python",
   "name": "python3"
  },
  "language_info": {
   "codemirror_mode": {
    "name": "ipython",
    "version": 3
   },
   "file_extension": ".py",
   "mimetype": "text/x-python",
   "name": "python",
   "nbconvert_exporter": "python",
   "pygments_lexer": "ipython3",
   "version": "3.9.5"
  }
 },
 "nbformat": 4,
 "nbformat_minor": 5
}
